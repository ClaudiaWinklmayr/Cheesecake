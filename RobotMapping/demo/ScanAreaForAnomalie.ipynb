{
 "cells": [
  {
   "cell_type": "code",
   "execution_count": 1,
   "metadata": {},
   "outputs": [],
   "source": [
    "import time\n",
    "import numpy as np\n",
    "import py_at_broker as pab\n",
    "from IPython.display import clear_output\n",
    "import math as math\n",
    "import pandas as pd\n",
    "import pylab as pl\n",
    "import pickle as p\n",
    "from IPython import display\n",
    "import matplotlib.pyplot as plt\n",
    "#%matplotlib inline\n",
    "b = pab.broker()\n",
    "\n",
    "%load_ext autoreload\n",
    "%autoreload 2\n",
    "from toolbox import kinematic_mapping as km\n",
    "from toolbox import data_processing as dp\n",
    "from toolbox import movementtoolbox as mt \n",
    "from toolbox import obstacle_detector as od\n"
   ]
  },
  {
   "cell_type": "code",
   "execution_count": 2,
   "metadata": {},
   "outputs": [
    {
     "name": "stdout",
     "output_type": "stream",
     "text": [
      "Address broker could not acceppt the offered signal franka_target_pos. Is there another signal with the same name? Trying to reconnect\n",
      "Reconnection to signal <franka_target_pos> successful\n"
     ]
    },
    {
     "data": {
      "text/plain": [
       "True"
      ]
     },
     "execution_count": 2,
     "metadata": {},
     "output_type": "execute_result"
    }
   ],
   "source": [
    "b.register_signal('franka_target_pos', pab.MsgType.target_pos)"
   ]
  },
  {
   "cell_type": "code",
   "execution_count": 3,
   "metadata": {},
   "outputs": [
    {
     "data": {
      "text/plain": [
       "True"
      ]
     },
     "execution_count": 3,
     "metadata": {},
     "output_type": "execute_result"
    }
   ],
   "source": [
    "b.request_signal(\"franka_state\", pab.MsgType.franka_state, True)"
   ]
  },
  {
   "cell_type": "code",
   "execution_count": 4,
   "metadata": {
    "scrolled": true
   },
   "outputs": [
    {
     "data": {
      "text/plain": [
       "True"
      ]
     },
     "execution_count": 4,
     "metadata": {},
     "output_type": "execute_result"
    }
   ],
   "source": [
    "b.request_signal(\"franka_lidar\", pab.MsgType.franka_lidar)"
   ]
  },
  {
   "cell_type": "code",
   "execution_count": null,
   "metadata": {},
   "outputs": [],
   "source": [
    "#b.request_signal(\"realsense_images\", pab.MsgType.realsense_image)"
   ]
  },
  {
   "cell_type": "markdown",
   "metadata": {},
   "source": [
    "current_counter = 50020\n",
    "sleep_time = 0.5\n",
    "go_time = 0.15\n",
    "\n",
    "msg = b.recv_msg(\"franka_state\", 0)\n",
    "print(msg.get_fnumber())\n",
    "\n",
    "z = 0.7\n",
    "\n",
    "inside_range = True\n",
    "i = 10\n",
    "polarity = 1\n",
    "scaling=1.2\n",
    "\n",
    "change_height = 0 \n",
    "\n",
    "\n",
    "\n",
    "\n",
    "while z > 0.2 : \n",
    "    \n",
    "    polarity_old = polarity\n",
    "    \n",
    "    timeth=i/scaling\n",
    "    x, y = mt.create_spiral(timeth, 0.005)\n",
    "    pos = np.array([x, y, z])\n",
    "    frame=current_counter+1\n",
    "    target_msg, current_counter = mt.create_message(counter=frame, pos = pos, go_time=go_time*0.3*i)\n",
    "\n",
    "    \n",
    "    msg = b.recv_msg(\"franka_state\", 0)\n",
    "    \n",
    "    clear_output(wait = True)\n",
    "    print(pos)\n",
    "    print(polarity)\n",
    "    b.send_msg('franka_target_pos', target_msg)\n",
    "    time.sleep(sleep_time)\n",
    "    \n",
    "    i += polarity\n",
    "    \n",
    "    if x > 0.9: \n",
    "        polarity = -1\n",
    "    elif i == 10: \n",
    "        polarity = 1\n",
    "        \n",
    "    if polarity_old - polarity != 0: \n",
    "        change_height += 1\n",
    "    \n",
    "    if (change_height>0) and (change_height%2 == 0): \n",
    "        z -= 0.1\n",
    "        print('changed height to {}'.format(z))\n"
   ]
  },
  {
   "cell_type": "code",
   "execution_count": 5,
   "metadata": {},
   "outputs": [
    {
     "name": "stdout",
     "output_type": "stream",
     "text": [
      "<py_at_broker.fb_msg_new.franka_lidar_msg object at 0x7f3faa56c160>\n"
     ]
    }
   ],
   "source": [
    "lidar_msg = b.recv_msg(\"franka_lidar\", 1)\n",
    "print(lidar_msg)"
   ]
  },
  {
   "cell_type": "code",
   "execution_count": 6,
   "metadata": {},
   "outputs": [],
   "source": [
    "def create_globe(center_x, center_y, center_z, radius): \n",
    "    phi = np.random.vonmises(0, 2)\n",
    "    theta = np.random.vonmises(0, 2)\n",
    "    \n",
    "    x = radius*np.sin(theta)*np.cos(phi) + center_x\n",
    "    y = radius*np.sin(theta)*np.sin(phi) + center_y\n",
    "    z = radius*np.cos(theta) + center_z\n",
    "    \n",
    "    return np.array([x,y,z])"
   ]
  },
  {
   "cell_type": "markdown",
   "metadata": {},
   "source": [
    "\n",
    "predictor = lp.lidar_predictor(binning_params = {'max_value':1, 'bin_lenght':0.01 }, \n",
    "                   model_names=['models/model_lidar_new{}.h5'.format(i) for i in range(9)])"
   ]
  },
  {
   "cell_type": "code",
   "execution_count": 17,
   "metadata": {},
   "outputs": [],
   "source": [
    "def init_lidar_predictor(timesteps = 5): \n",
    "    predictor = lp.lidar_predictor(binning_params = {'max_value':1, 'bin_lenght':0.01 }, \n",
    "                   model_names=['models/lidar_models_proMp_and_random_5000Epochs/model_lidar_5000_epochs_{}.h5'.format(i) for i in range(9)])\n",
    "    \n",
    "    measurements = []\n",
    "    predictions = []\n",
    "    \n",
    "    print('initializing measurements: ', end ='')\n",
    "    for t in range(timesteps): \n",
    "        lidar_msg = b.recv_msg(\"franka_lidar\", 0)\n",
    "        state_msg = b.recv_msg(\"franka_state\", 0)  \n",
    "        prediction, measurement = predictor.predict_single(joint_data=state_msg.get_j_pos(), true_lidar=lidar_msg.get_data())\n",
    "        predictions.append(prediction)\n",
    "        measurements.append(measurement)\n",
    "        time.sleep(0.5)\n",
    "        print('.', end = '')\n",
    "    print('done')\n",
    "    return predictor, predictions, measurements\n",
    "\n",
    "        \n",
    "        \n",
    "    "
   ]
  },
  {
   "cell_type": "code",
   "execution_count": 18,
   "metadata": {},
   "outputs": [],
   "source": [
    "def calc_error(predictor, predictions, measurements, new_lidar, new_joints, threshold): \n",
    "    prediction, measurement = predictor.predict_single(joint_data=state_msg.get_j_pos(), true_lidar=lidar_msg.get_data())\n",
    "    \n",
    "    predictions.append(prediction)\n",
    "    predictions.pop(0)\n",
    "    \n",
    "    measurements.append(measurement)\n",
    "    measurements.pop(0)\n",
    "    \n",
    "    error = compare2threshold(np.array(predictions), np.array(measurements), threshold)\n",
    "    return error, predictions, measurements"
   ]
  },
  {
   "cell_type": "code",
   "execution_count": 19,
   "metadata": {},
   "outputs": [],
   "source": [
    "def compare2threshold(prediction, measurement, threshold): \n",
    "    # dim prediction = timestamps x lidars\n",
    "    \n",
    "    #prediction = np.reshape(prediction, (prediction.shape[0], prediction.shape[2]))\n",
    "    #measurement = np.reshape(measurement, (measurement.shape[0], measurement.shape[1]))\n",
    "    error = prediction-measurement # positive error means something is closer than expected\n",
    "    error = np.divide(error, prediction)\n",
    "    med_error = np.median(error, axis = 0) # calculate median over timestamps will ignore negantive and small values \n",
    "    #print(med_error)\n",
    "    if (med_error>threshold).any():\n",
    "        print('Deviation of {} in liadar {}.'.format(np.round(np.max(med_error), 2), np.argmax(med_error)))\n",
    "        #print(med_error)\n",
    "        return True, np.argmax(med_error)\n",
    "    else: \n",
    "        return False, None"
   ]
  },
  {
   "cell_type": "code",
   "execution_count": 20,
   "metadata": {},
   "outputs": [],
   "source": [
    "def check_approaching(measurements, index): \n",
    "    diff = np.median(np.diff(np.array(measurements)[:, index]))\n",
    "    if diff < 0: \n",
    "        print('approaching')"
   ]
  },
  {
   "cell_type": "code",
   "execution_count": 21,
   "metadata": {
    "scrolled": true
   },
   "outputs": [
    {
     "name": "stdout",
     "output_type": "stream",
     "text": [
      "The autoreload extension is already loaded. To reload it, use:\n",
      "  %reload_ext autoreload\n",
      "Done loading model 0\n",
      "Done loading model 1\n",
      "Done loading model 2\n",
      "Done loading model 3\n",
      "Done loading model 4\n",
      "Done loading model 5\n",
      "Done loading model 6\n",
      "Done loading model 7\n",
      "Done loading model 8\n",
      "initializing measurements: .....done\n"
     ]
    }
   ],
   "source": [
    "%load_ext autoreload\n",
    "%autoreload 2\n",
    "from toolbox import lidar_predictor as lp\n",
    "predictor, predictions, measurements = init_lidar_predictor()"
   ]
  },
  {
   "cell_type": "code",
   "execution_count": 22,
   "metadata": {},
   "outputs": [],
   "source": [
    "loc = od.localizer()"
   ]
  },
  {
   "cell_type": "code",
   "execution_count": 23,
   "metadata": {},
   "outputs": [
    {
     "name": "stdout",
     "output_type": "stream",
     "text": [
      "[ 0.56452154 -0.23238411  0.47842252]\n",
      "18\n",
      "Deviation of 0.87 in liadar 3.\n",
      "obstacle found in front left top\n",
      "[0.542 0.017 0.872]\n"
     ]
    },
    {
     "ename": "KeyboardInterrupt",
     "evalue": "",
     "output_type": "error",
     "traceback": [
      "\u001b[0;31m---------------------------------------------------------------------------\u001b[0m",
      "\u001b[0;31mKeyboardInterrupt\u001b[0m                         Traceback (most recent call last)",
      "\u001b[0;32m<ipython-input-23-f6c53740f975>\u001b[0m in \u001b[0;36m<module>\u001b[0;34m()\u001b[0m\n\u001b[1;32m     19\u001b[0m \u001b[0;34m\u001b[0m\u001b[0m\n\u001b[1;32m     20\u001b[0m \u001b[0;34m\u001b[0m\u001b[0m\n\u001b[0;32m---> 21\u001b[0;31m     \u001b[0mtime\u001b[0m\u001b[0;34m.\u001b[0m\u001b[0msleep\u001b[0m\u001b[0;34m(\u001b[0m\u001b[0;36m0.2\u001b[0m\u001b[0;34m)\u001b[0m\u001b[0;34m\u001b[0m\u001b[0m\n\u001b[0m\u001b[1;32m     22\u001b[0m     \u001b[0mstate_msg\u001b[0m \u001b[0;34m=\u001b[0m \u001b[0mb\u001b[0m\u001b[0;34m.\u001b[0m\u001b[0mrecv_msg\u001b[0m\u001b[0;34m(\u001b[0m\u001b[0;34m\"franka_state\"\u001b[0m\u001b[0;34m,\u001b[0m \u001b[0;36m0\u001b[0m\u001b[0;34m)\u001b[0m\u001b[0;34m\u001b[0m\u001b[0m\n\u001b[1;32m     23\u001b[0m     \u001b[0mlidar_msg\u001b[0m \u001b[0;34m=\u001b[0m \u001b[0mb\u001b[0m\u001b[0;34m.\u001b[0m\u001b[0mrecv_msg\u001b[0m\u001b[0;34m(\u001b[0m\u001b[0;34m\"franka_lidar\"\u001b[0m\u001b[0;34m,\u001b[0m \u001b[0;36m0\u001b[0m\u001b[0;34m)\u001b[0m\u001b[0;34m\u001b[0m\u001b[0m\n",
      "\u001b[0;31mKeyboardInterrupt\u001b[0m: "
     ]
    }
   ],
   "source": [
    "current_counter = 190\n",
    "filename = 'unnecessary_recording.p'\n",
    "\n",
    "cols = ['timestamp_franka', 'joint_pos', 'joint_vel', 'endeff_pos', \n",
    "        'timestamp_lidar', 'lidar_data']\n",
    "df = pd.DataFrame(columns = cols)\n",
    "\n",
    "state_msg = b.recv_msg(\"franka_state\", 0)  \n",
    "ref = state_msg.get_fnumber()\n",
    "\n",
    "poses = [[0.3, -0.3, 0.7], [0.3, 0.3, 0.7], [0.7, -0.3, 0.7], [0.7, 0.3, 0.7]]\n",
    "i = 0\n",
    "\n",
    "save_and_send = 0    \n",
    "lidars = []\n",
    "joints = []\n",
    "\n",
    "while True: \n",
    "    \n",
    "    \n",
    "    time.sleep(0.2)\n",
    "    state_msg = b.recv_msg(\"franka_state\", 0)\n",
    "    lidar_msg = b.recv_msg(\"franka_lidar\", 0)\n",
    "    \n",
    "    lidars.append(lidar_msg.get_data())\n",
    "    joints.append(state_msg.get_j_pos())\n",
    "    #print('reading lidar')\n",
    "    \n",
    "    #if state_msg.get_fnumber() == ref: \n",
    "    #    break\n",
    "\n",
    "    if save_and_send > 0.8:\n",
    "        #print('sending position')\n",
    "        state_msg = b.recv_msg(\"franka_state\", 0)  # then we get a signal from the state as fast as possible (tested)\n",
    "        #camera_msg = b.recv_msg(\"realsense_images\", 0)\n",
    "\n",
    "        #pred = predictor.predict_single(np.ones(7), lidar_msg.get_data(), plot =False)\n",
    "        joint_pos = state_msg.get_j_pos()\n",
    "        lidar_measurement = lidar_msg.get_data()\n",
    "\n",
    "\n",
    "\n",
    "        df2 = pd.DataFrame([state_msg.get_timestamp(), joint_pos, state_msg.get_j_vel(), state_msg.get_c_pos(), \n",
    "                         lidar_msg.get_timestamp(), lidar_measurement],cols)\n",
    "\n",
    "        df = df.append(df2.T, ignore_index = True)\n",
    "\n",
    "        ref = state_msg.get_fnumber()\n",
    "\n",
    "        #noise = np.random.normal(loc = 0, scale = 0.1, size =3)\n",
    "        #pos = np.array(poses[i%4]) + noise\n",
    "        pos = create_globe(50, 0, 30, 30)#, phi_old, theta_old) \n",
    "        pos = pos/100.\n",
    "\n",
    "        frame=current_counter+1\n",
    "        target_msg, current_counter = mt.create_message(counter=frame, pos = pos, go_time=3)\n",
    "        b.send_msg('franka_target_pos', target_msg)\n",
    "        i+=1\n",
    "        clear_output(wait = True)\n",
    "        print(pos)\n",
    "        print(i)\n",
    "        \n",
    "        \n",
    "        prediction, measurement = predictor.predict_timeseries(joint_data=np.array(joints), true_lidar=np.array(lidars))\n",
    "        error, idx = compare2threshold(prediction, measurement, 0.4)\n",
    "        if error: \n",
    "            obst = loc.localize_obstacle(joint_pos, lidar_measurement, idx)\n",
    "            print(obst)\n",
    "            time.sleep(5)\n",
    "            #print(measurement.shape)\n",
    "            #check_approaching(measurement, idx)\n",
    "            \n",
    "        save_and_send = 0\n",
    "        lidars = []\n",
    "        joints = []\n",
    "        \n",
    "\n",
    "        \n",
    "    save_and_send += 0.1\n",
    "    #error, predictions, measurements = calc_error(predictor, predictions, measurements, \\\n",
    "                                                  #lidar_msg.get_data(), state_msg.get_j_pos(), 0.2)\n",
    "    \n",
    "\n",
    "p.dump(df, open(filename, 'wb'))\n",
    "print('simulation stopped')    \n",
    "    "
   ]
  },
  {
   "cell_type": "code",
   "execution_count": null,
   "metadata": {},
   "outputs": [],
   "source": [
    "signal =  b.recv_msg(\"franka_lidar\", 0).get_data()\n",
    "joints = b.recv_msg(\"franka_state\", 0).get_j_pos()\n",
    "\n",
    "\n"
   ]
  },
  {
   "cell_type": "code",
   "execution_count": null,
   "metadata": {},
   "outputs": [],
   "source": [
    "frame=current_counter+1\n",
    "pos = np.array([0.7, 0.2,0.5])\n",
    "target_msg, current_counter = mt.create_message(counter=frame, pos = pos, go_time=3)\n",
    "b.send_msg('franka_target_pos', target_msg)"
   ]
  },
  {
   "cell_type": "code",
   "execution_count": null,
   "metadata": {},
   "outputs": [],
   "source": [
    "i=0\n",
    "lidars=[]\n",
    "joints=[]\n",
    "while i < 5:\n",
    "    time.sleep(0.1)\n",
    "    state_msg = b.recv_msg(\"franka_state\", 0)\n",
    "    lidar_msg = b.recv_msg(\"franka_lidar\", 0)\n",
    "    \n",
    "    lidars.append(lidar_msg.get_data())\n",
    "    joints.append(state_msg.get_j_pos())\n",
    "    i+=1\n",
    "\n",
    "prediction, measurement = predictor.predict_timeseries(joint_data=np.array(joints), true_lidar=np.array(lidars))\n",
    "\n",
    "error, idx = compare2threshold(prediction, measurement, 0.2)\n",
    "if error: \n",
    "    obst = loc.localize_obstacle(np.array(joints)[-1, :], measurement[-1, :], idx)\n",
    "    print(obst)\n",
    "else: \n",
    "    print('nothing in my way')\n",
    "\n",
    "    \n",
    "plt.figure(figsize = (9,9))\n",
    "T = prediction.shape[0]\n",
    "for i in range(9): \n",
    "    plt.subplot(3,3,i+1)\n",
    "    plt.scatter(np.arange(0,T,1), prediction[:, i], label = 'pred', s = 100, c = 'b')\n",
    "    plt.scatter(np.arange(0,T,1), measurement[:, i], label = 'measure', s = 100, c = 'r')\n",
    "    plt.title('Lidar ' + str(i))\n",
    "    plt.ylim(0, 1.2)\n",
    "plt.legend()\n",
    "plt.show()"
   ]
  },
  {
   "cell_type": "markdown",
   "metadata": {},
   "source": [
    "data = np.array([create_globe(70, 0, 30, 30) for i in range(1000)])\n",
    "import matplotlib.pyplot as plt\n",
    "%matplotlib notebook\n",
    "from mpl_toolkits.mplot3d import Axes3D\n",
    "fig = plt.figure()\n",
    "ax = fig.add_subplot(111, projection='3d')\n",
    "ax.scatter(xs = data[:, 0], ys=data[:, 1], zs=data[:, 2], zdir='z')\n",
    "plt.savefig('points_on_a_globe.jpg')"
   ]
  },
  {
   "cell_type": "markdown",
   "metadata": {},
   "source": [
    "    prediction, measurement = predictor.predict_single(joint_data=state_msg.get_j_pos(), true_lidar=lidar_msg.get_data())\n",
    "    error = prediction[0, :]-measurement[:, 0]\n",
    "    if np.max(error) > 0.3: \n",
    "        print('max err: ', np.max(error))\n",
    "        print('err in lidar: ', np.argmax(error))\n",
    "    "
   ]
  },
  {
   "cell_type": "code",
   "execution_count": null,
   "metadata": {},
   "outputs": [],
   "source": [
    "lidar_msg = b.recv_msg(\"franka_lidar\", 0)\n",
    "data = lidar_msg.get_data()"
   ]
  },
  {
   "cell_type": "code",
   "execution_count": null,
   "metadata": {},
   "outputs": [],
   "source": [
    "print(data)\n",
    "print(lp.lidar_preprocessing(np.reshape(data, (len(data), 1)))[:, 0])"
   ]
  },
  {
   "cell_type": "code",
   "execution_count": null,
   "metadata": {},
   "outputs": [],
   "source": [
    "measurement.shape"
   ]
  },
  {
   "cell_type": "code",
   "execution_count": null,
   "metadata": {},
   "outputs": [],
   "source": []
  }
 ],
 "metadata": {
  "kernelspec": {
   "display_name": "Python 3",
   "language": "python",
   "name": "python3"
  },
  "language_info": {
   "codemirror_mode": {
    "name": "ipython",
    "version": 3
   },
   "file_extension": ".py",
   "mimetype": "text/x-python",
   "name": "python",
   "nbconvert_exporter": "python",
   "pygments_lexer": "ipython3",
   "version": "3.6.5"
  }
 },
 "nbformat": 4,
 "nbformat_minor": 2
}
