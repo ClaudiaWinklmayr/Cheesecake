{
 "cells": [
  {
   "cell_type": "code",
   "execution_count": null,
   "metadata": {
    "collapsed": true
   },
   "outputs": [],
   "source": [
    "#Broker imports:\n",
    "import py_at_broker as pab\n",
    "from IPython.display import clear_output\n",
    "\n",
    "import pylab as pl\n",
    "import pickle as p\n",
    "import matplotlib.pyplot as plt\n",
    "%matplotlib inline\n",
    "b = pab.broker()\n",
    "\n",
    "%load_ext autoreload\n",
    "%autoreload 2\n",
    "from toolbox import data_processing as dp\n",
    "from toolbox import movementtoolbox as mt "
   ]
  }
 ],
 "metadata": {
  "kernelspec": {
   "display_name": "Python 3",
   "language": "python",
   "name": "python3"
  },
  "language_info": {
   "codemirror_mode": {
    "name": "ipython",
    "version": 3
   },
   "file_extension": ".py",
   "mimetype": "text/x-python",
   "name": "python",
   "nbconvert_exporter": "python",
   "pygments_lexer": "ipython3",
   "version": "3.6.2"
  }
 },
 "nbformat": 4,
 "nbformat_minor": 2
}
