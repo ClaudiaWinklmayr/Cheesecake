{
 "cells": [
  {
   "cell_type": "code",
   "execution_count": 1,
   "metadata": {},
   "outputs": [
    {
     "name": "stdout",
     "output_type": "stream",
     "text": [
      "The autoreload extension is already loaded. To reload it, use:\n",
      "  %reload_ext autoreload\n"
     ]
    }
   ],
   "source": [
    "#Broker imports:\n",
    "import py_at_broker as pab\n",
    "from IPython.display import clear_output\n",
    "\n",
    "import pylab as pl\n",
    "import pickle as p\n",
    "import matplotlib.pyplot as plt\n",
    "%matplotlib inline\n",
    "b = pab.broker()\n",
    "\n",
    "%load_ext autoreload\n",
    "%autoreload 2\n",
    "from toolbox import data_processing as dp\n",
    "from toolbox import movementtoolbox as mt \n",
    "#Non broker imports:\n",
    "\n",
    "from IPython import display\n",
    "import math as math\n",
    "import pandas as pd\n",
    "import time\n",
    "import cv2\n",
    "import numpy as np\n",
    "%load_ext autoreload\n",
    "%autoreload 2\n",
    "from toolbox import kinematic_mapping as km\n",
    "from robo_cheesecake.engine import *"
   ]
  },
  {
   "cell_type": "code",
   "execution_count": 2,
   "metadata": {
    "scrolled": true
   },
   "outputs": [
    {
     "name": "stdout",
     "output_type": "stream",
     "text": [
      "The autoreload extension is already loaded. To reload it, use:\n",
      "  %reload_ext autoreload\n"
     ]
    }
   ],
   "source": [
    "%load_ext autoreload\n",
    "%autoreload 2\n",
    "from toolbox import object_detection_toolbox as odt\n",
    "import os\n",
    "import tensorflow as tf\n",
    "\n",
    "from object_detection.utils import visualization_utils as vis_util"
   ]
  },
  {
   "cell_type": "code",
   "execution_count": 3,
   "metadata": {},
   "outputs": [],
   "source": [
    "def get_depth_rgb_images_from_msg():\n",
    "    msg = b.recv_msg(\"realsense_images\", True)\n",
    "    rgb = msg.get_rgb()\n",
    "    dim_rgb = msg.get_shape_rgb()\n",
    "\n",
    "    depth = msg.get_depth()\n",
    "    dim_depth = msg.get_shape_depth()\n",
    "\n",
    "    imrgb = np.reshape(rgb, dim_rgb)\n",
    "    imdepth = np.reshape(depth, dim_depth)\n",
    "    \n",
    "    imdepth = cv2.resize(imdepth, dsize = (imrgb.shape[1], imrgb.shape[0]), interpolation = cv2.INTER_NEAREST)\n",
    "    return (imrgb, imdepth)"
   ]
  },
  {
   "cell_type": "code",
   "execution_count": 4,
   "metadata": {},
   "outputs": [],
   "source": [
    "\n",
    "import SLRobot\n",
    "\n",
    "\n",
    "\n",
    "from scipy.interpolate import interp1d\n",
    "\n",
    "from scipy import interpolate\n",
    "\n",
    "\n",
    "\n",
    "\n",
    "#%matplotlib inline\n",
    "\n",
    "\n",
    "\n",
    "\n",
    "\n",
    "\n",
    "\n",
    "pgain_null = 0.002 * np.array([600.0, 600.0, 600.0, 600.0, 250.0, 150.0, 50.0], dtype=np.float64)\n",
    "\n",
    "\n",
    "\n",
    "\n",
    "\n",
    "# Null-space theta configuration\n",
    "\n",
    "target_th_null = np.zeros(7, dtype=np.float64)\n",
    "\n",
    "target_th_null[3] = -1.55\n",
    "\n",
    "target_th_null[5] = 1.9\n",
    "\n",
    "\n",
    "\n",
    "def quatToEulerAngles(quat):\n",
    "\n",
    "    eulerAngles = np.array([0.0]*3)\n",
    "\n",
    "    \n",
    "\n",
    "    threshold = 0.001\n",
    "\n",
    "    qw = quat[0]\n",
    "\n",
    "    qx = quat[1]\n",
    "\n",
    "    qy = quat[2]\n",
    "\n",
    "    qz = quat[3]\n",
    "\n",
    "    \n",
    "\n",
    "    heading = np.arctan2(2.0*qy*qw-2.0*qx*qz , 1.0 - 2.0*qy*qy - 2.0*qz*qz)\n",
    "\n",
    "    attitude = np.arcsin(2.0*qx*qy + 2.0*qz*qw)\n",
    "\n",
    "    bank = np.arctan2(2.0*qx*qw-2.0*qy*qz , 1.0 - 2.0*qx*qx - 2.0*qz*qz)\n",
    "\n",
    "    \n",
    "\n",
    "    if (qx*qy + qz*qw - 0.5)*(qx*qy + qz*qw - 0.5) < threshold:\n",
    "\n",
    "        heading = 2.0 * np.arctan2(qx,qw)\n",
    "\n",
    "        bank = 0\n",
    "\n",
    "        \n",
    "\n",
    "    if (qx*qy + qz*qw + 0.5)*(qx*qy + qz*qw + 0.5) < threshold:\n",
    "\n",
    "        heading = -2.0 * np.arctan2(qx,qw)\n",
    "\n",
    "        bank = 0\n",
    "\n",
    "        \n",
    "\n",
    "    eulerAngles[0] = attitude\n",
    "\n",
    "    eulerAngles[1] = heading\n",
    "\n",
    "    eulerAngles[2] = bank\n",
    "\n",
    "    \n",
    "\n",
    "    return(eulerAngles)\n",
    "\n",
    "\n",
    "\n",
    "\n",
    "\n",
    "def inverse_kin_6d(c_pos,q):\n",
    "\n",
    "    J_reg = 1e-8\n",
    "\n",
    "\n",
    "    # initialize the position\n",
    "\n",
    "\n",
    "    J_w = np.diag([50, 50, 25, 10, 10, 5, 1])\n",
    "\n",
    "    \n",
    "\n",
    "    # compute the velocity in joint space and update the joint position\n",
    "\n",
    "    qi = []\n",
    "\n",
    "    EF_=[]\n",
    "\n",
    "    qi.append(q)\n",
    "\n",
    "    \n",
    "\n",
    "    results_ =[]\n",
    "\n",
    "    c_vel_all = []\n",
    "\n",
    "    #while 1:\n",
    "    plt.figure()\n",
    "\n",
    "    for t in np.arange(100000):\n",
    "\n",
    "        \n",
    "        \n",
    "\n",
    "        EF_FK = SLRobot.FK(np.array([q]))\n",
    "        #print(EF_FK[0,50:56])\n",
    "        c_vel = np.array([0.5, 0.5, 0.5, 0.5, 0.5, 0.01])*(c_pos - EF_FK[0,50:56])\n",
    "\n",
    "        #print(c_vel)\n",
    "\n",
    "\n",
    "\n",
    "        J = SLRobot.Jacobian(np.array([q]), 6)\n",
    "\n",
    "\n",
    "\n",
    "        target_th_null_out  = target_th_null\n",
    "\n",
    "        \n",
    "\n",
    "        A = J.dot(J_w).dot(J.transpose())\n",
    "\n",
    "        A += J_reg * np.eye(6)\n",
    "\n",
    "\n",
    "\n",
    "        qd_null = pgain_null * (target_th_null_out - q)\n",
    "\n",
    "        \n",
    "\n",
    "\n",
    "\n",
    "        qd_d = np.linalg.solve(A, c_vel - J.dot(qd_null))\n",
    "\n",
    "        qd_d = J_w.dot(J.transpose()).dot(qd_d) + qd_null\n",
    "\n",
    "\n",
    "\n",
    "        q = q + 0.002*qd_d\n",
    "\n",
    "        \n",
    "\n",
    "        \n",
    "\n",
    "        #set the joint range\n",
    "\n",
    "        mask_max = q > np.pi\n",
    "\n",
    "        mask_min = q<-np.pi\n",
    "\n",
    "        q[mask_max] = q[mask_max] - 2*np.pi\n",
    "\n",
    "        q[mask_min] = q[mask_min] + 2*np.pi\n",
    "\n",
    "        \n",
    "\n",
    "        \n",
    "\n",
    "        qi.append(q)\n",
    "\n",
    "        EF_.append(EF_FK[0,50:56])\n",
    "\n",
    "        \n",
    "\n",
    "        c_vel_all.append(c_vel)\n",
    "\n",
    "        \n",
    "\n",
    "        \n",
    "\n",
    "        # times the arrary to scale the orientation range.\n",
    "\n",
    "        error_ = np.sqrt(np.sum(np.square(np.array([1.0, 1.0, 1.0, 0.08, 0.08, 0.08])*(c_pos-EF_FK[0,50:56]))))\n",
    "        #print(error_)\n",
    "        if error_ <0.0080:\n",
    "\n",
    "            break\n",
    "\n",
    "            \n",
    "\n",
    "    print('error:', error_)\n",
    "\n",
    "\n",
    "\n",
    "    \n",
    "\n",
    "    qi = np.array(qi)\n",
    "\n",
    "    \n",
    "\n",
    "    # for debug\n",
    "    \n",
    "    plt.plot(qi)\n",
    "\n",
    "    \n",
    "\n",
    "    EF_ = np.array(EF_)\n",
    "\n",
    "    \n",
    "\n",
    "    c_vel_all = np.array(c_vel_all)\n",
    "\n",
    "    return qi[-1], EF_, qi, c_vel_all\n",
    "\n",
    "\n",
    "\n",
    "\n",
    "\n"
   ]
  },
  {
   "cell_type": "markdown",
   "metadata": {},
   "source": [
    "# This is a grasping point recorded by Alexj and Felix\n",
    "\n",
    "grasp_pt_quat = np.array([ 0.6801316 ,  0.14607485,  0.07193319,  0.37495322,  0.55747047, 0.20780073,  0.58338235])\n",
    "\n",
    "grasp_pt_angles = quatToEulerAngles(np.concatenate([grasp_pt_quat[-2:-1], grasp_pt_quat[3:6]])) #(np.array([0.37495322,  0.55747047, 0.20780073,  0.58338235]))\n",
    "print(np.concatenate([grasp_pt_quat[-2:-1], grasp_pt_quat[3:6]]))\n",
    "grasp_pt = np.concatenate([grasp_pt_quat[:3], grasp_pt_angles])\n",
    "\n",
    "\n",
    "q = target_th_null\n",
    "\n",
    "\n",
    "\n",
    "#input_EF = np.array([0.6801316 ,  0.14607485,  0.07193319,  0.52870199,  0.25408186, -0.11936578])\n",
    "\n",
    "input_EF = grasp_pt\n",
    "print(input_EF)\n",
    "\n",
    "j_ik = inverse_kin_6d(input_EF,q)\n",
    "\n",
    "end_pos=j_ik[0]\n",
    "\n",
    "\n",
    "\n",
    "EF_FK = SLRobot.FK(np.array([end_pos]))\n",
    "\n",
    "\n",
    "\n",
    "print('desired c pose:', input_EF)\n",
    "\n",
    "print('c pose:', EF_FK[0,50:56])"
   ]
  },
  {
   "cell_type": "code",
   "execution_count": 5,
   "metadata": {},
   "outputs": [],
   "source": [
    "# Path to frozen detection graph. This is the actual model that is used for the object detection.\n",
    "PATH_TO_FROZEN_GRAPH = '../faster_rcnn_inception_v2_coco_2018_01_28/frozen_inference_graph.pb'\n",
    "\n",
    "# List of the strings that is used to add correct label for each box.\n",
    "PATH_TO_LABELS = os.path.join('/home/dlrc1/Documents/models/research/object_detection/data', 'mscoco_label_map.pbtxt')\n",
    "\n",
    "with tf.device('/device:GPU:0'):\n",
    "    detection_graph = tf.Graph()\n",
    "    odt.load_model(PATH_TO_FROZEN_GRAPH, detection_graph)\n",
    "    category_index = odt.create_category_index(PATH_TO_LABELS)\n",
    "    with detection_graph.as_default() as graph:\n",
    "        tensor_dict = odt.create_tensor_dict(['num_detections', 'detection_boxes', 'detection_scores',\n",
    "        'detection_classes', 'detection_masks'])\n",
    "    sess = tf.Session(graph=detection_graph)"
   ]
  },
  {
   "cell_type": "code",
   "execution_count": 6,
   "metadata": {},
   "outputs": [
    {
     "data": {
      "text/plain": [
       "True"
      ]
     },
     "execution_count": 6,
     "metadata": {},
     "output_type": "execute_result"
    }
   ],
   "source": [
    "b.register_signal('franka_target_pos', pab.MsgType.target_pos)"
   ]
  },
  {
   "cell_type": "code",
   "execution_count": 7,
   "metadata": {},
   "outputs": [
    {
     "data": {
      "text/plain": [
       "True"
      ]
     },
     "execution_count": 7,
     "metadata": {},
     "output_type": "execute_result"
    }
   ],
   "source": [
    "b.register_signal(\"franka_gripper\", pab.MsgType.gripper_cmd)"
   ]
  },
  {
   "cell_type": "code",
   "execution_count": 8,
   "metadata": {},
   "outputs": [],
   "source": [
    "\n",
    "def GripApple(current_counter):\n",
    "    msg = pab.gripper_cmd_msg()\n",
    "    msg.set_timestamp(time.clock_gettime(time.CLOCK_MONOTONIC))\n",
    "    msg.set_fnumber(current_counter)\n",
    "    msg.set_cmd_t(pab.CmdType.Grasp)\n",
    "    msg.set_width(0.065)\n",
    "    msg.set_speed(0.8)\n",
    "    msg.set_force(10)\n",
    "\n",
    "    msg.set_epsilon_in(0.005)\n",
    "    msg.set_epsilon_out(0.005)\n",
    "\n",
    "    b.send_msg(\"franka_gripper\", msg)\n",
    "    time.sleep(0.2)\n",
    "    current_counter=current_counter+111\n",
    "    return current_counter\n",
    "\n",
    "\n",
    "def ReleaseApple(current_counter):\n",
    "    msg = pab.gripper_cmd_msg()\n",
    "    msg.set_timestamp(time.clock_gettime(time.CLOCK_MONOTONIC))\n",
    "    msg.set_fnumber(current_counter)\n",
    "    msg.set_cmd_t(pab.CmdType.Move)\n",
    "    msg.set_width(80)\n",
    "    msg.set_speed(0.3)\n",
    " \n",
    "\n",
    "    b.send_msg(\"franka_gripper\", msg)\n",
    "    time.sleep(0.2)\n",
    "    current_counter=current_counter+111\n",
    "    return current_counter\n",
    "\n",
    "\n",
    "def GoHome(current_counter):\n",
    "    Home=np.array([-0.3222667,  -0.39487693,  0.25124076, -1.78770602, -0.0087735,   1.58738244,   0.85377795])\n",
    "    sleep_time = samples\n",
    "    go_time = samples-0.1\n",
    "\n",
    "    frame=current_counter+1\n",
    "    target_msg, current_counter = mt.create_message(counter=frame, ctrl_t = 1, pos = Home, go_time=go_time)\n",
    "    b.send_msg('franka_target_pos', target_msg)\n",
    "    time.sleep(sleep_time)\n",
    "    \n",
    "    return current_counter"
   ]
  },
  {
   "cell_type": "code",
   "execution_count": 9,
   "metadata": {},
   "outputs": [
    {
     "data": {
      "text/plain": [
       "True"
      ]
     },
     "execution_count": 9,
     "metadata": {},
     "output_type": "execute_result"
    }
   ],
   "source": [
    "b.request_signal(\"realsense_images\", pab.MsgType.realsense_image)\n"
   ]
  },
  {
   "cell_type": "code",
   "execution_count": 10,
   "metadata": {},
   "outputs": [
    {
     "data": {
      "text/plain": [
       "True"
      ]
     },
     "execution_count": 10,
     "metadata": {},
     "output_type": "execute_result"
    }
   ],
   "source": [
    "b.request_signal(\"franka_state\", pab.MsgType.franka_state, True)\n",
    "\n"
   ]
  },
  {
   "cell_type": "code",
   "execution_count": 11,
   "metadata": {},
   "outputs": [],
   "source": [
    "current_counter=0"
   ]
  },
  {
   "cell_type": "code",
   "execution_count": 12,
   "metadata": {},
   "outputs": [
    {
     "name": "stderr",
     "output_type": "stream",
     "text": [
      "/home/dlrc1/.virtualenvs/dlrc/lib/python3.6/site-packages/matplotlib/cbook/deprecation.py:107: MatplotlibDeprecationWarning: Adding an axes using the same arguments as a previous axes currently reuses the earlier instance.  In a future version, a new instance will always be created and returned.  Meanwhile, this warning can be suppressed, and the future behavior ensured, by passing a unique label to each axes instance.\n",
      "  warnings.warn(message, mplDeprecation, stacklevel=1)\n"
     ]
    },
    {
     "data": {
      "image/png": "[encoded data removed]",
      "text/plain": [
       "<Figure size 432x288 with 7 Axes>"
      ]
     },
     "metadata": {
      "needs_background": "light"
     },
     "output_type": "display_data"
    },
    {
     "data": {
      "image/png": "[encoded data removed]",
      "text/plain": [
       "<Figure size 432x288 with 7 Axes>"
      ]
     },
     "metadata": {
      "needs_background": "light"
     },
     "output_type": "display_data"
    }
   ],
   "source": [
    "\n",
    "\n",
    "df_generated, N=robotoolbox.PrepareData('JointsFinalPresentation_take2.p')\n",
    "\n",
    "params = {'D' : 7, 'K' : 5, 'N' : N}\n",
    "RobotSaysHi=ProMP(identifier='RobotSaysHi', TrainingData=df_generated, params=params)\n",
    "RobotSaysHi.RegularizedLeastSquares() #Choice for l from [1]\n",
    "RobotSaysHi.GenerateDemoPlot(xvariable=\"Phases\")  \n",
    "RobotSaysHi.MeanAndStdPredictionPlot(factor=2)\n",
    "MaxTime=8\n",
    "samples=1  \n",
    "\n",
    "\n",
    "\n",
    "def FollowMeanTrajectory(ProMP, samples, MaxTime, current_counter):\n",
    "    T, Q= ProMP.GetJointData(w=ProMP.estimate_m, robotrate=samples, MaxTime=MaxTime)\n",
    "    robotoolbox.PlotTrajectory(T, Q)\n",
    "    plt.show()\n",
    "    #time.sleep(10)\n",
    "    \n",
    "    sleep_time = samples\n",
    "    go_time = 1.8*samples\n",
    "    for idxq, Q_pos in enumerate(Q):\n",
    "        print(Q_pos)\n",
    "        frame=current_counter+1\n",
    "        target_msg, current_counter = mt.create_message(counter=frame, ctrl_t = 1, pos = Q_pos, go_time=go_time)\n",
    "        b.send_msg('franka_target_pos', target_msg)\n",
    "        time.sleep(sleep_time)\n",
    "        if idxq==0:\n",
    "\n",
    "            time.sleep(2)\n",
    "        \n",
    "    return current_counter\n",
    "\n",
    "\n"
   ]
  },
  {
   "cell_type": "code",
   "execution_count": 17,
   "metadata": {},
   "outputs": [
    {
     "name": "stderr",
     "output_type": "stream",
     "text": [
      "/home/dlrc1/.virtualenvs/dlrc/lib/python3.6/site-packages/matplotlib/cbook/deprecation.py:107: MatplotlibDeprecationWarning: Adding an axes using the same arguments as a previous axes currently reuses the earlier instance.  In a future version, a new instance will always be created and returned.  Meanwhile, this warning can be suppressed, and the future behavior ensured, by passing a unique label to each axes instance.\n",
      "  warnings.warn(message, mplDeprecation, stacklevel=1)\n"
     ]
    },
    {
     "data": {
      "image/png": "[encoded data removed]",
      "text/plain": [
       "<Figure size 432x288 with 7 Axes>"
      ]
     },
     "metadata": {
      "needs_background": "light"
     },
     "output_type": "display_data"
    },
    {
     "name": "stdout",
     "output_type": "stream",
     "text": [
      "[-0.1849465  -0.07736842  0.18040424 -1.39581236 -0.05982821  1.39310514\n",
      "  0.77282725]\n",
      "[-0.27350867  0.0451891   0.2049821  -1.40250615 -0.05784009  1.55237353\n",
      "  0.75785749]\n",
      "[-0.36034917  0.17915038  0.22263234 -1.40510875 -0.05691791  1.69757158\n",
      "  0.73609839]\n",
      "[-0.42915407  0.31421212  0.22460486 -1.39918959 -0.05928876  1.79678189\n",
      "  0.70524466]\n",
      "[-0.47982367  0.44942837  0.21777614 -1.38644595 -0.0689347   1.88128965\n",
      "  0.67112874]\n",
      "[-0.51137303  0.59351328  0.20535082 -1.36643069 -0.09141574  1.97921238\n",
      "  0.63632759]\n",
      "[-0.52823366  0.73885725  0.18911504 -1.34561118 -0.12049078  2.07765848\n",
      "  0.60648847]\n",
      "[-0.52743756  0.8628346   0.17010112 -1.33268168 -0.14846414  2.14793478\n",
      "  0.59213274]\n",
      "[-0.5178315   0.96396539  0.15138092 -1.32557715 -0.17278856  2.19568246\n",
      "  0.58758909]\n"
     ]
    }
   ],
   "source": [
    "current_counter=FollowMeanTrajectory(RobotSaysHi, samples, MaxTime,current_counter)"
   ]
  },
  {
   "cell_type": "code",
   "execution_count": 13,
   "metadata": {},
   "outputs": [],
   "source": [
    "\n",
    "class RobotMap:\n",
    "    \n",
    "    \"\"\"Map framework for robot control using lidars and cameras\"\"\"\n",
    "    \n",
    "    def __init__(self, ProMP, sleep_time=1, go_time=0.9, MaxTime=8):\n",
    "        self.ProMP=ProMP\n",
    "        self.identifier=ProMP.identifier\n",
    "        self.step=0        \n",
    "        self.controlsleep=True\n",
    "        self.polarity=1 # Polarity is -1 when the robot goesbackwards. \n",
    "        self.Params= {'sleep_time' : sleep_time, 'go_time' :  go_time, 'MaxTime' : MaxTime}\n",
    "        from toolbox import movementtoolbox as mt \n",
    "    \n",
    "    def SetObjectTarget(self, Qtarget, ztarget=1):\n",
    "        self.Object_Target_Qtarget=Qtarget\n",
    "        self.Object_Target_ztarget=ztarget\n",
    "        \n",
    "    @staticmethod\n",
    "    def MeanQ(z, ProMP):    \n",
    "        return ProMP.GeneratePrediction(w=ProMP.estimate_m, Z=z)[1]\n",
    "        \n",
    "    def GeneratePath(self, ProMPconstrains=[0, 0.3, 0.5]):\n",
    "        \"\"\"ProMP constrains is an array that constrains via points to the mean of the ProMP\"\"\"\n",
    "        \n",
    "        \n",
    "           \n",
    "        Object_Qtarget=self.Object_Target_Qtarget\n",
    "        Object_ztarget=self.Object_Target_ztarget\n",
    "        \n",
    "        Qtarget=[]\n",
    "        Ztarget=[]\n",
    "        for constrain in ProMPconstrains:\n",
    "            Qtarget.append(self.MeanQ(constrain, self.ProMP))\n",
    "            Ztarget.append(constrain)\n",
    "        Qtarget.append(Object_Qtarget)\n",
    "        Ztarget.append(Object_ztarget)                  \n",
    "        w_des=self.ProMP.Condition_JointSpace(Qtarget=Qtarget, Ztarget=Ztarget)        \n",
    "\n",
    "        T, Q= RobotSaysHi.GetJointData(w=w_des, robotrate=samples, MaxTime=MaxTime)\n",
    "        \n",
    "        Q[-1,:]=Object_Qtarget ## This heuristic is not very elegant but it is necesary\n",
    "        robotoolbox.PlotTrajectory(T, Q)\n",
    "        plt.show()\n",
    "        \n",
    "        self.Path=Q\n",
    "        self.CurrentQ=self.Path[self.step,:]\n",
    "        self.MaxSteps=self.Path.shape[0]\n",
    "        \n",
    "      \n",
    "        \n",
    "    def Execute(self):\n",
    "        global current_counter\n",
    "        go_time=self.Params['go_time']\n",
    "        sleep_time=self.Params['sleep_time']\n",
    "        \n",
    "        target_msg, current_counter = mt.create_message(counter=current_counter, ctrl_t = 1, pos = self.CurrentQ, go_time=go_time)\n",
    "        b.send_msg('franka_target_pos', target_msg)\n",
    "        if self.controlsleep:\n",
    "            time.sleep(sleep_time)\n",
    "        \n",
    "        current_counter+=1\n",
    "        pass\n",
    "    \n",
    "    def DoStepForward(self):\n",
    "        print(\"Current Step: \", self.step, \". Now moving to Step: \",self.step+1)\n",
    "        self.CurrentQ=self.Path[self.step,:]\n",
    "        self.step+=1\n",
    "        self.Execute()\n",
    "\n",
    "    def DoStepBack(self):\n",
    "        print(\"Current Step: \", self.step, \". Now moving to Step: \",self.step-1)\n",
    "        self.CurrentQ=self.Path[self.step,:]\n",
    "        if (self.step>=1):\n",
    "            self.step-=1\n",
    "            self.Execute()\n",
    "        else:\n",
    "            pass\n",
    "\n",
    "        \n",
    "    def DoStep(self):\n",
    "        if self.polarity==1:\n",
    "            self.DoStepForward()\n",
    "        if self.polarity==-1:\n",
    "            self.DoStepBack()\n",
    "            \n",
    "            \n",
    "        \n",
    "        \n",
    "    def GoToStartPosition(self):\n",
    "        global current_counter\n",
    "        current_counter=GoHome(current_counter)\n",
    "        #current_counter=ReleaseApple(current_counter)\n",
    "        time.sleep(3)\n",
    "        self.Reset()\n",
    "\n",
    "        \n",
    "    def FollowBlindly(self):\n",
    "        self.Execute() #Goes to step zero\n",
    "        for step in range(self.step,self.MaxSteps):\n",
    "            \n",
    "            self.DoStepForward()\n",
    "            \n",
    "        \n",
    "    def Reset(self):\n",
    "        self.step=0\n",
    "        self.CurrentQ=self.Path[self.step,:]\n",
    "\n",
    "        \n",
    "        \n",
    "        \n",
    "        \n",
    "    \n"
   ]
  },
  {
   "cell_type": "code",
   "execution_count": 14,
   "metadata": {},
   "outputs": [],
   "source": [
    "current_counter=GoHome(current_counter)\n",
    "time.sleep(3)\n",
    "current_counter=ReleaseApple(current_counter)"
   ]
  },
  {
   "cell_type": "code",
   "execution_count": 15,
   "metadata": {},
   "outputs": [],
   "source": [
    "def FindObjectNN(CommonObject='apple'):\n",
    "    imrgb, imdepth = get_depth_rgb_images_from_msg()\n",
    "    start_time = time.time()\n",
    "    output_dict = odt.run_inference_for_single_image_test(imrgb, tensor_dict, sess)\n",
    "    #print('Iteration %d: %.3f sec'%(i, time.time()-start_time))\n",
    "    out = odt.visualize_pred_for_single_img(imrgb, output_dict, category_index)\n",
    "\n",
    "    Q = b.recv_msg('franka_state', -1).get_j_pos()\n",
    "    result, boxes = odt.get_boxes_with_label_and_threshold(CommonObject, 0.5, output_dict, imdepth, Q, category_index)\n",
    "\n",
    "    target_pos = np.zeros(3)\n",
    "    #target_pos = np.array([0.6, 0.0, 0.1 ])\n",
    "    np.copyto(target_pos, result[0,0])\n",
    "    target_pos[0]  = target_pos[0]+0.005*target_pos[0]\n",
    "    target_pos[1] = target_pos[1]+0.13*target_pos[1]\n",
    "    target_pos[2] += 0.03\n",
    "\n",
    "    #target_pos[1] += 0.05 #offset\n",
    "    #target_pos[1] =- target_pos[1]\n",
    "    #print(target_pos)\n",
    "    print('result:', target_pos)\n",
    "\n",
    "    return target_pos\n",
    "\n"
   ]
  },
  {
   "cell_type": "code",
   "execution_count": null,
   "metadata": {},
   "outputs": [],
   "source": []
  },
  {
   "cell_type": "code",
   "execution_count": 1,
   "metadata": {},
   "outputs": [
    {
     "ename": "NameError",
     "evalue": "name 'samples' is not defined",
     "output_type": "error",
     "traceback": [
      "\u001b[0;31m---------------------------------------------------------------------------\u001b[0m",
      "\u001b[0;31mNameError\u001b[0m                                 Traceback (most recent call last)",
      "\u001b[0;32m<ipython-input-1-800cb6de3d33>\u001b[0m in \u001b[0;36m<module>\u001b[0;34m()\u001b[0m\n\u001b[1;32m      1\u001b[0m \u001b[0;34m\u001b[0m\u001b[0m\n\u001b[0;32m----> 2\u001b[0;31m \u001b[0msleep_time\u001b[0m \u001b[0;34m=\u001b[0m \u001b[0msamples\u001b[0m\u001b[0;34m\u001b[0m\u001b[0m\n\u001b[0m\u001b[1;32m      3\u001b[0m \u001b[0mgo_time\u001b[0m \u001b[0;34m=\u001b[0m \u001b[0;36m1.8\u001b[0m\u001b[0;34m*\u001b[0m\u001b[0msamples\u001b[0m\u001b[0;34m\u001b[0m\u001b[0m\n\u001b[1;32m      4\u001b[0m \u001b[0mz\u001b[0m\u001b[0;34m=\u001b[0m\u001b[0;36m1\u001b[0m\u001b[0;34m\u001b[0m\u001b[0m\n\u001b[1;32m      5\u001b[0m \u001b[0;34m\u001b[0m\u001b[0m\n",
      "\u001b[0;31mNameError\u001b[0m: name 'samples' is not defined"
     ]
    }
   ],
   "source": [
    "\n",
    "sleep_time = samples\n",
    "go_time = 1.8*samples\n",
    "z=1\n",
    "\n",
    "ApplePos=FindObjectNN(CommonObject='apple')\n",
    "\n",
    "def IKapple(ProMP, ApplePos):\n",
    "    prediction_pro=ProMP.GeneratePrediction(Z=1)[1]\n",
    "\n",
    "    bp= SLRobot.FK(prediction_pro.reshape(1,-1))[0,50:56] # Uses the mean ProMP orientation\n",
    "    bp[0:3]=ApplePos\n",
    "\n",
    "    j_ik = inverse_kin_6d(bp,prediction_pro)\n",
    "    end_pos=j_ik[0]\n",
    "\n",
    "    EF_FK = SLRobot.FK(np.array([end_pos]))\n",
    "\n",
    "    #print(end_pos)\n",
    "    #print('desired c pose:', bp)\n",
    "    #print('c pose:', EF_FK[0,50:56])\n",
    "\n",
    "\n",
    "\n",
    "    return end_pos\n",
    "\n",
    "    \n",
    "Q_des=IKapple(RobotSaysHi, ApplePos)\n",
    "#w_des=RobotSaysHi.Condition_JointSpace(Qtarget=[RobotSaysHi.GetStartPoint(w=RobotSaysHi.estimate_m), Q_des], Ztarget=[0,z])        \n",
    "#w_des=RobotSaysHi.Condition_JointSpace(Qtarget=[RobotSaysHi.GetStartPoint(w=RobotSaysHi.estimate_m),PredZ(0.3) ,PredZ(0.35) , Q_des], Ztarget=[0,0.3,0.35,z])        \n",
    "\n",
    "#T, Q= RobotSaysHi.GetJointData(w=w_des, robotrate=samples, MaxTime=MaxTime)\n",
    "\n",
    "#Q[-1,:]=end_pos\n",
    "#robotoolbox.PlotTrajectory(T, Q)\n",
    "\n",
    "#Qp,Qpp=robotoolbox.GetAccel(Q,T)\n",
    "#robotoolbox.PlotAccel(T, Qpp)\n",
    "#print(Q.shape)\n",
    "\n",
    "\n",
    "\n",
    "CurrentMap=RobotMap(ProMP=RobotSaysHi, sleep_time=sleep_time, go_time=go_time, MaxTime=MaxTime)\n",
    "CurrentMap.SetObjectTarget(Q_des, ztarget=1)\n",
    "CurrentMap.GeneratePath(ProMPconstrains=[0,0.3,0.4])\n",
    "#CurrentMap.FollowBlindly()\n",
    "#current_counter=GripApple(current_counter)\n",
    "#time.sleep(0.5)\n",
    "#CurrentMap.GoToStartPosition()\n",
    "\n",
    "#current_counter=ReleaseApple(current_counter)"
   ]
  },
  {
   "cell_type": "code",
   "execution_count": 2,
   "metadata": {},
   "outputs": [
    {
     "ename": "NameError",
     "evalue": "name 'CurrentMap' is not defined",
     "output_type": "error",
     "traceback": [
      "\u001b[0;31m---------------------------------------------------------------------------\u001b[0m",
      "\u001b[0;31mNameError\u001b[0m                                 Traceback (most recent call last)",
      "\u001b[0;32m<ipython-input-2-468502b20124>\u001b[0m in \u001b[0;36m<module>\u001b[0;34m()\u001b[0m\n\u001b[1;32m      2\u001b[0m \u001b[0;34m\u001b[0m\u001b[0m\n\u001b[1;32m      3\u001b[0m \u001b[0mtreshold\u001b[0m\u001b[0;34m=\u001b[0m\u001b[0;36m2\u001b[0m\u001b[0;34m\u001b[0m\u001b[0m\n\u001b[0;32m----> 4\u001b[0;31m \u001b[0;32mwhile\u001b[0m\u001b[0;34m(\u001b[0m\u001b[0mCurrentMap\u001b[0m\u001b[0;34m.\u001b[0m\u001b[0mstep\u001b[0m\u001b[0;34m<\u001b[0m\u001b[0mtreshold\u001b[0m\u001b[0;34m)\u001b[0m\u001b[0;34m:\u001b[0m\u001b[0;34m\u001b[0m\u001b[0m\n\u001b[0m\u001b[1;32m      5\u001b[0m \u001b[0;34m\u001b[0m\u001b[0m\n\u001b[1;32m      6\u001b[0m \u001b[0;34m\u001b[0m\u001b[0m\n",
      "\u001b[0;31mNameError\u001b[0m: name 'CurrentMap' is not defined"
     ]
    }
   ],
   "source": [
    "AppleMomentum=False\n",
    "\n",
    "treshold=2\n",
    "while(CurrentMap.step<treshold):\n",
    "    \n",
    "    \n",
    "    try: \n",
    "        ApplePos=FindObjectNN(CommonObject='apple')\n",
    "        CurrentMap.polarity=1\n",
    "        if (AppleMomentum):\n",
    "            print(\"Recalculating...\")\n",
    "            Q_des=IKapple(RobotSaysHi, ApplePos)\n",
    "            print(\"New apple pos in Task: \",ApplePos,\"New apple pos in joint \", Q_des)\n",
    "\n",
    "            CurrentMap.SetObjectTarget(Q_des, ztarget=1)\n",
    "            CurrentMap.GeneratePath(ProMPconstrains=[0,0.3,0.4])\n",
    "            AppleMomentum=False\n",
    "    except:\n",
    "            CurrentMap.polarity=-1\n",
    "            AppleMomentum=True\n",
    "            CurrentMap.GoToStartPosition()\n",
    "            print(\"Apple not visible\")\n",
    "        \n",
    "    print(CurrentMap.polarity)\n",
    "    CurrentMap.DoStep()\n",
    "    clear_output(wait=True)\n",
    "\n",
    "while(CurrentMap.step<CurrentMap.MaxSteps):\n",
    "    CurrentMap.DoStep()\n",
    "    clear_output(wait=True)    \n",
    "\n",
    "\n",
    "time.sleep(0.5)\n",
    "current_counter=ReleaseApple(current_counter)\n",
    "    \n",
    "\n",
    "current_counter=GripApple(current_counter)\n",
    "time.sleep(0.5) \n",
    "CurrentMap.GoToStartPosition()\n",
    "\n",
    "#    CurrentMap.GoToStartPosition()\n",
    "    \n",
    "\n",
    "\n",
    "\n",
    "time.sleep(0.5)\n",
    "current_counter=ReleaseApple(current_counter)\n"
   ]
  },
  {
   "cell_type": "code",
   "execution_count": 3,
   "metadata": {},
   "outputs": [
    {
     "ename": "NameError",
     "evalue": "name 'GripApple' is not defined",
     "output_type": "error",
     "traceback": [
      "\u001b[0;31m---------------------------------------------------------------------------\u001b[0m",
      "\u001b[0;31mNameError\u001b[0m                                 Traceback (most recent call last)",
      "\u001b[0;32m<ipython-input-3-d40126d90dba>\u001b[0m in \u001b[0;36m<module>\u001b[0;34m()\u001b[0m\n\u001b[0;32m----> 1\u001b[0;31m \u001b[0mcurrent_counter\u001b[0m\u001b[0;34m=\u001b[0m\u001b[0mGripApple\u001b[0m\u001b[0;34m(\u001b[0m\u001b[0mcurrent_counter\u001b[0m\u001b[0;34m)\u001b[0m\u001b[0;34m\u001b[0m\u001b[0m\n\u001b[0m",
      "\u001b[0;31mNameError\u001b[0m: name 'GripApple' is not defined"
     ]
    }
   ],
   "source": [
    "current_counter=GripApple(current_counter)\n"
   ]
  },
  {
   "cell_type": "code",
   "execution_count": 4,
   "metadata": {},
   "outputs": [
    {
     "ename": "NameError",
     "evalue": "name 'CurrentMap' is not defined",
     "output_type": "error",
     "traceback": [
      "\u001b[0;31m---------------------------------------------------------------------------\u001b[0m",
      "\u001b[0;31mNameError\u001b[0m                                 Traceback (most recent call last)",
      "\u001b[0;32m<ipython-input-4-0f7e4961a4ad>\u001b[0m in \u001b[0;36m<module>\u001b[0;34m()\u001b[0m\n\u001b[0;32m----> 1\u001b[0;31m \u001b[0mCurrentMap\u001b[0m\u001b[0;34m.\u001b[0m\u001b[0mGoToStartPosition\u001b[0m\u001b[0;34m(\u001b[0m\u001b[0;34m)\u001b[0m\u001b[0;34m\u001b[0m\u001b[0m\n\u001b[0m\u001b[1;32m      2\u001b[0m \u001b[0mcurrent_counter\u001b[0m\u001b[0;34m=\u001b[0m\u001b[0mReleaseApple\u001b[0m\u001b[0;34m(\u001b[0m\u001b[0mcurrent_counter\u001b[0m\u001b[0;34m)\u001b[0m\u001b[0;34m\u001b[0m\u001b[0m\n",
      "\u001b[0;31mNameError\u001b[0m: name 'CurrentMap' is not defined"
     ]
    }
   ],
   "source": [
    "CurrentMap.GoToStartPosition()\n",
    "current_counter=ReleaseApple(current_counter)"
   ]
  },
  {
   "cell_type": "code",
   "execution_count": 5,
   "metadata": {},
   "outputs": [
    {
     "ename": "NameError",
     "evalue": "name 'CurrentMap' is not defined",
     "output_type": "error",
     "traceback": [
      "\u001b[0;31m---------------------------------------------------------------------------\u001b[0m",
      "\u001b[0;31mNameError\u001b[0m                                 Traceback (most recent call last)",
      "\u001b[0;32m<ipython-input-5-0f7e4961a4ad>\u001b[0m in \u001b[0;36m<module>\u001b[0;34m()\u001b[0m\n\u001b[0;32m----> 1\u001b[0;31m \u001b[0mCurrentMap\u001b[0m\u001b[0;34m.\u001b[0m\u001b[0mGoToStartPosition\u001b[0m\u001b[0;34m(\u001b[0m\u001b[0;34m)\u001b[0m\u001b[0;34m\u001b[0m\u001b[0m\n\u001b[0m\u001b[1;32m      2\u001b[0m \u001b[0mcurrent_counter\u001b[0m\u001b[0;34m=\u001b[0m\u001b[0mReleaseApple\u001b[0m\u001b[0;34m(\u001b[0m\u001b[0mcurrent_counter\u001b[0m\u001b[0;34m)\u001b[0m\u001b[0;34m\u001b[0m\u001b[0m\n",
      "\u001b[0;31mNameError\u001b[0m: name 'CurrentMap' is not defined"
     ]
    }
   ],
   "source": [
    "CurrentMap.GoToStartPosition()\n",
    "current_counter=ReleaseApple(current_counter)"
   ]
  },
  {
   "cell_type": "code",
   "execution_count": null,
   "metadata": {},
   "outputs": [],
   "source": []
  },
  {
   "cell_type": "code",
   "execution_count": null,
   "metadata": {},
   "outputs": [],
   "source": []
  },
  {
   "cell_type": "code",
   "execution_count": null,
   "metadata": {},
   "outputs": [],
   "source": []
  },
  {
   "cell_type": "code",
   "execution_count": null,
   "metadata": {},
   "outputs": [],
   "source": []
  },
  {
   "cell_type": "code",
   "execution_count": null,
   "metadata": {},
   "outputs": [],
   "source": []
  }
 ],
 "metadata": {
  "kernelspec": {
   "display_name": "Python 3",
   "language": "python",
   "name": "python3"
  },
  "language_info": {
   "codemirror_mode": {
    "name": "ipython",
    "version": 3
   },
   "file_extension": ".py",
   "mimetype": "text/x-python",
   "name": "python",
   "nbconvert_exporter": "python",
   "pygments_lexer": "ipython3",
   "version": "3.6.5"
  }
 },
 "nbformat": 4,
 "nbformat_minor": 2
}
