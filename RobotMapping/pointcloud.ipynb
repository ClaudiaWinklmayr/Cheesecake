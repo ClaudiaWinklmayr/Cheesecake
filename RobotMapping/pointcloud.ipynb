{
 "cells": [
  {
   "cell_type": "code",
   "execution_count": null,
   "metadata": {},
   "outputs": [],
   "source": [
    "import pickle as p\n",
    "import numpy as np\n",
    "import cv2\n",
    "from matplotlib import pyplot as plt\n",
    "from mpl_toolkits.mplot3d import Axes3D"
   ]
  },
  {
   "cell_type": "code",
   "execution_count": null,
   "metadata": {
    "scrolled": true
   },
   "outputs": [],
   "source": [
    "file = open('depth_data.p', 'rb')\n",
    "depth_data = np.array(p.load(file))\n",
    "\n",
    "file = open('rbg_data.p', 'rb')\n",
    "rgb_data = np.array(p.load(file))\n",
    "#print(depth_data.shape)\n",
    "#print(depth_data[1, :,:])\n",
    "depth_img = depth_data[1, :, :]\n",
    "rgb_img = rgb_data[1, :, :]"
   ]
  },
  {
   "cell_type": "code",
   "execution_count": null,
   "metadata": {},
   "outputs": [],
   "source": [
    "plt.imshow(depth_img)\n",
    "plt.show()"
   ]
  },
  {
   "cell_type": "code",
   "execution_count": null,
   "metadata": {},
   "outputs": [],
   "source": [
    "x,y = np.array(np.meshgrid(np.linspace(0, depth_img.shape[0]-1, depth_img.shape[0]), \\\n",
    "                               np.linspace(0,depth_img.shape[1]-1, depth_img.shape[1])))\n",
    "print(x)"
   ]
  },
  {
   "cell_type": "code",
   "execution_count": null,
   "metadata": {},
   "outputs": [],
   "source": [
    "def point_cloud(depth_img, fx, fy, cx, cy, scaling_factor):\n",
    "    c_x,c_y = np.array(np.meshgrid(np.linspace(0, depth_img.shape[1]-1, depth_img.shape[1]), \\\n",
    "                               np.linspace(0,depth_img.shape[0]-1, depth_img.shape[0])))\n",
    "    x = np.multiply((c_x - cx), depth_img) / fx\n",
    "    y = np.multiply((c_y - cy), depth_img) / fy\n",
    "    z = depth_img/scaling_factor\n",
    "    \n",
    "    coords = np.stack([x, y, z], axis=2)\n",
    "    return (x,y,z)"
   ]
  },
  {
   "cell_type": "code",
   "execution_count": null,
   "metadata": {},
   "outputs": [],
   "source": [
    "fx = 385.063\n",
    "fy = 385.063\n",
    "\n",
    "cx = 317.79\n",
    "cy = 239.907\n",
    "scaling_factor = 1\n",
    "\n",
    "x,y,z = point_cloud(depth_img, fx, fy, cx, cy, scaling_factor)\n",
    "print('max x: ', np.amax(x))\n",
    "print('max y: ', np.amax(y))\n",
    "print('max z: ', np.amax(z))"
   ]
  },
  {
   "cell_type": "code",
   "execution_count": null,
   "metadata": {},
   "outputs": [],
   "source": [
    "fig = plt.figure()\n",
    "ax = fig.add_subplot(111, projection='3d')\n",
    "ax.view_init(60, 60)\n",
    "ax.set_xlim([np.amin(x),np.amax(x)])\n",
    "ax.set_ylim([np.amin(y),np.amax(y)])\n",
    "ax.set_zlim([np.amin(z),np.amax(z)])\n",
    "\n",
    "ax.scatter(x, y, z)\n",
    "\n",
    "ax.set_xlabel('X Label')\n",
    "ax.set_ylabel('Y Label')\n",
    "ax.set_zlabel('Z Label')\n",
    "plt.show()\n",
    "\n",
    "#for angle in range(0, 360):\n",
    "    #ax.view_init(30, angle)\n",
    "    #fig.canvas.draw()\n",
    "    #fig.canvas.flush_events()\n",
    "    #plt.pause(.001)"
   ]
  },
  {
   "cell_type": "code",
   "execution_count": null,
   "metadata": {},
   "outputs": [],
   "source": []
  }
 ],
 "metadata": {
  "kernelspec": {
   "display_name": "Python 3",
   "language": "python",
   "name": "python3"
  },
  "language_info": {
   "codemirror_mode": {
    "name": "ipython",
    "version": 3
   },
   "file_extension": ".py",
   "mimetype": "text/x-python",
   "name": "python",
   "nbconvert_exporter": "python",
   "pygments_lexer": "ipython3",
   "version": "3.6.5"
  }
 },
 "nbformat": 4,
 "nbformat_minor": 2
}
