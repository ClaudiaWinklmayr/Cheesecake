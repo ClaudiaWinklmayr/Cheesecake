{
 "cells": [
  {
   "cell_type": "code",
   "execution_count": 14,
   "metadata": {},
   "outputs": [],
   "source": [
    "import sys\n",
    "#sys.path.insert(0, '/home/dlrc1/Documents/OSLSM-master/python/')\n",
    "import caffe\n",
    "from caffe.proto import caffe_pb2\n",
    "from caffe import draw\n",
    "from google.protobuf import text_format"
   ]
  },
  {
   "cell_type": "code",
   "execution_count": 3,
   "metadata": {},
   "outputs": [],
   "source": [
    "import numpy as np\n",
    "import tensorflow as tf\n",
    "import tensorlayer as tl"
   ]
  },
  {
   "cell_type": "code",
   "execution_count": 3,
   "metadata": {},
   "outputs": [],
   "source": [
    "net = caffe.Net('VGG_ILSVRC_16_layers_deploy.prototxt', 'VGG_ILSVRC_16_layers.caffemodel', caffe.TEST)"
   ]
  },
  {
   "cell_type": "code",
   "execution_count": 5,
   "metadata": {},
   "outputs": [
    {
     "name": "stdout",
     "output_type": "stream",
     "text": [
      "data\n",
      "conv1_1\n",
      "conv1_2\n",
      "pool1\n",
      "conv2_1\n",
      "conv2_2\n",
      "pool2\n",
      "conv3_1\n",
      "conv3_2\n",
      "conv3_3\n",
      "pool3\n",
      "conv4_1\n",
      "conv4_2\n",
      "conv4_3\n",
      "pool4\n",
      "conv5_1\n",
      "conv5_2\n",
      "conv5_3\n",
      "pool5\n",
      "fc6\n",
      "fc7\n",
      "fc8\n",
      "prob\n",
      "weights:  [[[[  4.29470569e-01   3.73466998e-01  -6.13601133e-02]\n",
      "   [  2.74769872e-01   3.86807770e-02  -3.67223352e-01]\n",
      "   [ -5.74681684e-02  -2.62249678e-01  -3.50096762e-01]]\n",
      "\n",
      "  [[  5.50379455e-01   4.40074533e-01  -8.13870355e-02]\n",
      "   [  3.45739067e-01   4.06322069e-02  -4.53501314e-01]\n",
      "   [ -5.86349145e-02  -3.30669671e-01  -4.85030204e-01]]\n",
      "\n",
      "  [[  4.80015397e-01   4.08547401e-01  -6.51455522e-02]\n",
      "   [  3.10477257e-01   5.02023660e-02  -4.03383434e-01]\n",
      "   [ -5.08716851e-02  -2.85227507e-01  -4.18516338e-01]]]\n",
      "\n",
      "\n",
      " [[[  1.17273867e-01   1.62062630e-01   1.35693997e-01]\n",
      "   [  1.48350164e-01   2.02298447e-01   1.61688417e-01]\n",
      "   [  1.29344285e-01   1.71572417e-01   1.38710454e-01]]\n",
      "\n",
      "  [[  2.08774377e-02   4.73412387e-02   4.18543853e-02]\n",
      "   [  3.10493708e-02   6.58102185e-02   4.62574959e-02]\n",
      "   [  3.16787697e-02   5.47101051e-02   4.23195846e-02]]\n",
      "\n",
      "  [[ -1.72696680e-01  -1.70375049e-01  -1.54351532e-01]\n",
      "   [ -1.87601492e-01  -1.77571565e-01  -1.74399972e-01]\n",
      "   [ -1.66002661e-01  -1.66666731e-01  -1.57048807e-01]]]\n",
      "\n",
      "\n",
      " [[[  3.40129584e-02   1.70863140e-03  -1.15694344e-01]\n",
      "   [  1.61559835e-01   1.56414255e-01  -8.99365395e-02]\n",
      "   [  1.29030216e-02   5.44555223e-05  -1.25339806e-01]]\n",
      "\n",
      "  [[  9.88311544e-02   5.13819456e-02  -1.01763301e-01]\n",
      "   [  2.40750551e-01   2.20311403e-01  -6.67438358e-02]\n",
      "   [  7.59588331e-02   4.86797579e-02  -1.12076312e-01]]\n",
      "\n",
      "  [[  3.75577137e-02  -4.96297423e-03  -1.38038069e-01]\n",
      "   [  1.66595340e-01   1.51188180e-01  -1.09849639e-01]\n",
      "   [  1.56279504e-02  -7.96697661e-03  -1.49133086e-01]]]\n",
      "\n",
      "\n",
      " ..., \n",
      " [[[ -1.32241577e-01  -1.48207128e-01  -1.40158370e-01]\n",
      "   [ -1.14316158e-01  -5.20089604e-02  -1.45945460e-01]\n",
      "   [ -1.41449392e-01  -1.22728683e-01  -1.53092295e-01]]\n",
      "\n",
      "  [[ -8.48205537e-02  -9.88498852e-02  -9.43124294e-02]\n",
      "   [ -6.93419054e-02  -3.78979952e-03  -1.03502415e-01]\n",
      "   [ -1.05017252e-01  -8.29023942e-02  -1.18306056e-01]]\n",
      "\n",
      "  [[ -1.27135560e-01  -1.22360572e-01  -1.29404560e-01]\n",
      "   [ -9.88388434e-02  -1.40649760e-02  -1.25688612e-01]\n",
      "   [ -1.49742723e-01  -1.09780088e-01  -1.56839803e-01]]]\n",
      "\n",
      "\n",
      " [[[ -5.33475243e-02  -2.35300660e-01  -3.77666801e-01]\n",
      "   [  3.65494519e-01   2.57149011e-01  -2.71823555e-01]\n",
      "   [  2.41099641e-01   2.44687453e-01  -1.39917329e-01]]\n",
      "\n",
      "  [[ -5.11389151e-02  -2.96195745e-01  -5.05662560e-01]\n",
      "   [  4.37116861e-01   2.69412428e-01  -3.45792353e-01]\n",
      "   [  3.39550197e-01   2.95466095e-01  -1.67058021e-01]]\n",
      "\n",
      "  [[ -5.02991639e-02  -2.76450396e-01  -4.62243795e-01]\n",
      "   [  4.04058546e-01   2.59300828e-01  -3.14026326e-01]\n",
      "   [  3.06801915e-01   2.79203743e-01  -1.42874300e-01]]]\n",
      "\n",
      "\n",
      " [[[  7.57738389e-03  -6.30356818e-02  -3.00509870e-01]\n",
      "   [  3.39938998e-01   3.71682674e-01  -2.39718184e-01]\n",
      "   [  4.55602147e-02   5.32913655e-02  -2.65075237e-01]]\n",
      "\n",
      "  [[  3.74943428e-02  -7.04357103e-02  -3.83694321e-01]\n",
      "   [  4.13171440e-01   4.09505904e-01  -2.92486250e-01]\n",
      "   [  9.86374393e-02   7.44469985e-02  -3.22241962e-01]]\n",
      "\n",
      "  [[  3.48965675e-02  -3.90796512e-02  -3.23985279e-01]\n",
      "   [  3.92561197e-01   4.23764467e-01  -2.32839763e-01]\n",
      "   [  8.82701725e-02   9.46525261e-02  -2.69694626e-01]]]]\n",
      "bias:  [ 0.73429835  0.09340367  0.06775674  0.88629657  0.25994542  0.66426694\n",
      " -0.01582893  0.3249065   0.68600726  0.06247932  0.58156496  0.23614749\n",
      "  0.69694996  0.19451167  0.48589221  0.44571847  0.51134223  0.20857599\n",
      "  0.57557714  0.33199573  0.4997983   0.7117759   0.30284074  0.70827121\n",
      "  0.04548979  0.74465019  0.29845494  0.48211655  0.81658626  0.62603897\n",
      "  0.3768093   2.06403708  0.77311045  0.3459577   0.61309582  0.65459156\n",
      "  0.39045632  0.50869167  0.2625384   0.23669638  0.07971057  1.1179353\n",
      "  0.26129362  0.8697589   0.21543622  0.78007823  0.37015367  0.47993386\n",
      "  0.4313978   0.50841939  0.23049663  0.76365268  0.35419866  0.45794216\n",
      "  0.46625951  0.09850298  0.3803252   0.66880196  0.4015123   0.90510356\n",
      "  0.43166816  1.30201399  0.53068852  0.48993504]\n"
     ]
    }
   ],
   "source": [
    "for blob in net.blobs:\n",
    "    print(blob)\n",
    "    \n",
    "W = net.params['conv1_1'][0].data\n",
    "b = net.params['conv1_1'][1].data\n",
    "\n",
    "print('weights: ', W)\n",
    "print('bias: ', b)"
   ]
  },
  {
   "cell_type": "code",
   "execution_count": 14,
   "metadata": {
    "scrolled": false
   },
   "outputs": [
    {
     "name": "stderr",
     "output_type": "stream",
     "text": [
      "/home/dlrc1/.local/lib/python3.6/site-packages/tensorflow/python/client/session.py:1645: UserWarning: An interactive session is already active. This can cause out-of-memory errors in some cases. You must explicitly call `InteractiveSession.close()` to release resources held by the other session(s).\n",
      "  warnings.warn('An interactive session is already active. This can '\n"
     ]
    }
   ],
   "source": [
    "sess = tf.InteractiveSession()"
   ]
  },
  {
   "cell_type": "code",
   "execution_count": 15,
   "metadata": {},
   "outputs": [],
   "source": [
    "sess.close()"
   ]
  },
  {
   "cell_type": "code",
   "execution_count": 8,
   "metadata": {
    "scrolled": true
   },
   "outputs": [
    {
     "name": "stdout",
     "output_type": "stream",
     "text": [
      "Downloading data from https://github.com/fchollet/deep-learning-models/releases/download/v0.1/vgg16_weights_tf_dim_ordering_tf_kernels.h5\n",
      "553467904/553467096 [==============================] - 74s 0us/step\n"
     ]
    }
   ],
   "source": [
    "network = tf.keras.applications.VGG16()"
   ]
  },
  {
   "cell_type": "code",
   "execution_count": 9,
   "metadata": {},
   "outputs": [
    {
     "name": "stdout",
     "output_type": "stream",
     "text": [
      "<tensorflow.python.keras.engine.training.Model object at 0x7fa200314dd8>\n"
     ]
    }
   ],
   "source": [
    "print(network)"
   ]
  },
  {
   "cell_type": "code",
   "execution_count": 12,
   "metadata": {},
   "outputs": [
    {
     "ename": "AttributeError",
     "evalue": "'Model' object has no attribute 'all_params'",
     "output_type": "error",
     "traceback": [
      "\u001b[0;31m---------------------------------------------------------------------------\u001b[0m",
      "\u001b[0;31mAttributeError\u001b[0m                            Traceback (most recent call last)",
      "\u001b[0;32m<ipython-input-12-87d2715c35e3>\u001b[0m in \u001b[0;36m<module>\u001b[0;34m()\u001b[0m\n\u001b[1;32m      2\u001b[0m     \u001b[0mparams\u001b[0m\u001b[0;34m.\u001b[0m\u001b[0mappend\u001b[0m\u001b[0;34m(\u001b[0m\u001b[0mval\u001b[0m\u001b[0;34m[\u001b[0m\u001b[0;36m1\u001b[0m\u001b[0;34m]\u001b[0m\u001b[0;34m[\u001b[0m\u001b[0;34m'weights'\u001b[0m\u001b[0;34m]\u001b[0m\u001b[0;34m)\u001b[0m\u001b[0;34m\u001b[0m\u001b[0m\n\u001b[1;32m      3\u001b[0m     \u001b[0mparams\u001b[0m\u001b[0;34m.\u001b[0m\u001b[0mappend\u001b[0m\u001b[0;34m(\u001b[0m\u001b[0mval\u001b[0m\u001b[0;34m[\u001b[0m\u001b[0;36m1\u001b[0m\u001b[0;34m]\u001b[0m\u001b[0;34m[\u001b[0m\u001b[0;34m'biases'\u001b[0m\u001b[0;34m]\u001b[0m\u001b[0;34m)\u001b[0m\u001b[0;34m\u001b[0m\u001b[0m\n\u001b[0;32m----> 4\u001b[0;31m \u001b[0mtl\u001b[0m\u001b[0;34m.\u001b[0m\u001b[0mfiles\u001b[0m\u001b[0;34m.\u001b[0m\u001b[0massign_params\u001b[0m\u001b[0;34m(\u001b[0m\u001b[0msess\u001b[0m\u001b[0;34m,\u001b[0m \u001b[0mparams\u001b[0m\u001b[0;34m,\u001b[0m \u001b[0mnetwork\u001b[0m\u001b[0;34m)\u001b[0m\u001b[0;34m\u001b[0m\u001b[0m\n\u001b[0m",
      "\u001b[0;32m/home/dlrc1/.local/lib/python3.6/site-packages/tensorlayer/files/utils.py\u001b[0m in \u001b[0;36massign_params\u001b[0;34m(sess, params, network)\u001b[0m\n\u001b[1;32m   1674\u001b[0m     \u001b[0mops\u001b[0m \u001b[0;34m=\u001b[0m \u001b[0;34m[\u001b[0m\u001b[0;34m]\u001b[0m\u001b[0;34m\u001b[0m\u001b[0m\n\u001b[1;32m   1675\u001b[0m     \u001b[0;32mfor\u001b[0m \u001b[0midx\u001b[0m\u001b[0;34m,\u001b[0m \u001b[0mparam\u001b[0m \u001b[0;32min\u001b[0m \u001b[0menumerate\u001b[0m\u001b[0;34m(\u001b[0m\u001b[0mparams\u001b[0m\u001b[0;34m)\u001b[0m\u001b[0;34m:\u001b[0m\u001b[0;34m\u001b[0m\u001b[0m\n\u001b[0;32m-> 1676\u001b[0;31m         \u001b[0mops\u001b[0m\u001b[0;34m.\u001b[0m\u001b[0mappend\u001b[0m\u001b[0;34m(\u001b[0m\u001b[0mnetwork\u001b[0m\u001b[0;34m.\u001b[0m\u001b[0mall_params\u001b[0m\u001b[0;34m[\u001b[0m\u001b[0midx\u001b[0m\u001b[0;34m]\u001b[0m\u001b[0;34m.\u001b[0m\u001b[0massign\u001b[0m\u001b[0;34m(\u001b[0m\u001b[0mparam\u001b[0m\u001b[0;34m)\u001b[0m\u001b[0;34m)\u001b[0m\u001b[0;34m\u001b[0m\u001b[0m\n\u001b[0m\u001b[1;32m   1677\u001b[0m     \u001b[0;32mif\u001b[0m \u001b[0msess\u001b[0m \u001b[0;32mis\u001b[0m \u001b[0;32mnot\u001b[0m \u001b[0;32mNone\u001b[0m\u001b[0;34m:\u001b[0m\u001b[0;34m\u001b[0m\u001b[0m\n\u001b[1;32m   1678\u001b[0m         \u001b[0msess\u001b[0m\u001b[0;34m.\u001b[0m\u001b[0mrun\u001b[0m\u001b[0;34m(\u001b[0m\u001b[0mops\u001b[0m\u001b[0;34m)\u001b[0m\u001b[0;34m\u001b[0m\u001b[0m\n",
      "\u001b[0;31mAttributeError\u001b[0m: 'Model' object has no attribute 'all_params'"
     ]
    }
   ],
   "source": [
    "npy = np.load('vgg16.npy', encoding='latin1')\n",
    "params = []\n",
    "for val in sorted(npy.item().items()):\n",
    "    params.append(val[1]['weights'])\n",
    "    params.append(val[1]['biases'])\n",
    "tl.files.assign_params(sess, params, network)"
   ]
  },
  {
   "cell_type": "code",
   "execution_count": 11,
   "metadata": {},
   "outputs": [
    {
     "ename": "NameError",
     "evalue": "name 'tl' is not defined",
     "output_type": "error",
     "traceback": [
      "\u001b[0;31m---------------------------------------------------------------------------\u001b[0m",
      "\u001b[0;31mNameError\u001b[0m                                 Traceback (most recent call last)",
      "\u001b[0;32m<ipython-input-11-83bb06b2ddca>\u001b[0m in \u001b[0;36m<module>\u001b[0;34m()\u001b[0m\n\u001b[0;32m----> 1\u001b[0;31m \u001b[0mall_var\u001b[0m \u001b[0;34m=\u001b[0m \u001b[0mtl\u001b[0m\u001b[0;34m.\u001b[0m\u001b[0mfiles\u001b[0m\u001b[0;34m.\u001b[0m\u001b[0mload_npy_to_any\u001b[0m\u001b[0;34m(\u001b[0m\u001b[0mname\u001b[0m\u001b[0;34m=\u001b[0m\u001b[0;34m'vgg16.npy'\u001b[0m\u001b[0;34m)\u001b[0m\u001b[0;34m\u001b[0m\u001b[0m\n\u001b[0m",
      "\u001b[0;31mNameError\u001b[0m: name 'tl' is not defined"
     ]
    }
   ],
   "source": [
    "all_var = tl.files.load_npy_to_any(name='vgg16.npy')"
   ]
  },
  {
   "cell_type": "code",
   "execution_count": 10,
   "metadata": {},
   "outputs": [
    {
     "name": "stdout",
     "output_type": "stream",
     "text": [
      "The Zen of Python, by Tim Peters\n",
      "\n",
      "Beautiful is better than ugly.\n",
      "Explicit is better than implicit.\n",
      "Simple is better than complex.\n",
      "Complex is better than complicated.\n",
      "Flat is better than nested.\n",
      "Sparse is better than dense.\n",
      "Readability counts.\n",
      "Special cases aren't special enough to break the rules.\n",
      "Although practicality beats purity.\n",
      "Errors should never pass silently.\n",
      "Unless explicitly silenced.\n",
      "In the face of ambiguity, refuse the temptation to guess.\n",
      "There should be one-- and preferably only one --obvious way to do it.\n",
      "Although that way may not be obvious at first unless you're Dutch.\n",
      "Now is better than never.\n",
      "Although never is often better than *right* now.\n",
      "If the implementation is hard to explain, it's a bad idea.\n",
      "If the implementation is easy to explain, it may be a good idea.\n",
      "Namespaces are one honking great idea -- let's do more of those!\n"
     ]
    }
   ],
   "source": [
    "conv1_weights = tf.get_variable('conv1_weights', initializer=data['conv1_1']['weights'])\n",
    "\n",
    "conv1_biases = tf.get_variable('conv1_biases', initializer=data['conv1_1']['biases'])"
   ]
  },
  {
   "cell_type": "code",
   "execution_count": null,
   "metadata": {},
   "outputs": [],
   "source": [
    "conv_kernel_1 = tf.nn.conv2d(x, conv1_weights, strides=[1,2,2,1], padding='VALID', name='conv1')\n",
    "\n",
    "bias_layer_1 = relu(tf.nn.bias_add(conv_kernel_1, conv1_biases))"
   ]
  }
 ],
 "metadata": {
  "kernelspec": {
   "display_name": "Python 3",
   "language": "python",
   "name": "python3"
  },
  "language_info": {
   "codemirror_mode": {
    "name": "ipython",
    "version": 3
   },
   "file_extension": ".py",
   "mimetype": "text/x-python",
   "name": "python",
   "nbconvert_exporter": "python",
   "pygments_lexer": "ipython3",
   "version": "3.6.5"
  }
 },
 "nbformat": 4,
 "nbformat_minor": 2
}
