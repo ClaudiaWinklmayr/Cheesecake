{
 "cells": [
  {
   "cell_type": "code",
   "execution_count": 1,
   "metadata": {
    "scrolled": true
   },
   "outputs": [
    {
     "name": "stdout",
     "output_type": "stream",
     "text": [
      "The autoreload extension is already loaded. To reload it, use:\n",
      "  %reload_ext autoreload\n"
     ]
    }
   ],
   "source": [
    "#Broker imports:\n",
    "import py_at_broker as pab\n",
    "from IPython.display import clear_output\n",
    "\n",
    "import pylab as pl\n",
    "import pickle as p\n",
    "import matplotlib.pyplot as plt\n",
    "%matplotlib inline\n",
    "b = pab.broker()\n",
    "\n",
    "%load_ext autoreload\n",
    "%autoreload 2\n",
    "from toolbox import data_processing as dp\n",
    "from toolbox import movementtoolbox as mt \n",
    "#Non broker imports:\n",
    "\n",
    "from IPython import display\n",
    "import math as math\n",
    "import pandas as pd\n",
    "import time\n",
    "import cv2\n",
    "import numpy as np\n",
    "import numpy.random as npr\n",
    "\n",
    "%load_ext autoreload\n",
    "%autoreload 2\n",
    "from toolbox import kinematic_mapping as km\n",
    "from robo_cheesecake.engine import *"
   ]
  },
  {
   "cell_type": "code",
   "execution_count": 2,
   "metadata": {},
   "outputs": [],
   "source": [
    "%load_ext autoreload\n",
    "%autoreload 2\n",
    "from toolbox import object_detection_toolbox as odt\n",
    "import os\n",
    "import tensorflow as tf\n",
    "\n",
    "from object_detection.utils import visualization_utils as vis_util"
   ]
  },
  {
   "cell_type": "code",
   "execution_count": 3,
   "metadata": {},
   "outputs": [],
   "source": [
    "b.request_signal(\"franka_state\", pab.MsgType.franka_state, True)\n",
    "current_counter=0"
   ]
  },
  {
   "cell_type": "code",
   "execution_count": 4,
   "metadata": {
    "scrolled": true
   },
   "outputs": [
    {
     "data": {
      "text/plain": [
       "True"
      ]
     },
     "execution_count": 4,
     "metadata": {},
     "output_type": "execute_result"
    }
   ],
   "source": [
    "b.request_signal(\"franka_lidar\", pab.MsgType.franka_lidar)"
   ]
  },
  {
   "cell_type": "code",
   "execution_count": 6,
   "metadata": {},
   "outputs": [
    {
     "name": "stdout",
     "output_type": "stream",
     "text": [
      "<py_at_broker.fb_msg_new.franka_lidar_msg object at 0x7fec7d9b5f28>\n"
     ]
    }
   ],
   "source": [
    "lidar_msg = b.recv_msg('franka_lidar', 0)\n",
    "print(lidar_msg)"
   ]
  },
  {
   "cell_type": "code",
   "execution_count": 7,
   "metadata": {
    "scrolled": true
   },
   "outputs": [
    {
     "name": "stdout",
     "output_type": "stream",
     "text": [
      "Address broker could not acceppt the offered signal franka_target_pos. Is there another signal with the same name? Trying to reconnect\n",
      "Reconnection to signal <franka_target_pos> successful\n"
     ]
    },
    {
     "data": {
      "text/plain": [
       "True"
      ]
     },
     "execution_count": 7,
     "metadata": {},
     "output_type": "execute_result"
    }
   ],
   "source": [
    "b.register_signal('franka_target_pos', pab.MsgType.target_pos)"
   ]
  },
  {
   "cell_type": "code",
   "execution_count": 8,
   "metadata": {},
   "outputs": [
    {
     "name": "stderr",
     "output_type": "stream",
     "text": [
      "/home/dlrc1/.virtualenvs/dlrc/lib/python3.6/site-packages/matplotlib/cbook/deprecation.py:107: MatplotlibDeprecationWarning: Adding an axes using the same arguments as a previous axes currently reuses the earlier instance.  In a future version, a new instance will always be created and returned.  Meanwhile, this warning can be suppressed, and the future behavior ensured, by passing a unique label to each axes instance.\n",
      "  warnings.warn(message, mplDeprecation, stacklevel=1)\n"
     ]
    },
    {
     "data": {
      "image/png": "[encoded data removed]",
      "text/plain": [
       "<Figure size 432x288 with 7 Axes>"
      ]
     },
     "metadata": {
      "needs_background": "light"
     },
     "output_type": "display_data"
    },
    {
     "data": {
      "image/png": "[encoded data removed]",
      "text/plain": [
       "<Figure size 432x288 with 7 Axes>"
      ]
     },
     "metadata": {
      "needs_background": "light"
     },
     "output_type": "display_data"
    }
   ],
   "source": [
    "def PredZ(z):\n",
    "    return RobotSaysHi.GeneratePrediction(w=RobotSaysHi.estimate_m, Z=z)[1]\n",
    "\n",
    "df_generated, N=robotoolbox.PrepareData('JointsFinalPresentation_take2.p')\n",
    "\n",
    "params = {'D' : 7, 'K' : 5, 'N' : N}\n",
    "RobotSaysHi=ProMP(identifier='RobotSaysHi', TrainingData=df_generated, params=params)\n",
    "RobotSaysHi.RegularizedLeastSquares() #Choice for l from [1]\n",
    "RobotSaysHi.GenerateDemoPlot(xvariable=\"Phases\")  \n",
    "RobotSaysHi.MeanAndStdPredictionPlot(factor=2)\n",
    "MaxTime=6\n",
    "samples=1  "
   ]
  },
  {
   "cell_type": "code",
   "execution_count": 42,
   "metadata": {},
   "outputs": [
    {
     "name": "stdout",
     "output_type": "stream",
     "text": [
      "The autoreload extension is already loaded. To reload it, use:\n",
      "  %reload_ext autoreload\n"
     ]
    }
   ],
   "source": [
    "%load_ext autoreload\n",
    "%autoreload 2\n",
    "from toolbox import obstacle_detector as od\n"
   ]
  },
  {
   "cell_type": "code",
   "execution_count": 43,
   "metadata": {},
   "outputs": [],
   "source": [
    "loc = od.localizer()\n"
   ]
  },
  {
   "cell_type": "code",
   "execution_count": 11,
   "metadata": {},
   "outputs": [
    {
     "name": "stdout",
     "output_type": "stream",
     "text": [
      "Done loading model 0\n",
      "Done loading model 1\n",
      "Done loading model 2\n",
      "Done loading model 3\n",
      "Done loading model 4\n",
      "Done loading model 5\n",
      "Done loading model 6\n",
      "Done loading model 7\n",
      "Done loading model 8\n",
      "initializing measurements: .....done\n"
     ]
    }
   ],
   "source": [
    "prefix = 'models/retrained_models_without_broken_lidar/model_lidar_5000_epochs'\n",
    "predictor, predictions, measurements = od.init_lidar_predictor(b, timesteps = 5, model_prefix=prefix)"
   ]
  },
  {
   "cell_type": "code",
   "execution_count": 12,
   "metadata": {},
   "outputs": [],
   "source": [
    "w_sampled=npr.multivariate_normal(RobotSaysHi.estimate_m,RobotSaysHi.estimate_sigma)\n",
    "T, Q = RobotSaysHi.GetJointData(w= w_sampled, robotrate=samples, MaxTime=MaxTime)"
   ]
  },
  {
   "cell_type": "code",
   "execution_count": 66,
   "metadata": {},
   "outputs": [
    {
     "name": "stdout",
     "output_type": "stream",
     "text": [
      "Deviation of 0.45 in liadar 7.\n",
      "obstacle found in front left top\n",
      "location of obstacle [0.257 0.181 0.619]\n",
      "current lidar value [8190 1113 8191  580 8191 8190 8191  210 1779]\n",
      "lidar positions  [[ 0.513 -0.229  0.64 ]\n",
      " [ 0.551 -0.101  0.704]\n",
      " [ 0.595 -0.123  0.626]\n",
      " [ 0.528 -0.102  0.566]\n",
      " [ 0.553 -0.033  0.633]\n",
      " [ 0.121 -0.178  0.607]\n",
      " [ 0.169 -0.021  0.681]\n",
      " [ 0.211 -0.023  0.599]\n",
      " [ 0.174  0.055  0.629]]\n",
      "1\n"
     ]
    },
    {
     "ename": "KeyboardInterrupt",
     "evalue": "",
     "output_type": "error",
     "traceback": [
      "\u001b[0;31m---------------------------------------------------------------------------\u001b[0m",
      "\u001b[0;31mKeyboardInterrupt\u001b[0m                         Traceback (most recent call last)",
      "\u001b[0;32m<ipython-input-66-61a178368a24>\u001b[0m in \u001b[0;36m<module>\u001b[0;34m()\u001b[0m\n\u001b[1;32m     25\u001b[0m \u001b[0;32mwhile\u001b[0m \u001b[0;32mTrue\u001b[0m\u001b[0;34m:\u001b[0m\u001b[0;34m\u001b[0m\u001b[0m\n\u001b[1;32m     26\u001b[0m \u001b[0;34m\u001b[0m\u001b[0m\n\u001b[0;32m---> 27\u001b[0;31m     \u001b[0mtime\u001b[0m\u001b[0;34m.\u001b[0m\u001b[0msleep\u001b[0m\u001b[0;34m(\u001b[0m\u001b[0msampling_rate\u001b[0m\u001b[0;34m)\u001b[0m\u001b[0;34m\u001b[0m\u001b[0m\n\u001b[0m\u001b[1;32m     28\u001b[0m     \u001b[0mstate_msg\u001b[0m \u001b[0;34m=\u001b[0m \u001b[0mb\u001b[0m\u001b[0;34m.\u001b[0m\u001b[0mrecv_msg\u001b[0m\u001b[0;34m(\u001b[0m\u001b[0;34m\"franka_state\"\u001b[0m\u001b[0;34m,\u001b[0m \u001b[0;36m0\u001b[0m\u001b[0;34m)\u001b[0m\u001b[0;34m\u001b[0m\u001b[0m\n\u001b[1;32m     29\u001b[0m     \u001b[0mlidar_msg\u001b[0m \u001b[0;34m=\u001b[0m \u001b[0mb\u001b[0m\u001b[0;34m.\u001b[0m\u001b[0mrecv_msg\u001b[0m\u001b[0;34m(\u001b[0m\u001b[0;34m\"franka_lidar\"\u001b[0m\u001b[0;34m,\u001b[0m \u001b[0;36m0\u001b[0m\u001b[0;34m)\u001b[0m\u001b[0;34m\u001b[0m\u001b[0m\n",
      "\u001b[0;31mKeyboardInterrupt\u001b[0m: "
     ]
    }
   ],
   "source": [
    "#Q_des=end_pos\n",
    "#w_des=RobotSaysHi.Condition_JointSpace(Qtarget=[RobotSaysHi.GetStartPoint(w=RobotSaysHi.estimate_m), Q_des], Ztarget=[0,z])        \n",
    "#w_des=RobotSaysHi.Condition_JointSpace(Qtarget=[RobotSaysHi.GetStartPoint(w=RobotSaysHi.estimate_m),PredZ(0.3) ,PredZ(0.35) , Q_des], Ztarget=[0,0.3,0.35,z])        \n",
    "#filename = 'panning\\scan_desk_11_10_'\n",
    "#cols = ['timestamp_franka', 'joint_pos', 'joint_vel', 'endeff_pos', 'timestamp_lidar', 'lidar_data']\n",
    "#df = pd.DataFrame(columns = cols)\n",
    "polarity=1\n",
    "\n",
    "send_position = 0   \n",
    "check_for_error = 0\n",
    "sampling_rate = 0.05\n",
    "lidars = []\n",
    "joints = []\n",
    "\n",
    "pos_counter = -1\n",
    "\n",
    "samples = 1\n",
    "sleep_time = samples\n",
    "go_time = 1.8*samples\n",
    "\n",
    "err_count = 0\n",
    "\n",
    "\n",
    "\n",
    "while True:\n",
    "    \n",
    "    time.sleep(sampling_rate)\n",
    "    state_msg = b.recv_msg(\"franka_state\", 0)\n",
    "    lidar_msg = b.recv_msg(\"franka_lidar\", 0)\n",
    "    \n",
    "    lidars.append(lidar_msg.get_data())\n",
    "    joints.append(state_msg.get_j_pos())\n",
    "    \n",
    "    check_for_error += 1\n",
    "    send_position += sampling_rate\n",
    "    \n",
    "    if send_position > 1:\n",
    "        \n",
    "        \n",
    "        if pos_counter == -1:\n",
    "            print('sampled new')\n",
    "            w_sampled=npr.multivariate_normal(RobotSaysHi.estimate_m,RobotSaysHi.estimate_sigma)\n",
    "            T, Q = RobotSaysHi.GetJointData(w= w_sampled, robotrate=samples, MaxTime=MaxTime)\n",
    "            polarity = 1\n",
    "            pos_counter+=polarity\n",
    "        elif pos_counter == 6:\n",
    "            print('reversed')\n",
    "            polarity = -1  \n",
    "            pos_counter+=polarity\n",
    "        else:\n",
    "            pos_counter+=polarity\n",
    "        \n",
    "        \n",
    "        Q_pos = Q[pos_counter]\n",
    "        frame=current_counter+1\n",
    "        target_msg, current_counter = mt.create_message(counter=frame, ctrl_t = 1, pos = Q_pos, go_time=go_time)\n",
    "        b.send_msg('franka_target_pos', target_msg)\n",
    "        #state_msg = b.recv_msg(\"franka_state\", 0)\n",
    "        #lidar_msg = b.recv_msg(\"franka_lidar\", 0)\n",
    "        send_position = 0 \n",
    "        print(pos_counter)\n",
    "        \n",
    "    if check_for_error > 10:  \n",
    "        clear_output(wait = True)\n",
    "        prediction, measurement = predictor.predict_timeseries(joint_data=np.array(joints), true_lidar=np.array(lidars))\n",
    "        #measurement = medfilt(measurement, 5)\n",
    "        #od.calc_error(predictor, predictions, measurements, np.array(lidars), np.array(joints), 0.4)\n",
    "        error, idx = od.compare2threshold(prediction, measurement, 0.3, all_errors = True)\n",
    "        \n",
    "        if error: \n",
    "            if type(idx) == int:\n",
    "                #location = loc.localize_lidars(joint_angles=state_msg.get_j_pos())\n",
    "                lidar_measurement=lidar_msg.get_data()\n",
    "                obstacle = loc.localize_obstacle(joint_pos=state_msg.get_j_pos(),\n",
    "                                                 lidar_measurement=lidar_measurement, \n",
    "                                                 lidar_index=idx)\n",
    "                print('location of obstacle', obstacle)\n",
    "                print('current lidar value', lidar_measurement)\n",
    "                print('lidar positions ', loc.localize_lidars(state_msg.get_j_pos()))\n",
    "                coll = loc.predict_collision(future_joint_angels=Q[pos_counter+1:].T, obstacle_location=obstacle)\n",
    "                print(coll)\n",
    "                #plt.plot(prediction[:, idx], label = 'prediction')\n",
    "                #plt.plot(measurement[:, idx], label = 'measurement')\n",
    "                #plt.title('error in lidar {}'.format(idx))\n",
    "                #plt.legend()\n",
    "                #plt.savefig('error'+str(err_count)+'.png')     \n",
    "                #plt.show()\n",
    "\n",
    "                if coll[0]: \n",
    "                    #clear_output()\n",
    "                    print('returning to avoid collision')\n",
    "                    pos_counter = -1\n",
    "                    time.sleep(2)\n",
    "                \n",
    "\n",
    "            if type(idx) == np.ndarray: \n",
    "                colls = []\n",
    "                #location = loc.localize_lidars(joint_angles=state_msg.get_j_pos())\n",
    "                lidar_measurement=lidar_msg.get_data()\n",
    "                for i in idx:             \n",
    "                    obstacle = loc.localize_obstacle(joint_pos=state_msg.get_j_pos(),\n",
    "                                                 lidar_measurement=lidar_measurement, \n",
    "                                                 lidar_index=i)\n",
    "                    print('location of obstacle', obstacle)\n",
    "                    print('current lidar value', lidar_measurement)\n",
    "                    print('lidar positions ', loc.localize_lidars(state_msg.get_j_pos()))\n",
    "                    coll = loc.predict_collision(future_joint_angels=Q[pos_counter+1:].T, obstacle_location=obstacle)\n",
    "                    colls.append(coll[0])\n",
    "                #plt.plot(prediction[:, idx], label = 'prediction')\n",
    "                #plt.plot(measurement[:, idx], label = 'measurement')\n",
    "                #plt.title('error in lidar {}'.format(idx))\n",
    "                #plt.legend()\n",
    "                #plt.savefig('error'+str(err_count)+'.png')     \n",
    "                #plt.show()\n",
    "\n",
    "                if np.array(colls).any(): \n",
    "                    #clear_output()\n",
    "                    print('returning to avoid collision')\n",
    "                    pos_counter = -1\n",
    "                    time.sleep(2)\n",
    "\n",
    "\n",
    "                \n",
    "        lidars = []\n",
    "        joints = []       \n",
    "        check_for_error = 0\n",
    "                \n",
    "            #err_count +=1\n",
    "            #time.sleep(1)\n",
    "\n",
    "        \n",
    "        \n",
    "        \n",
    "    #save_and_send+=0.1"
   ]
  },
  {
   "cell_type": "code",
   "execution_count": 35,
   "metadata": {},
   "outputs": [
    {
     "ename": "KeyboardInterrupt",
     "evalue": "",
     "output_type": "error",
     "traceback": [
      "\u001b[0;31m---------------------------------------------------------------------------\u001b[0m",
      "\u001b[0;31mKeyboardInterrupt\u001b[0m                         Traceback (most recent call last)",
      "\u001b[0;32m<ipython-input-35-a1a7b1ad9746>\u001b[0m in \u001b[0;36m<module>\u001b[0;34m()\u001b[0m\n\u001b[1;32m      1\u001b[0m \u001b[0;32mwhile\u001b[0m \u001b[0;32mTrue\u001b[0m\u001b[0;34m:\u001b[0m\u001b[0;34m\u001b[0m\u001b[0m\n\u001b[1;32m      2\u001b[0m     \u001b[0mclear_output\u001b[0m\u001b[0;34m(\u001b[0m\u001b[0mwait\u001b[0m\u001b[0;34m=\u001b[0m\u001b[0;32mTrue\u001b[0m\u001b[0;34m)\u001b[0m\u001b[0;34m\u001b[0m\u001b[0m\n\u001b[0;32m----> 3\u001b[0;31m     \u001b[0mtime\u001b[0m\u001b[0;34m.\u001b[0m\u001b[0msleep\u001b[0m\u001b[0;34m(\u001b[0m\u001b[0;36m0.05\u001b[0m\u001b[0;34m)\u001b[0m\u001b[0;34m\u001b[0m\u001b[0m\n\u001b[0m\u001b[1;32m      4\u001b[0m     \u001b[0mlidar_msg\u001b[0m \u001b[0;34m=\u001b[0m \u001b[0mb\u001b[0m\u001b[0;34m.\u001b[0m\u001b[0mrecv_msg\u001b[0m\u001b[0;34m(\u001b[0m\u001b[0;34m\"franka_lidar\"\u001b[0m\u001b[0;34m,\u001b[0m \u001b[0;36m0\u001b[0m\u001b[0;34m)\u001b[0m\u001b[0;34m\u001b[0m\u001b[0m\n\u001b[1;32m      5\u001b[0m     \u001b[0mprint\u001b[0m\u001b[0;34m(\u001b[0m\u001b[0mlidar_msg\u001b[0m\u001b[0;34m.\u001b[0m\u001b[0mget_data\u001b[0m\u001b[0;34m(\u001b[0m\u001b[0;34m)\u001b[0m\u001b[0;34m)\u001b[0m\u001b[0;34m\u001b[0m\u001b[0m\n",
      "\u001b[0;31mKeyboardInterrupt\u001b[0m: "
     ]
    }
   ],
   "source": [
    "while True: \n",
    "    clear_output(wait=True)\n",
    "    time.sleep(0.05)\n",
    "    lidar_msg = b.recv_msg(\"franka_lidar\", 0)\n",
    "    print(lidar_msg.get_data())\n",
    "\n",
    "    \n",
    "    "
   ]
  },
  {
   "cell_type": "code",
   "execution_count": null,
   "metadata": {},
   "outputs": [],
   "source": [
    "loc.lidarDF"
   ]
  },
  {
   "cell_type": "code",
   "execution_count": null,
   "metadata": {},
   "outputs": [],
   "source": [
    "b.request_signal(\"realsense_images\", pab.MsgType.realsense_image)"
   ]
  },
  {
   "cell_type": "code",
   "execution_count": null,
   "metadata": {},
   "outputs": [],
   "source": [
    "camera_msg = b.recv_msg(\"realsense_images\", 0)\n",
    "img_array = camera_msg.get_rgb()\n",
    "img_dim = camera_msg.get_shape_rgb()\n",
    "img = np.reshape(img_array, img_dim)"
   ]
  },
  {
   "cell_type": "code",
   "execution_count": null,
   "metadata": {},
   "outputs": [],
   "source": [
    "plt.imshow(img)\n",
    "plt.axis('off')\n",
    "plt.savefig('notfranka9.png', bbox_inches ='tight')"
   ]
  },
  {
   "cell_type": "code",
   "execution_count": 63,
   "metadata": {},
   "outputs": [
    {
     "data": {
      "text/plain": [
       "True"
      ]
     },
     "execution_count": 63,
     "metadata": {},
     "output_type": "execute_result"
    }
   ],
   "source": [
    "type(np.array([7, 2]))==np.ndarray"
   ]
  },
  {
   "cell_type": "code",
   "execution_count": null,
   "metadata": {},
   "outputs": [],
   "source": []
  }
 ],
 "metadata": {
  "kernelspec": {
   "display_name": "Python 3",
   "language": "python",
   "name": "python3"
  },
  "language_info": {
   "codemirror_mode": {
    "name": "ipython",
    "version": 3
   },
   "file_extension": ".py",
   "mimetype": "text/x-python",
   "name": "python",
   "nbconvert_exporter": "python",
   "pygments_lexer": "ipython3",
   "version": "3.6.5"
  }
 },
 "nbformat": 4,
 "nbformat_minor": 2
}
