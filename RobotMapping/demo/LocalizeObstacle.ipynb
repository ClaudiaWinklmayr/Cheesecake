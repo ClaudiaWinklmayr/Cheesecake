{
 "cells": [
  {
   "cell_type": "code",
   "execution_count": 3,
   "metadata": {},
   "outputs": [],
   "source": [
    "import numpy as np\n",
    "from toolbox import kinematic_mapping as km\n",
    "import pandas as pd\n",
    "\n"
   ]
  },
  {
   "cell_type": "code",
   "execution_count": 197,
   "metadata": {},
   "outputs": [],
   "source": [
    "class grid():   \n",
    "    \n",
    "    def __init__(self, x_min=-1, x_max=1, y_min=-1, y_max=1, z_min=0, z_max=1, grid_width=0.1):\n",
    "        self.xs = np.arange(x_min, x_max, grid_width)\n",
    "        self.ys = np.arange(y_min, y_max, grid_width)\n",
    "        self.zs = np.arange(z_min, z_max, grid_width)        \n",
    "        \n",
    "    def is_in_grid(self, point): \n",
    "        idxs = np.zeros(3)\n",
    "        \n",
    "        if (point[0]<self.xs[0]) or (point[0]>self.xs[-1]): \n",
    "            return (False, None)\n",
    "        else: \n",
    "            idxs[0] = np.argwhere(point[0]<self.xs)[0][0]\n",
    "            \n",
    "        if (point[1]<self.ys[0]) or (point[1]>self.ys[-1]): \n",
    "            return (False, None)\n",
    "        else: idxs[1] = np.argwhere(point[1]<self.ys)[0][0]\n",
    "        \n",
    "        if (point[2]<self.zs[0]) or (point[2]>self.zs[-1]): \n",
    "            return (False, None)\n",
    "        else: \n",
    "            idxs[2] = np.argwhere(point[2]<self.zs)[0][0]\n",
    "            \n",
    "        return (True, idxs.astype(int))\n",
    "        "
   ]
  },
  {
   "cell_type": "markdown",
   "metadata": {},
   "source": [
    "joint_id = [5,5,5,5,5,4,3,3,3]\n",
    "lidar_x = [0,-7,0,7,0,0,8,14,0]\n",
    "lidar_y = [-8,5,4,5,12,0,5,5,0]\n",
    "lidar_z = [0,0,6,0,0,12,6,-1,-12]\n",
    "point_x = [0,-1,0,1,0,0,0,0,0]\n",
    "point_y = [-1,0,0,0,1,0,0,1,0]\n",
    "point_z = [0,0,1,0,0,1,1,0,-2]\n",
    "\n",
    "d = {'joint_id':joint_id, 'lidar_x':lidar_x, 'lidar_y':lidar_y, \n",
    "     'lidar_z':lidar_z, 'point_x':point_x, 'point_y':point_y, 'point_z':point_z}\n",
    "\n",
    "df = pd.DataFrame(d)"
   ]
  },
  {
   "cell_type": "code",
   "execution_count": 196,
   "metadata": {},
   "outputs": [],
   "source": [
    "\n",
    "class localizer(): \n",
    "    def __init__(self): \n",
    "        self.angle_df = km.init_params()\n",
    "        \n",
    "        self.lidarDF = self.init_lidar_constants()\n",
    "        #joint the lidar is attached to\n",
    "        self.lidar_joint = {str(self.lidarDF['lidar_id'][i]):self.lidarDF['joint_id'][i] for i in range(len(self.lidarDF))}\n",
    "        \n",
    "        self.lidar_base = {str(self.lidarDF['lidar_id'][i]): \n",
    "                           0.01*np.array([float(self.lidarDF['lidar_x'][i]), self.lidarDF['lidar_y'][i], self.lidarDF['lidar_z'][i]])\n",
    "                           for i in range(len(self.lidarDF))}\n",
    "        \n",
    "        self.lidar_direction = {str(self.lidarDF['lidar_id'][i]): \n",
    "                           np.array([float(self.lidarDF['point_x'][i]), self.lidarDF['point_y'][i], self.lidarDF['point_z'][i]])\n",
    "                           for i in range(len(self.lidarDF))}\n",
    "        self.world_grid = grid()\n",
    "    \n",
    "    def init_lidar_constants(self): \n",
    "        lidar_id = [0,1,2,3,4,5,6,7,8]\n",
    "        joint_id = [5,5,5,5,5,4,3,3,4]\n",
    "        lidar_x = [0,-7,0,7,0,0,8,14,0]\n",
    "        lidar_y = [-8,5,4,5,12,0,5,5,0]\n",
    "        lidar_z = [0,0,6,0,0,12,6,-1,-12]\n",
    "        point_x = [0,-1,0,1,0,0,0,0,0]\n",
    "        point_y = [-1,0,0,0,1,0,0,1,0]\n",
    "        point_z = [0,0,1,0,0,1,1,0,-2]\n",
    "\n",
    "        d = {'lidar_id':lidar_id, 'joint_id':joint_id, 'lidar_x':lidar_x, 'lidar_y':lidar_y, \n",
    "         'lidar_z':lidar_z, 'point_x':point_x, 'point_y':point_y, 'point_z':point_z}\n",
    "\n",
    "        return pd.DataFrame(d)       \n",
    "    \n",
    "    def create_transformation(self, joint_angles): \n",
    "        self.angle_df['theta'].values[0:7] = joint_angles\n",
    "        TF_Base = km.Transform2Base(self.angle_df)\n",
    "        return TF_Base\n",
    "        \n",
    "    def localize_joints(self, joint_angles):         \n",
    "        TF_Base = self.create_transformation(joint_angles)\n",
    "        joint_base = np.array([0,0,0,1])\n",
    "        joints = [km.ExecuteTransform(TF_Base[i], joint_base) for i in range(len(TF_Base))]\n",
    "        return np.array(joints)[:,:3]\n",
    "    \n",
    "    def localize_lidars(self, joint_angles): \n",
    "        TF_Base = self.create_transformation(joint_angles)   \n",
    "        lidar_poses = []\n",
    "        for lid in range(9): \n",
    "            joint = self.lidar_joint[str(lid)]\n",
    "            lidar_tmp = np.ones(4)\n",
    "            lidar_tmp[:3] = self.lidar_base[str(lid)]\n",
    "            lidar_poses.append(km.ExecuteTransform(TF_Base[joint-1], lidar_tmp))\n",
    "        return np.array(lidar_poses)[:,:3]\n",
    "\n",
    "    \n",
    "    def localize_obstacle(self, joint_pos, lidar_measurement, lidar_index):\n",
    "        measurement = lidar_measurement[lidar_index]\n",
    "        distance = np.min([measurement, 2000])/1000. # clip and transform to meters \n",
    "        location_joint = self.lidar_base[str(lidar_index)] + distance*self.lidar_direction[str(lidar_index)]\n",
    "        location_joint_tmp = np.ones(4)\n",
    "        location_joint_tmp[:3] = location_joint\n",
    "        TF_Base = self.create_transformation(joint_pos)\n",
    "        \n",
    "        location = km.ExecuteTransform(TF_Base[self.lidar_joint[str(lidar_index)]], location_joint_tmp)[:3]\n",
    "        self.identify_area(location)\n",
    "        return location\n",
    "\n",
    "    \n",
    "    def identify_area(self, location):         \n",
    "        x_dir = ['back', 'front']\n",
    "        y_dir = ['right','left']\n",
    "        z_dir = ['bottom', 'top']        \n",
    "        comparison = np.array([0, 0, 0.4])\n",
    "        select = (location>comparison).astype(int)       \n",
    "        print('obstacle found in {} {} {}'.format(x_dir[select[0]], y_dir[select[1]], z_dir[select[2]]))\n",
    "\n",
    "        \n",
    "    def predict_collision(self, obstacle_location, future_joint_angels): \n",
    "        #future_joint_angels = joints x timestamps\n",
    "        T = future_joint_angels.shape[1]  #number of future timestamps\n",
    "        J = future_joint_angels.shape[0] \n",
    "        obstacle_in_grid = self.world_grid.is_in_grid(obstacle_location)        \n",
    "        if obstacle_in_grid[0] == False: \n",
    "            print('Obstacle outside world')\n",
    "            return        \n",
    "        else: \n",
    "            for t in range(T): \n",
    "                joint_poses = self.localize_joints(future_joint_angels[:, t])\n",
    "                grid_locs = [self.world_grid.is_in_grid(joint_poses[j, :])[1] for j in range(J)]\n",
    "                collision = np.array([(grid_loc == obstacle_in_grid[1]).all() for grid_loc in grid_locs])\n",
    "                if collision.any(): \n",
    "                    print('possible collision in {} steps'.format(t))\n",
    "                    return (True, t)\n",
    "                    \n",
    "            "
   ]
  },
  {
   "cell_type": "code",
   "execution_count": 184,
   "metadata": {},
   "outputs": [],
   "source": [
    "loc = localizer()"
   ]
  },
  {
   "cell_type": "code",
   "execution_count": 185,
   "metadata": {
    "scrolled": true
   },
   "outputs": [
    {
     "data": {
      "text/plain": [
       "array([[0.   , 0.   , 0.333],\n",
       "       [0.   , 0.   , 0.333],\n",
       "       [0.144, 0.224, 0.504],\n",
       "       [0.098, 0.282, 0.466],\n",
       "       [0.363, 0.122, 0.708],\n",
       "       [0.363, 0.122, 0.708],\n",
       "       [0.39 , 0.128, 0.792],\n",
       "       [0.3  , 0.18 , 0.816]])"
      ]
     },
     "execution_count": 185,
     "metadata": {},
     "output_type": "execute_result"
    }
   ],
   "source": [
    "loc.localize_joints(np.ones(7))"
   ]
  },
  {
   "cell_type": "code",
   "execution_count": 186,
   "metadata": {},
   "outputs": [
    {
     "data": {
      "text/plain": [
       "(9, 3)"
      ]
     },
     "execution_count": 186,
     "metadata": {},
     "output_type": "execute_result"
    }
   ],
   "source": [
    "loc.localize_lidars(np.ones(7)).shape"
   ]
  },
  {
   "cell_type": "code",
   "execution_count": 187,
   "metadata": {
    "scrolled": true
   },
   "outputs": [
    {
     "name": "stdout",
     "output_type": "stream",
     "text": [
      "obstacle found in front right top\n"
     ]
    },
    {
     "data": {
      "text/plain": [
       "array([ 1.315, -0.156,  1.613])"
      ]
     },
     "execution_count": 187,
     "metadata": {},
     "output_type": "execute_result"
    }
   ],
   "source": [
    "loc.localize_obstacle(np.ones(7), np.ones(9)*1222, 5)"
   ]
  },
  {
   "cell_type": "code",
   "execution_count": null,
   "metadata": {},
   "outputs": [],
   "source": []
  },
  {
   "cell_type": "code",
   "execution_count": 193,
   "metadata": {},
   "outputs": [
    {
     "name": "stdout",
     "output_type": "stream",
     "text": [
      "[array([11, 11,  4]), array([11, 11,  4]), array([12, 13,  6]), array([11, 13,  5]), array([14, 12,  8]), array([14, 12,  8]), array([14, 12,  8])] [11 11  4]\n",
      "[ True  True False False False False False]\n"
     ]
    }
   ],
   "source": [
    "a = loc.predict_collision(np.array([0, 0, 0.35]), np.ones((7, 9)))"
   ]
  },
  {
   "cell_type": "code",
   "execution_count": 194,
   "metadata": {},
   "outputs": [
    {
     "data": {
      "text/plain": [
       "(True, 0)"
      ]
     },
     "execution_count": 194,
     "metadata": {},
     "output_type": "execute_result"
    }
   ],
   "source": [
    "a"
   ]
  },
  {
   "cell_type": "code",
   "execution_count": 195,
   "metadata": {},
   "outputs": [
    {
     "data": {
      "text/plain": [
       "1222.0"
      ]
     },
     "execution_count": 195,
     "metadata": {},
     "output_type": "execute_result"
    }
   ],
   "source": [
    "a = np.ones(9)*1222\n",
    "a[5]"
   ]
  },
  {
   "cell_type": "code",
   "execution_count": 157,
   "metadata": {},
   "outputs": [
    {
     "data": {
      "text/plain": [
       "1"
      ]
     },
     "execution_count": 157,
     "metadata": {},
     "output_type": "execute_result"
    }
   ],
   "source": [
    "np.min([1,2])"
   ]
  },
  {
   "cell_type": "code",
   "execution_count": 158,
   "metadata": {},
   "outputs": [],
   "source": [
    "def grid_area(x_min=-1, x_max=-1, y_min=-1, y_max=-1, z_min=0, z_max=-1, grid_width=0.1): \n",
    "    xs = np.arange(x_min, x_max, grid_width)\n",
    "    ys = np.arange(y_min, y_max, grid_width)\n",
    "    zs = np.arange(z_min, z_max, grid_width)\n",
    "    \n",
    "    return xs, ys, zs\n"
   ]
  },
  {
   "cell_type": "code",
   "execution_count": null,
   "metadata": {},
   "outputs": [],
   "source": []
  },
  {
   "cell_type": "code",
   "execution_count": 143,
   "metadata": {},
   "outputs": [
    {
     "name": "stdout",
     "output_type": "stream",
     "text": [
      "[0.  0.1 0.2 0.3 0.4 0.5 0.6 0.7 0.8 0.9]\n"
     ]
    }
   ],
   "source": [
    "a = np.arange(0, 1, 0.1)\n",
    "print(a)\n",
    "aa = 1"
   ]
  },
  {
   "cell_type": "code",
   "execution_count": 144,
   "metadata": {},
   "outputs": [],
   "source": [
    "gr = grid()"
   ]
  },
  {
   "cell_type": "code",
   "execution_count": 145,
   "metadata": {},
   "outputs": [
    {
     "data": {
      "text/plain": [
       "array([0. , 0.1, 0.2, 0.3, 0.4, 0.5, 0.6, 0.7, 0.8, 0.9])"
      ]
     },
     "execution_count": 145,
     "metadata": {},
     "output_type": "execute_result"
    }
   ],
   "source": [
    "gr.zs"
   ]
  },
  {
   "cell_type": "code",
   "execution_count": 91,
   "metadata": {},
   "outputs": [],
   "source": [
    "a = gr.is_in_grid(np.array([0.1, 0.2, 0.1]))"
   ]
  },
  {
   "cell_type": "code",
   "execution_count": 95,
   "metadata": {},
   "outputs": [
    {
     "data": {
      "text/plain": [
       "True"
      ]
     },
     "execution_count": 95,
     "metadata": {},
     "output_type": "execute_result"
    }
   ],
   "source": [
    "(a[1] == a[1]).all()"
   ]
  },
  {
   "cell_type": "code",
   "execution_count": 98,
   "metadata": {},
   "outputs": [],
   "source": [
    "b = np.array([True, False, True])"
   ]
  },
  {
   "cell_type": "code",
   "execution_count": 100,
   "metadata": {},
   "outputs": [
    {
     "data": {
      "text/plain": [
       "True"
      ]
     },
     "execution_count": 100,
     "metadata": {},
     "output_type": "execute_result"
    }
   ],
   "source": [
    "b.any()"
   ]
  },
  {
   "cell_type": "code",
   "execution_count": null,
   "metadata": {},
   "outputs": [],
   "source": []
  }
 ],
 "metadata": {
  "kernelspec": {
   "display_name": "Python 3",
   "language": "python",
   "name": "python3"
  },
  "language_info": {
   "codemirror_mode": {
    "name": "ipython",
    "version": 3
   },
   "file_extension": ".py",
   "mimetype": "text/x-python",
   "name": "python",
   "nbconvert_exporter": "python",
   "pygments_lexer": "ipython3",
   "version": "3.6.5"
  }
 },
 "nbformat": 4,
 "nbformat_minor": 2
}
