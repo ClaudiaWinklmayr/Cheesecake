{
 "cells": [
  {
   "cell_type": "code",
   "execution_count": null,
   "metadata": {
    "scrolled": true
   },
   "outputs": [],
   "source": [
    "#Broker imports:\n",
    "import py_at_broker as pab\n",
    "from IPython.display import clear_output\n",
    "\n",
    "import pylab as pl\n",
    "import pickle as p\n",
    "import matplotlib.pyplot as plt\n",
    "%matplotlib inline\n",
    "b = pab.broker()\n",
    "\n",
    "%load_ext autoreload\n",
    "%autoreload 2\n",
    "from toolbox import data_processing as dp\n",
    "from toolbox import movementtoolbox as mt \n",
    "#Non broker imports:\n",
    "\n",
    "from IPython import display\n",
    "import math as math\n",
    "import pandas as pd\n",
    "import time\n",
    "import cv2\n",
    "import numpy as np\n",
    "import numpy.random as npr\n",
    "\n",
    "%load_ext autoreload\n",
    "%autoreload 2\n",
    "from toolbox import kinematic_mapping as km\n",
    "from robo_cheesecake.engine import *"
   ]
  },
  {
   "cell_type": "code",
   "execution_count": null,
   "metadata": {},
   "outputs": [],
   "source": [
    "import os\n",
    "import tensorflow as tf\n",
    "\n",
    "#from object_detection.utils import visualization_utils as vis_util"
   ]
  },
  {
   "cell_type": "code",
   "execution_count": null,
   "metadata": {},
   "outputs": [],
   "source": [
    "b.request_signal(\"franka_state\", pab.MsgType.franka_state, True)\n",
    "current_counter=0"
   ]
  },
  {
   "cell_type": "code",
   "execution_count": null,
   "metadata": {
    "scrolled": true
   },
   "outputs": [],
   "source": [
    "b.request_signal(\"franka_lidar\", pab.MsgType.franka_lidar)"
   ]
  },
  {
   "cell_type": "code",
   "execution_count": null,
   "metadata": {},
   "outputs": [],
   "source": [
    "lidar_msg = b.recv_msg('franka_lidar', 0)\n",
    "print(lidar_msg)"
   ]
  },
  {
   "cell_type": "code",
   "execution_count": null,
   "metadata": {
    "scrolled": true
   },
   "outputs": [],
   "source": [
    "b.register_signal('franka_target_pos', pab.MsgType.target_pos)"
   ]
  },
  {
   "cell_type": "code",
   "execution_count": null,
   "metadata": {},
   "outputs": [],
   "source": [
    "def PredZ(z):\n",
    "    return RobotSaysHi.GeneratePrediction(w=RobotSaysHi.estimate_m, Z=z)[1]\n",
    "\n",
    "df_generated, N=robotoolbox.PrepareData('JointsFinalPresentation_take2.p')\n",
    "\n",
    "params = {'D' : 7, 'K' : 5, 'N' : N}\n",
    "RobotSaysHi=ProMP(identifier='RobotSaysHi', TrainingData=df_generated, params=params)\n",
    "RobotSaysHi.RegularizedLeastSquares() #Choice for l from [1]\n",
    "RobotSaysHi.GenerateDemoPlot(xvariable=\"Phases\")  \n",
    "RobotSaysHi.MeanAndStdPredictionPlot(factor=2)\n",
    "MaxTime=6\n",
    "samples=1  "
   ]
  },
  {
   "cell_type": "code",
   "execution_count": null,
   "metadata": {},
   "outputs": [],
   "source": [
    "%load_ext autoreload\n",
    "%autoreload 2\n",
    "from toolbox import obstacle_detector as od\n"
   ]
  },
  {
   "cell_type": "code",
   "execution_count": null,
   "metadata": {},
   "outputs": [],
   "source": [
    "loc = od.localizer()\n"
   ]
  },
  {
   "cell_type": "code",
   "execution_count": null,
   "metadata": {},
   "outputs": [],
   "source": [
    "prefix = 'models/retrained_models_without_broken_lidar/model_lidar_5000_epochs'\n",
    "predictor, predictions, measurements = od.init_lidar_predictor(b, timesteps = 5, model_prefix=prefix)"
   ]
  },
  {
   "cell_type": "code",
   "execution_count": null,
   "metadata": {},
   "outputs": [],
   "source": [
    "w_sampled=npr.multivariate_normal(RobotSaysHi.estimate_m,RobotSaysHi.estimate_sigma)\n",
    "T, Q = RobotSaysHi.GetJointData(w= w_sampled, robotrate=samples, MaxTime=MaxTime)"
   ]
  },
  {
   "cell_type": "code",
   "execution_count": null,
   "metadata": {
    "scrolled": true
   },
   "outputs": [],
   "source": [
    "#Q_des=end_pos\n",
    "#w_des=RobotSaysHi.Condition_JointSpace(Qtarget=[RobotSaysHi.GetStartPoint(w=RobotSaysHi.estimate_m), Q_des], Ztarget=[0,z])        \n",
    "#w_des=RobotSaysHi.Condition_JointSpace(Qtarget=[RobotSaysHi.GetStartPoint(w=RobotSaysHi.estimate_m),PredZ(0.3) ,PredZ(0.35) , Q_des], Ztarget=[0,0.3,0.35,z])        \n",
    "#filename = 'panning\\scan_desk_11_10_'\n",
    "#cols = ['timestamp_franka', 'joint_pos', 'joint_vel', 'endeff_pos', 'timestamp_lidar', 'lidar_data']\n",
    "#df = pd.DataFrame(columns = cols)\n",
    "polarity=1\n",
    "\n",
    "send_position = 0   \n",
    "check_for_error = 0\n",
    "sampling_rate = 0.05\n",
    "lidars = []\n",
    "joints = []\n",
    "\n",
    "pos_counter = -1\n",
    "\n",
    "samples = 1\n",
    "sleep_time = samples\n",
    "go_time = 1.8*samples\n",
    "\n",
    "err_count = 0\n",
    "\n",
    "\n",
    "\n",
    "while True:\n",
    "    \n",
    "    time.sleep(sampling_rate)\n",
    "    state_msg = b.recv_msg(\"franka_state\", 0)\n",
    "    lidar_msg = b.recv_msg(\"franka_lidar\", 0)\n",
    "    \n",
    "    lidars.append(lidar_msg.get_data())\n",
    "    joints.append(state_msg.get_j_pos())\n",
    "    \n",
    "    check_for_error += 1\n",
    "    send_position += sampling_rate\n",
    "    \n",
    "    if send_position > 1:\n",
    "        \n",
    "        \n",
    "        if pos_counter == -1:\n",
    "            print('sampled new')\n",
    "            w_sampled=npr.multivariate_normal(RobotSaysHi.estimate_m,RobotSaysHi.estimate_sigma)\n",
    "            T, Q = RobotSaysHi.GetJointData(w= w_sampled, robotrate=samples, MaxTime=MaxTime)\n",
    "            polarity = 1\n",
    "            pos_counter+=polarity\n",
    "        elif pos_counter == 6:\n",
    "            print('reversed')\n",
    "            polarity = -1  \n",
    "            pos_counter+=polarity\n",
    "        else:\n",
    "            pos_counter+=polarity\n",
    "        \n",
    "        \n",
    "        Q_pos = Q[pos_counter]\n",
    "        frame=current_counter+1\n",
    "        target_msg, current_counter = mt.create_message(counter=frame, ctrl_t = 1, pos = Q_pos, go_time=go_time)\n",
    "        b.send_msg('franka_target_pos', target_msg)\n",
    "        #state_msg = b.recv_msg(\"franka_state\", 0)\n",
    "        #lidar_msg = b.recv_msg(\"franka_lidar\", 0)\n",
    "        send_position = 0 \n",
    "        print(pos_counter)\n",
    "        \n",
    "    if check_for_error > 10:  \n",
    "        clear_output(wait = True)\n",
    "        prediction, measurement = predictor.predict_timeseries(joint_data=np.array(joints), true_lidar=np.array(lidars))\n",
    "        #measurement = medfilt(measurement, 5)\n",
    "        #od.calc_error(predictor, predictions, measurements, np.array(lidars), np.array(joints), 0.4)\n",
    "        error, idx = od.compare2threshold(prediction, measurement, 0.3)\n",
    "        if error: \n",
    "            #location = loc.localize_lidars(joint_angles=state_msg.get_j_pos())\n",
    "            lidar_measurement=lidar_msg.get_data()\n",
    "            obstacle = loc.localize_obstacle(joint_pos=state_msg.get_j_pos(),\n",
    "                                             lidar_measurement=lidar_measurement, \n",
    "                                             lidar_index=idx)\n",
    "            print('location of obstacle', obstacle)\n",
    "            print('current lidar value', lidar_measurement)\n",
    "            print('lidar positions ', loc.localize_lidars(state_msg.get_j_pos()))\n",
    "            coll = loc.predict_collision(future_joint_angels=Q[pos_counter+1:].T, obstacle_location=obstacle)\n",
    "            print(coll)\n",
    "            #plt.plot(prediction[:, idx], label = 'prediction')\n",
    "            #plt.plot(measurement[:, idx], label = 'measurement')\n",
    "            #plt.title('error in lidar {}'.format(idx))\n",
    "            #plt.legend()\n",
    "            #plt.savefig('error'+str(err_count)+'.png')     \n",
    "            #plt.show()\n",
    "\n",
    "            if coll[0]: \n",
    "                #clear_output()\n",
    "                print('returning to avoid collision')\n",
    "                pos_counter = -1\n",
    "                time.sleep(2)\n",
    "        lidars = []\n",
    "        joints = []       \n",
    "        check_for_error = 0\n",
    "                \n",
    "            #err_count +=1\n",
    "            #time.sleep(1)\n",
    "\n",
    "        \n",
    "        \n",
    "        \n",
    "    #save_and_send+=0.1"
   ]
  },
  {
   "cell_type": "code",
   "execution_count": null,
   "metadata": {},
   "outputs": [],
   "source": [
    "while True: \n",
    "    clear_output(wait=True)\n",
    "    time.sleep(0.05)\n",
    "    lidar_msg = b.recv_msg(\"franka_lidar\", 0)\n",
    "    print(lidar_msg.get_data())\n",
    "\n",
    "    \n",
    "    "
   ]
  },
  {
   "cell_type": "code",
   "execution_count": null,
   "metadata": {},
   "outputs": [],
   "source": [
    "loc.lidarDF"
   ]
  },
  {
   "cell_type": "code",
   "execution_count": null,
   "metadata": {},
   "outputs": [],
   "source": [
    "b.request_signal(\"realsense_images\", pab.MsgType.realsense_image)"
   ]
  },
  {
   "cell_type": "code",
   "execution_count": null,
   "metadata": {},
   "outputs": [],
   "source": [
    "camera_msg = b.recv_msg(\"realsense_images\", 0)\n",
    "img_array = camera_msg.get_rgb()\n",
    "img_dim = camera_msg.get_shape_rgb()\n",
    "img = np.reshape(img_array, img_dim)"
   ]
  },
  {
   "cell_type": "code",
   "execution_count": null,
   "metadata": {},
   "outputs": [],
   "source": [
    "plt.imshow(img)\n",
    "plt.axis('off')\n",
    "plt.savefig('notfranka9.png', bbox_inches ='tight')"
   ]
  },
  {
   "cell_type": "code",
   "execution_count": null,
   "metadata": {},
   "outputs": [],
   "source": []
  }
 ],
 "metadata": {
  "kernelspec": {
   "display_name": "Python 3",
   "language": "python",
   "name": "python3"
  },
  "language_info": {
   "codemirror_mode": {
    "name": "ipython",
    "version": 3
   },
   "file_extension": ".py",
   "mimetype": "text/x-python",
   "name": "python",
   "nbconvert_exporter": "python",
   "pygments_lexer": "ipython3",
   "version": "3.6.5"
  }
 },
 "nbformat": 4,
 "nbformat_minor": 2
}
