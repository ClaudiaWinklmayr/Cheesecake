{
 "cells": [
  {
   "cell_type": "markdown",
   "metadata": {},
   "source": [
    "# Robo movement\n",
    "Creates a robot movement to generate a dataset from the lidars "
   ]
  },
  {
   "cell_type": "code",
   "execution_count": 1,
   "metadata": {},
   "outputs": [],
   "source": [
    "import time\n",
    "import numpy as np\n",
    "import py_at_broker as pab\n",
    "from IPython.display import clear_output\n",
    "import math as math\n",
    "\n",
    "import pandas as pd\n",
    "import pylab as pl\n",
    "from IPython import display\n",
    "import matplotlib.pyplot as plt\n",
    "%matplotlib inline\n",
    "b = pab.broker()\n",
    "\n",
    "\n",
    "%load_ext autoreload\n",
    "%autoreload 2\n",
    "from toolbox import kinematic_mapping as km\n",
    "from toolbox import data_processing as dp\n",
    "from toolbox import movementtoolbox as mt\n"
   ]
  },
  {
   "cell_type": "code",
   "execution_count": 2,
   "metadata": {},
   "outputs": [
    {
     "data": {
      "text/plain": [
       "True"
      ]
     },
     "execution_count": 2,
     "metadata": {},
     "output_type": "execute_result"
    }
   ],
   "source": [
    "b.register_signal('franka_target_pos', pab.MsgType.target_pos)"
   ]
  },
  {
   "cell_type": "code",
   "execution_count": 3,
   "metadata": {},
   "outputs": [
    {
     "data": {
      "text/plain": [
       "True"
      ]
     },
     "execution_count": 3,
     "metadata": {},
     "output_type": "execute_result"
    }
   ],
   "source": [
    "b.request_signal(\"franka_state\", pab.MsgType.franka_state, True)\n"
   ]
  },
  {
   "cell_type": "code",
   "execution_count": 11,
   "metadata": {},
   "outputs": [],
   "source": [
    "fn = 'real_robot_spiral.p'"
   ]
  },
  {
   "cell_type": "code",
   "execution_count": 15,
   "metadata": {},
   "outputs": [],
   "source": [
    "def generate_random(): \n",
    "    infeasible = True\n",
    "    border_x = .4\n",
    "    border_y = .3\n",
    "    border_z = .8\n",
    "    i = 0\n",
    "    while infeasible:\n",
    "        mu_x = 0.2\n",
    "        mu_y = 0\n",
    "        mu_z = 0.4\n",
    "\n",
    "        sig_x = 0.15\n",
    "        sig_y = 0.3\n",
    "        sig_z = 0.3\n",
    "\n",
    "        x, y, z = np.random.multivariate_normal([mu_x, mu_y, mu_z], np.diag([sig_x, sig_y, sig_z]))\n",
    "        i += 1 \n",
    "        if (x> 0) and (x < border_x) and (abs(y) < border_y) and (z> 0.05) and (z < border_z) : \n",
    "            infeasible = False\n",
    "    return x, y, z\n",
    "    #print(x, y, z)\n",
    "    #print('iterations: {}'.format(i))"
   ]
  },
  {
   "cell_type": "code",
   "execution_count": 4,
   "metadata": {},
   "outputs": [
    {
     "name": "stdout",
     "output_type": "stream",
     "text": [
      "[ 0.5        -0.09656212  0.62718894]\n",
      "-1\n"
     ]
    },
    {
     "ename": "KeyboardInterrupt",
     "evalue": "",
     "output_type": "error",
     "traceback": [
      "\u001b[0;31m---------------------------------------------------------------------------\u001b[0m",
      "\u001b[0;31mKeyboardInterrupt\u001b[0m                         Traceback (most recent call last)",
      "\u001b[0;32m<ipython-input-4-cc234793ac30>\u001b[0m in \u001b[0;36m<module>\u001b[0;34m()\u001b[0m\n\u001b[1;32m     37\u001b[0m     \u001b[0mprint\u001b[0m\u001b[0;34m(\u001b[0m\u001b[0mpolarity\u001b[0m\u001b[0;34m)\u001b[0m\u001b[0;34m\u001b[0m\u001b[0m\n\u001b[1;32m     38\u001b[0m     \u001b[0mb\u001b[0m\u001b[0;34m.\u001b[0m\u001b[0msend_msg\u001b[0m\u001b[0;34m(\u001b[0m\u001b[0;34m'franka_target_pos'\u001b[0m\u001b[0;34m,\u001b[0m \u001b[0mtarget_msg\u001b[0m\u001b[0;34m)\u001b[0m\u001b[0;34m\u001b[0m\u001b[0m\n\u001b[0;32m---> 39\u001b[0;31m     \u001b[0mtime\u001b[0m\u001b[0;34m.\u001b[0m\u001b[0msleep\u001b[0m\u001b[0;34m(\u001b[0m\u001b[0msleep_time\u001b[0m\u001b[0;34m)\u001b[0m\u001b[0;34m\u001b[0m\u001b[0m\n\u001b[0m\u001b[1;32m     40\u001b[0m     \u001b[0mi\u001b[0m \u001b[0;34m+=\u001b[0m \u001b[0mpolarity\u001b[0m\u001b[0;34m\u001b[0m\u001b[0m\n\u001b[1;32m     41\u001b[0m \u001b[0;34m\u001b[0m\u001b[0m\n",
      "\u001b[0;31mKeyboardInterrupt\u001b[0m: "
     ]
    }
   ],
   "source": [
    "sleep_time = 0.5\n",
    "go_time = 0.15\n",
    "\n",
    "time.sleep(sleep_time)\n",
    "#x=0.5\n",
    "\n",
    "target_msg, current_counter= mt.create_message()\n",
    "\n",
    "b.send_msg('franka_target_pos', target_msg)\n",
    "time.sleep(sleep_time)\n",
    "\n",
    "\n",
    "msg = b.recv_msg(\"franka_state\", 0)\n",
    "print(msg.get_fnumber())\n",
    "\n",
    "\n",
    "inside_range = True\n",
    "i = 10\n",
    "polarity = 1\n",
    "scaling=1.2\n",
    "\n",
    "\n",
    "while inside_range : \n",
    "    timeth=i/scaling\n",
    "\n",
    "\n",
    "    #y, z = mt.create_spiral(timeth, 0.005)\n",
    "    x, y, z, = generate_random()\n",
    "    pos = np.array([x, y, z+0.7])\n",
    "    frame=current_counter+1\n",
    "    target_msg, current_counter = mt.create_message(counter=frame, pos = pos, go_time=go_time*0.3*i)\n",
    "\n",
    "   \n",
    "    \n",
    "     \n",
    "    clear_output(wait = True)\n",
    "    print(pos)\n",
    "    print(polarity)\n",
    "    b.send_msg('franka_target_pos', target_msg)\n",
    "    time.sleep(sleep_time)\n",
    "    i += polarity\n",
    "    \n",
    "    if z > 0.2: \n",
    "        polarity = -1\n",
    "    elif i == 10: \n",
    "        polarity = 1\n",
    "\n"
   ]
  },
  {
   "cell_type": "code",
   "execution_count": 14,
   "metadata": {},
   "outputs": [
    {
     "name": "stdout",
     "output_type": "stream",
     "text": [
      "0.5013503286834864 -0.042021417829258965 0.45153003794385066\n",
      "iterations: 27\n"
     ]
    }
   ],
   "source": []
  },
  {
   "cell_type": "code",
   "execution_count": null,
   "metadata": {},
   "outputs": [],
   "source": []
  },
  {
   "cell_type": "code",
   "execution_count": null,
   "metadata": {},
   "outputs": [],
   "source": []
  }
 ],
 "metadata": {
  "kernelspec": {
   "display_name": "Python 3",
   "language": "python",
   "name": "python3"
  },
  "language_info": {
   "codemirror_mode": {
    "name": "ipython",
    "version": 3
   },
   "file_extension": ".py",
   "mimetype": "text/x-python",
   "name": "python",
   "nbconvert_exporter": "python",
   "pygments_lexer": "ipython3",
   "version": "3.6.5"
  }
 },
 "nbformat": 4,
 "nbformat_minor": 2
}
