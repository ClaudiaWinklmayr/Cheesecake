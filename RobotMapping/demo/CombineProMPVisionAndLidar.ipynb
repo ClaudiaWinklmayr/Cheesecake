{
 "cells": [
  {
   "cell_type": "code",
   "execution_count": 2,
   "metadata": {
    "scrolled": true
   },
   "outputs": [
    {
     "name": "stdout",
     "output_type": "stream",
     "text": [
      "The autoreload extension is already loaded. To reload it, use:\n",
      "  %reload_ext autoreload\n"
     ]
    }
   ],
   "source": [
    "#Broker imports:\n",
    "import py_at_broker as pab\n",
    "from IPython.display import clear_output\n",
    "\n",
    "import pylab as pl\n",
    "import pickle as p\n",
    "import matplotlib.pyplot as plt\n",
    "%matplotlib inline\n",
    "b = pab.broker()\n",
    "\n",
    "%load_ext autoreload\n",
    "%autoreload 2\n",
    "from toolbox import data_processing as dp\n",
    "from toolbox import movementtoolbox as mt \n",
    "#Non broker imports:\n",
    "\n",
    "from IPython import display\n",
    "import math as math\n",
    "import pandas as pd\n",
    "import time\n",
    "import cv2\n",
    "import numpy as np\n",
    "import numpy.random as npr\n",
    "\n",
    "%load_ext autoreload\n",
    "%autoreload 2\n",
    "from toolbox import kinematic_mapping as km\n",
    "from robo_cheesecake.engine import *\n",
    "import SLRobot\n"
   ]
  },
  {
   "cell_type": "code",
   "execution_count": 3,
   "metadata": {},
   "outputs": [
    {
     "name": "stdout",
     "output_type": "stream",
     "text": [
      "The autoreload extension is already loaded. To reload it, use:\n",
      "  %reload_ext autoreload\n"
     ]
    }
   ],
   "source": [
    "%load_ext autoreload\n",
    "%autoreload 2\n",
    "from toolbox import object_detection_toolbox as odt\n",
    "import os\n",
    "import tensorflow as tf\n",
    "\n",
    "from object_detection.utils import visualization_utils as vis_util"
   ]
  },
  {
   "cell_type": "code",
   "execution_count": 4,
   "metadata": {},
   "outputs": [],
   "source": [
    "look_left = np.array([-0.31940988, -0.38355264,  0.24733287, -1.79066074, 1.4 ,\n",
    "        1.59099698,  0.83008564])\n",
    "look_right = np.array([-0.31940988, -0.38355264,  0.24733287, -1.79066074, -1.4 ,\n",
    "        1.59099698,  0.83008564])\n",
    "home_pos = np.array([-0.3222667,  -0.39487693,  0.25124076, -1.78770602, -0.0087735,   1.58738244,   0.85377795])"
   ]
  },
  {
   "cell_type": "code",
   "execution_count": 5,
   "metadata": {},
   "outputs": [],
   "source": [
    "def get_depth_rgb_images_from_msg():\n",
    "    msg = b.recv_msg(\"realsense_images\", True)\n",
    "    rgb = msg.get_rgb()\n",
    "    dim_rgb = msg.get_shape_rgb()\n",
    "\n",
    "    depth = msg.get_depth()\n",
    "    dim_depth = msg.get_shape_depth()\n",
    "\n",
    "    imrgb = np.reshape(rgb, dim_rgb)\n",
    "    imdepth = np.reshape(depth, dim_depth)\n",
    "    \n",
    "    imdepth = cv2.resize(imdepth, dsize = (imrgb.shape[1], imrgb.shape[0]), interpolation = cv2.INTER_NEAREST)\n",
    "    return (imrgb, imdepth)\n",
    "# Path to frozen detection graph. This is the actual model that is used for the object detection.\n",
    "PATH_TO_FROZEN_GRAPH = '../faster_rcnn_inception_v2_coco_2018_01_28/frozen_inference_graph.pb'\n",
    "\n",
    "# List of the strings that is used to add correct label for each box.\n",
    "PATH_TO_LABELS = os.path.join('/home/dlrc1/Documents/models/research/object_detection/data', 'mscoco_label_map.pbtxt')\n",
    "\n",
    "with tf.device('/device:GPU:0'):\n",
    "    detection_graph = tf.Graph()\n",
    "    odt.load_model(PATH_TO_FROZEN_GRAPH, detection_graph)\n",
    "    category_index = odt.create_category_index(PATH_TO_LABELS)\n",
    "    with detection_graph.as_default() as graph:\n",
    "        tensor_dict = odt.create_tensor_dict(['num_detections', 'detection_boxes', 'detection_scores',\n",
    "        'detection_classes', 'detection_masks'])\n",
    "    sess = tf.Session(graph=detection_graph)\n",
    "    \n",
    "\n",
    "def GripApple(current_counter):\n",
    "    msg = pab.gripper_cmd_msg()\n",
    "    msg.set_timestamp(time.clock_gettime(time.CLOCK_MONOTONIC))\n",
    "    msg.set_fnumber(current_counter)\n",
    "    msg.set_cmd_t(pab.CmdType.Grasp)\n",
    "    msg.set_width(0.065)\n",
    "    msg.set_speed(0.8)\n",
    "    msg.set_force(10)\n",
    "\n",
    "    msg.set_epsilon_in(0.005)\n",
    "    msg.set_epsilon_out(0.005)\n",
    "\n",
    "    b.send_msg(\"franka_gripper\", msg)\n",
    "    time.sleep(0.2)\n",
    "    current_counter=current_counter+111\n",
    "    return current_counter\n",
    "\n",
    "\n",
    "def ReleaseApple(current_counter):\n",
    "    msg = pab.gripper_cmd_msg()\n",
    "    msg.set_timestamp(time.clock_gettime(time.CLOCK_MONOTONIC))\n",
    "    msg.set_fnumber(current_counter)\n",
    "    msg.set_cmd_t(pab.CmdType.Move)\n",
    "    msg.set_width(80)\n",
    "    msg.set_speed(0.3)\n",
    " \n",
    "\n",
    "    b.send_msg(\"franka_gripper\", msg)\n",
    "    time.sleep(0.2)\n",
    "    current_counter=current_counter+111\n",
    "    return current_counter\n",
    "\n",
    "\n",
    "def GoHome(current_counter):\n",
    "    Home=np.array([-0.3222667,  -0.39487693,  0.25124076, -1.78770602, -0.0087735,   1.58738244,   0.85377795])\n",
    "    sleep_time = samples\n",
    "    go_time = samples-0.1\n",
    "\n",
    "    frame=current_counter+1\n",
    "    target_msg, current_counter = mt.create_message(counter=frame, ctrl_t = 1, pos = Home, go_time=go_time)\n",
    "    b.send_msg('franka_target_pos', target_msg)\n",
    "    time.sleep(sleep_time)\n",
    "    \n",
    "    return current_counter"
   ]
  },
  {
   "cell_type": "code",
   "execution_count": 5,
   "metadata": {},
   "outputs": [],
   "source": [
    "b.request_signal(\"franka_state\", pab.MsgType.franka_state, True)\n",
    "current_counter=0"
   ]
  },
  {
   "cell_type": "code",
   "execution_count": 6,
   "metadata": {},
   "outputs": [
    {
     "data": {
      "text/plain": [
       "True"
      ]
     },
     "execution_count": 6,
     "metadata": {},
     "output_type": "execute_result"
    }
   ],
   "source": [
    "b.request_signal(\"realsense_images\", pab.MsgType.realsense_image)\n"
   ]
  },
  {
   "cell_type": "code",
   "execution_count": 7,
   "metadata": {},
   "outputs": [
    {
     "name": "stdout",
     "output_type": "stream",
     "text": [
      "Address broker could not acceppt the offered signal franka_gripper. Is there another signal with the same name? Trying to reconnect\n",
      "Reconnection to signal <franka_gripper> successful\n"
     ]
    },
    {
     "data": {
      "text/plain": [
       "True"
      ]
     },
     "execution_count": 7,
     "metadata": {},
     "output_type": "execute_result"
    }
   ],
   "source": [
    "b.register_signal(\"franka_gripper\", pab.MsgType.gripper_cmd)"
   ]
  },
  {
   "cell_type": "code",
   "execution_count": 8,
   "metadata": {
    "scrolled": true
   },
   "outputs": [
    {
     "data": {
      "text/plain": [
       "True"
      ]
     },
     "execution_count": 8,
     "metadata": {},
     "output_type": "execute_result"
    }
   ],
   "source": [
    "b.request_signal(\"franka_lidar\", pab.MsgType.franka_lidar)"
   ]
  },
  {
   "cell_type": "code",
   "execution_count": 9,
   "metadata": {},
   "outputs": [
    {
     "name": "stdout",
     "output_type": "stream",
     "text": [
      "[8190  878 8191  798 8191 8190 1067  396 8190]\n"
     ]
    }
   ],
   "source": [
    "lidar_msg = b.recv_msg('franka_lidar', 0)\n",
    "print(lidar_msg.get_data())"
   ]
  },
  {
   "cell_type": "code",
   "execution_count": 6,
   "metadata": {},
   "outputs": [
    {
     "ename": "Exception",
     "evalue": "Signal franka_lidar is unknown. Is it registered as input?",
     "output_type": "error",
     "traceback": [
      "\u001b[0;31m---------------------------------------------------------------------------\u001b[0m",
      "\u001b[0;31mException\u001b[0m                                 Traceback (most recent call last)",
      "\u001b[0;32m<ipython-input-6-858aa2f9daa9>\u001b[0m in \u001b[0;36m<module>\u001b[0;34m()\u001b[0m\n\u001b[1;32m      2\u001b[0m     \u001b[0mclear_output\u001b[0m\u001b[0;34m(\u001b[0m\u001b[0mwait\u001b[0m\u001b[0;34m=\u001b[0m\u001b[0;32mTrue\u001b[0m\u001b[0;34m)\u001b[0m\u001b[0;34m\u001b[0m\u001b[0m\n\u001b[1;32m      3\u001b[0m     \u001b[0mtime\u001b[0m\u001b[0;34m.\u001b[0m\u001b[0msleep\u001b[0m\u001b[0;34m(\u001b[0m\u001b[0;36m0.05\u001b[0m\u001b[0;34m)\u001b[0m\u001b[0;34m\u001b[0m\u001b[0m\n\u001b[0;32m----> 4\u001b[0;31m     \u001b[0mlidar_msg\u001b[0m \u001b[0;34m=\u001b[0m \u001b[0mb\u001b[0m\u001b[0;34m.\u001b[0m\u001b[0mrecv_msg\u001b[0m\u001b[0;34m(\u001b[0m\u001b[0;34m\"franka_lidar\"\u001b[0m\u001b[0;34m,\u001b[0m \u001b[0;36m0\u001b[0m\u001b[0;34m)\u001b[0m\u001b[0;34m\u001b[0m\u001b[0m\n\u001b[0m\u001b[1;32m      5\u001b[0m     \u001b[0mprint\u001b[0m\u001b[0;34m(\u001b[0m\u001b[0mlidar_msg\u001b[0m\u001b[0;34m.\u001b[0m\u001b[0mget_data\u001b[0m\u001b[0;34m(\u001b[0m\u001b[0;34m)\u001b[0m\u001b[0;34m)\u001b[0m\u001b[0;34m\u001b[0m\u001b[0m\n",
      "\u001b[0;32m~/git/py_at_broker/python/py_at_broker/at_broker.py\u001b[0m in \u001b[0;36mrecv_msg\u001b[0;34m(self, signal_name, timeout_)\u001b[0m\n\u001b[1;32m    597\u001b[0m             raise Exception(\n\u001b[1;32m    598\u001b[0m                 \"Signal {} is unknown. Is it registered as input?\".format(\n\u001b[0;32m--> 599\u001b[0;31m                     signal_name))\n\u001b[0m\u001b[1;32m    600\u001b[0m \u001b[0;34m\u001b[0m\u001b[0m\n\u001b[1;32m    601\u001b[0m \u001b[0;34m\u001b[0m\u001b[0m\n",
      "\u001b[0;31mException\u001b[0m: Signal franka_lidar is unknown. Is it registered as input?"
     ]
    }
   ],
   "source": [
    "while True: \n",
    "    clear_output(wait=True)\n",
    "    time.sleep(0.05)\n",
    "    lidar_msg = b.recv_msg(\"franka_lidar\", 0)\n",
    "    print(lidar_msg.get_data())\n",
    "\n"
   ]
  },
  {
   "cell_type": "code",
   "execution_count": 6,
   "metadata": {
    "scrolled": true
   },
   "outputs": [
    {
     "data": {
      "text/plain": [
       "True"
      ]
     },
     "execution_count": 6,
     "metadata": {},
     "output_type": "execute_result"
    }
   ],
   "source": [
    "b.register_signal('franka_target_pos', pab.MsgType.target_pos)"
   ]
  },
  {
   "cell_type": "code",
   "execution_count": 7,
   "metadata": {},
   "outputs": [
    {
     "name": "stdout",
     "output_type": "stream",
     "text": [
      "The autoreload extension is already loaded. To reload it, use:\n",
      "  %reload_ext autoreload\n",
      "1.7.0\n"
     ]
    }
   ],
   "source": [
    "%load_ext autoreload\n",
    "%autoreload 2\n",
    "from toolbox import obstacle_detector as od\n"
   ]
  },
  {
   "cell_type": "code",
   "execution_count": 13,
   "metadata": {},
   "outputs": [],
   "source": [
    "loc = od.localizer()\n"
   ]
  },
  {
   "cell_type": "code",
   "execution_count": 14,
   "metadata": {},
   "outputs": [
    {
     "name": "stdout",
     "output_type": "stream",
     "text": [
      "Done loading model 0\n",
      "Done loading model 1\n",
      "Done loading model 2\n",
      "Done loading model 3\n",
      "Done loading model 4\n",
      "Done loading model 5\n",
      "Done loading model 6\n",
      "Done loading model 7\n",
      "Done loading model 8\n",
      "initializing measurements: .....done\n"
     ]
    }
   ],
   "source": [
    "prefix = 'models/retrained_models_without_broken_lidar/model_lidar_5000_epochs'\n",
    "predictor, predictions, measurements = od.init_lidar_predictor(b, timesteps = 5, model_prefix=prefix)"
   ]
  },
  {
   "cell_type": "code",
   "execution_count": 8,
   "metadata": {},
   "outputs": [
    {
     "name": "stderr",
     "output_type": "stream",
     "text": [
      "/home/dlrc1/.virtualenvs/dlrc/lib/python3.6/site-packages/matplotlib/cbook/deprecation.py:107: MatplotlibDeprecationWarning: Adding an axes using the same arguments as a previous axes currently reuses the earlier instance.  In a future version, a new instance will always be created and returned.  Meanwhile, this warning can be suppressed, and the future behavior ensured, by passing a unique label to each axes instance.\n",
      "  warnings.warn(message, mplDeprecation, stacklevel=1)\n"
     ]
    },
    {
     "data": {
      "image/png": "[encoded data removed]",
      "text/plain": [
       "<Figure size 432x288 with 7 Axes>"
      ]
     },
     "metadata": {
      "needs_background": "light"
     },
     "output_type": "display_data"
    },
    {
     "data": {
      "image/png": "[encoded data removed]",
      "text/plain": [
       "<Figure size 432x288 with 7 Axes>"
      ]
     },
     "metadata": {
      "needs_background": "light"
     },
     "output_type": "display_data"
    }
   ],
   "source": [
    "\n",
    "df_generated, N=robotoolbox.PrepareData('JointsFinalPresentation_take2.p')\n",
    "\n",
    "params = {'D' : 7, 'K' : 5, 'N' : N}\n",
    "RobotSaysHi=ProMP(identifier='RobotSaysHi', TrainingData=df_generated, params=params)\n",
    "RobotSaysHi.RegularizedLeastSquares() #Choice for l from [1]\n",
    "RobotSaysHi.GenerateDemoPlot(xvariable=\"Phases\")  \n",
    "RobotSaysHi.MeanAndStdPredictionPlot(factor=2)\n",
    "MaxTime=8\n",
    "samples=1  \n",
    "\n",
    "\n",
    "class RobotMap:\n",
    "    \n",
    "    \"\"\"Map framework for robot control using lidars and cameras\"\"\"\n",
    "    \n",
    "    def __init__(self, ProMP, sleep_time=1, go_time=0.9, MaxTime=8):\n",
    "        self.ProMP=ProMP\n",
    "        self.identifier=ProMP.identifier\n",
    "        self.step=0        \n",
    "        self.controlsleep=True\n",
    "        self.polarity=1 # Polarity is -1 when the robot goesbackwards. \n",
    "        self.Params= {'sleep_time' : sleep_time, 'go_time' :  go_time, 'MaxTime' : MaxTime}\n",
    "        from toolbox import movementtoolbox as mt \n",
    "    \n",
    "    def SetObjectTarget(self, Qtarget, ztarget=1):\n",
    "        self.Object_Target_Qtarget=Qtarget\n",
    "        self.Object_Target_ztarget=ztarget\n",
    "        \n",
    "    @staticmethod\n",
    "    def MeanQ(z, ProMP):    \n",
    "        return ProMP.GeneratePrediction(w=ProMP.estimate_m, Z=z)[1]\n",
    "        \n",
    "    def GeneratePath(self, ProMPconstrains=[0, 0.3, 0.5]):\n",
    "        \"\"\"ProMP constrains is an array that constrains via points to the mean of the ProMP\"\"\"\n",
    "        \n",
    "        \n",
    "           \n",
    "        Object_Qtarget=self.Object_Target_Qtarget\n",
    "        Object_ztarget=self.Object_Target_ztarget\n",
    "        \n",
    "        Qtarget=[]\n",
    "        Ztarget=[]\n",
    "        for constrain in ProMPconstrains:\n",
    "            Qtarget.append(self.MeanQ(constrain, self.ProMP))\n",
    "            Ztarget.append(constrain)\n",
    "        Qtarget.append(Object_Qtarget)\n",
    "        Ztarget.append(Object_ztarget)                  \n",
    "        w_des=self.ProMP.Condition_JointSpace(Qtarget=Qtarget, Ztarget=Ztarget)        \n",
    "\n",
    "        T, Q= RobotSaysHi.GetJointData(w=w_des, robotrate=samples, MaxTime=MaxTime)\n",
    "        \n",
    "        Q[-1,:]=Object_Qtarget ## This heuristic is not very elegant but it is necesary\n",
    "        robotoolbox.PlotTrajectory(T, Q)\n",
    "        plt.show()\n",
    "        \n",
    "        self.Path=Q\n",
    "        self.CurrentQ=self.Path[self.step,:]\n",
    "        self.MaxSteps=self.Path.shape[0]\n",
    "        \n",
    "      \n",
    "        \n",
    "    def Execute(self):\n",
    "        global current_counter\n",
    "        go_time=self.Params['go_time']\n",
    "        sleep_time=self.Params['sleep_time']\n",
    "        \n",
    "        target_msg, current_counter = mt.create_message(counter=current_counter, ctrl_t = 1, pos = self.CurrentQ, go_time=go_time)\n",
    "        b.send_msg('franka_target_pos', target_msg)\n",
    "        if self.controlsleep:\n",
    "            time.sleep(sleep_time)\n",
    "        \n",
    "        current_counter+=1\n",
    "        pass\n",
    "    \n",
    "    def DoStepForward(self):\n",
    "        print(\"Current Step: \", self.step, \". Now moving to Step: \",self.step+1)\n",
    "        self.CurrentQ=self.Path[self.step,:]\n",
    "        self.step+=1\n",
    "        self.Execute()\n",
    "\n",
    "    def DoStepBack(self):\n",
    "        print(\"Current Step: \", self.step, \". Now moving to Step: \",self.step-1)\n",
    "        self.CurrentQ=self.Path[self.step,:]\n",
    "        if (self.step>=1):\n",
    "            self.step-=1\n",
    "            self.Execute()\n",
    "        else:\n",
    "            pass\n",
    "\n",
    "        \n",
    "    def DoStep(self):\n",
    "        if self.polarity==1:\n",
    "            self.DoStepForward()\n",
    "        if self.polarity==-1:\n",
    "            self.DoStepBack()\n",
    "            \n",
    "            \n",
    "        \n",
    "        \n",
    "    def GoToStartPosition(self):\n",
    "        global current_counter\n",
    "        current_counter=GoHome(current_counter)\n",
    "        #current_counter=ReleaseApple(current_counter)\n",
    "        time.sleep(3)\n",
    "        self.Reset()\n",
    "\n",
    "        \n",
    "    def FollowBlindly(self):\n",
    "        self.Execute() #Goes to step zero\n",
    "        for step in range(self.step,self.MaxSteps):\n",
    "            \n",
    "            self.DoStepForward()\n",
    "            \n",
    "        \n",
    "    def Reset(self):\n",
    "        self.step=0\n",
    "        self.CurrentQ=self.Path[self.step,:]\n",
    "       \n",
    "\n",
    "\n"
   ]
  },
  {
   "cell_type": "code",
   "execution_count": 16,
   "metadata": {},
   "outputs": [],
   "source": [
    "current_counter=GoHome(current_counter)\n",
    "time.sleep(3)\n",
    "current_counter=ReleaseApple(current_counter)"
   ]
  },
  {
   "cell_type": "code",
   "execution_count": 9,
   "metadata": {},
   "outputs": [],
   "source": [
    "def FindObjectNN(CommonObject='apple'):\n",
    "    imrgb, imdepth = get_depth_rgb_images_from_msg()\n",
    "    start_time = time.time()\n",
    "    output_dict = odt.run_inference_for_single_image_test(imrgb, tensor_dict, sess)\n",
    "    #print('Iteration %d: %.3f sec'%(i, time.time()-start_time))\n",
    "    out = odt.visualize_pred_for_single_img(imrgb, output_dict, category_index)\n",
    "\n",
    "    Q = b.recv_msg('franka_state', -1).get_j_pos()\n",
    "    result, boxes = odt.get_boxes_with_label_and_threshold(CommonObject, 0.5, output_dict, imdepth, Q, category_index)\n",
    "\n",
    "    target_pos = np.zeros(3)\n",
    "    #target_pos = np.array([0.6, 0.0, 0.1 ])\n",
    "    np.copyto(target_pos, result[0,0])\n",
    "    target_pos[0]  = target_pos[0]+0.005*target_pos[0]\n",
    "    target_pos[1] = target_pos[1]+0.13*target_pos[1]\n",
    "    target_pos[2] += 0.03\n",
    "\n",
    "    #target_pos[1] += 0.05 #offset\n",
    "    #target_pos[1] =- target_pos[1]\n",
    "    #print(target_pos)\n",
    "    print('result:', target_pos)\n",
    "\n",
    "    return target_pos\n"
   ]
  },
  {
   "cell_type": "code",
   "execution_count": 10,
   "metadata": {},
   "outputs": [
    {
     "ename": "Exception",
     "evalue": "Signal realsense_images is unknown. Is it registered as input?",
     "output_type": "error",
     "traceback": [
      "\u001b[0;31m---------------------------------------------------------------------------\u001b[0m",
      "\u001b[0;31mException\u001b[0m                                 Traceback (most recent call last)",
      "\u001b[0;32m<ipython-input-10-4263a77702aa>\u001b[0m in \u001b[0;36m<module>\u001b[0;34m()\u001b[0m\n\u001b[1;32m      3\u001b[0m \u001b[0mz\u001b[0m\u001b[0;34m=\u001b[0m\u001b[0;36m1\u001b[0m\u001b[0;34m\u001b[0m\u001b[0m\n\u001b[1;32m      4\u001b[0m \u001b[0;34m\u001b[0m\u001b[0m\n\u001b[0;32m----> 5\u001b[0;31m \u001b[0mApplePos\u001b[0m\u001b[0;34m=\u001b[0m\u001b[0mFindObjectNN\u001b[0m\u001b[0;34m(\u001b[0m\u001b[0mCommonObject\u001b[0m\u001b[0;34m=\u001b[0m\u001b[0;34m'apple'\u001b[0m\u001b[0;34m)\u001b[0m\u001b[0;34m\u001b[0m\u001b[0m\n\u001b[0m\u001b[1;32m      6\u001b[0m \u001b[0;34m\u001b[0m\u001b[0m\n\u001b[1;32m      7\u001b[0m \u001b[0;32mdef\u001b[0m \u001b[0mIKapple\u001b[0m\u001b[0;34m(\u001b[0m\u001b[0mProMP\u001b[0m\u001b[0;34m,\u001b[0m \u001b[0mApplePos\u001b[0m\u001b[0;34m)\u001b[0m\u001b[0;34m:\u001b[0m\u001b[0;34m\u001b[0m\u001b[0m\n",
      "\u001b[0;32m<ipython-input-9-61eff11fd4bd>\u001b[0m in \u001b[0;36mFindObjectNN\u001b[0;34m(CommonObject)\u001b[0m\n\u001b[1;32m      1\u001b[0m \u001b[0;32mdef\u001b[0m \u001b[0mFindObjectNN\u001b[0m\u001b[0;34m(\u001b[0m\u001b[0mCommonObject\u001b[0m\u001b[0;34m=\u001b[0m\u001b[0;34m'apple'\u001b[0m\u001b[0;34m)\u001b[0m\u001b[0;34m:\u001b[0m\u001b[0;34m\u001b[0m\u001b[0m\n\u001b[0;32m----> 2\u001b[0;31m     \u001b[0mimrgb\u001b[0m\u001b[0;34m,\u001b[0m \u001b[0mimdepth\u001b[0m \u001b[0;34m=\u001b[0m \u001b[0mget_depth_rgb_images_from_msg\u001b[0m\u001b[0;34m(\u001b[0m\u001b[0;34m)\u001b[0m\u001b[0;34m\u001b[0m\u001b[0m\n\u001b[0m\u001b[1;32m      3\u001b[0m     \u001b[0mstart_time\u001b[0m \u001b[0;34m=\u001b[0m \u001b[0mtime\u001b[0m\u001b[0;34m.\u001b[0m\u001b[0mtime\u001b[0m\u001b[0;34m(\u001b[0m\u001b[0;34m)\u001b[0m\u001b[0;34m\u001b[0m\u001b[0m\n\u001b[1;32m      4\u001b[0m     \u001b[0moutput_dict\u001b[0m \u001b[0;34m=\u001b[0m \u001b[0modt\u001b[0m\u001b[0;34m.\u001b[0m\u001b[0mrun_inference_for_single_image_test\u001b[0m\u001b[0;34m(\u001b[0m\u001b[0mimrgb\u001b[0m\u001b[0;34m,\u001b[0m \u001b[0mtensor_dict\u001b[0m\u001b[0;34m,\u001b[0m \u001b[0msess\u001b[0m\u001b[0;34m)\u001b[0m\u001b[0;34m\u001b[0m\u001b[0m\n\u001b[1;32m      5\u001b[0m     \u001b[0;31m#print('Iteration %d: %.3f sec'%(i, time.time()-start_time))\u001b[0m\u001b[0;34m\u001b[0m\u001b[0;34m\u001b[0m\u001b[0m\n",
      "\u001b[0;32m<ipython-input-4-48f25fbd0e6e>\u001b[0m in \u001b[0;36mget_depth_rgb_images_from_msg\u001b[0;34m()\u001b[0m\n\u001b[1;32m      1\u001b[0m \u001b[0;32mdef\u001b[0m \u001b[0mget_depth_rgb_images_from_msg\u001b[0m\u001b[0;34m(\u001b[0m\u001b[0;34m)\u001b[0m\u001b[0;34m:\u001b[0m\u001b[0;34m\u001b[0m\u001b[0m\n\u001b[0;32m----> 2\u001b[0;31m     \u001b[0mmsg\u001b[0m \u001b[0;34m=\u001b[0m \u001b[0mb\u001b[0m\u001b[0;34m.\u001b[0m\u001b[0mrecv_msg\u001b[0m\u001b[0;34m(\u001b[0m\u001b[0;34m\"realsense_images\"\u001b[0m\u001b[0;34m,\u001b[0m \u001b[0;32mTrue\u001b[0m\u001b[0;34m)\u001b[0m\u001b[0;34m\u001b[0m\u001b[0m\n\u001b[0m\u001b[1;32m      3\u001b[0m     \u001b[0mrgb\u001b[0m \u001b[0;34m=\u001b[0m \u001b[0mmsg\u001b[0m\u001b[0;34m.\u001b[0m\u001b[0mget_rgb\u001b[0m\u001b[0;34m(\u001b[0m\u001b[0;34m)\u001b[0m\u001b[0;34m\u001b[0m\u001b[0m\n\u001b[1;32m      4\u001b[0m     \u001b[0mdim_rgb\u001b[0m \u001b[0;34m=\u001b[0m \u001b[0mmsg\u001b[0m\u001b[0;34m.\u001b[0m\u001b[0mget_shape_rgb\u001b[0m\u001b[0;34m(\u001b[0m\u001b[0;34m)\u001b[0m\u001b[0;34m\u001b[0m\u001b[0m\n\u001b[1;32m      5\u001b[0m \u001b[0;34m\u001b[0m\u001b[0m\n",
      "\u001b[0;32m~/git/py_at_broker/python/py_at_broker/at_broker.py\u001b[0m in \u001b[0;36mrecv_msg\u001b[0;34m(self, signal_name, timeout_)\u001b[0m\n\u001b[1;32m    597\u001b[0m             raise Exception(\n\u001b[1;32m    598\u001b[0m                 \"Signal {} is unknown. Is it registered as input?\".format(\n\u001b[0;32m--> 599\u001b[0;31m                     signal_name))\n\u001b[0m\u001b[1;32m    600\u001b[0m \u001b[0;34m\u001b[0m\u001b[0m\n\u001b[1;32m    601\u001b[0m \u001b[0;34m\u001b[0m\u001b[0m\n",
      "\u001b[0;31mException\u001b[0m: Signal realsense_images is unknown. Is it registered as input?"
     ]
    }
   ],
   "source": [
    "sleep_time = samples\n",
    "go_time = 1.8*samples\n",
    "z=1\n",
    "\n",
    "ApplePos=FindObjectNN(CommonObject='apple')\n",
    "\n",
    "def IKapple(ProMP, ApplePos):\n",
    "    prediction_pro=ProMP.GeneratePrediction(Z=1)[1]\n",
    "\n",
    "    bp= SLRobot.FK(prediction_pro.reshape(1,-1))[0,50:56] # Uses the mean ProMP orientation\n",
    "    bp[0:3]=ApplePos\n",
    "\n",
    "    j_ik = km.inverse_kin_6d(bp,prediction_pro)\n",
    "    end_pos=j_ik[0]\n",
    "\n",
    "    EF_FK = SLRobot.FK(np.array([end_pos]))\n",
    "\n",
    "    #print(end_pos)\n",
    "    #print('desired c pose:', bp)\n",
    "    #print('c pose:', EF_FK[0,50:56])\n",
    "\n",
    "\n",
    "\n",
    "    return end_pos\n",
    "\n",
    "    \n",
    "Q_des=IKapple(RobotSaysHi, ApplePos)\n",
    "#w_des=RobotSaysHi.Condition_JointSpace(Qtarget=[RobotSaysHi.GetStartPoint(w=RobotSaysHi.estimate_m), Q_des], Ztarget=[0,z])        \n",
    "#w_des=RobotSaysHi.Condition_JointSpace(Qtarget=[RobotSaysHi.GetStartPoint(w=RobotSaysHi.estimate_m),PredZ(0.3) ,PredZ(0.35) , Q_des], Ztarget=[0,0.3,0.35,z])        \n",
    "\n",
    "#T, Q= RobotSaysHi.GetJointData(w=w_des, robotrate=samples, MaxTime=MaxTime)\n",
    "\n",
    "#Q[-1,:]=end_pos\n",
    "#robotoolbox.PlotTrajectory(T, Q)\n",
    "\n",
    "#Qp,Qpp=robotoolbox.GetAccel(Q,T)\n",
    "#robotoolbox.PlotAccel(T, Qpp)\n",
    "#print(Q.shape)\n",
    "\n",
    "\n",
    "\n",
    "CurrentMap=RobotMap(ProMP=RobotSaysHi, sleep_time=sleep_time, go_time=go_time, MaxTime=MaxTime)\n",
    "CurrentMap.SetObjectTarget(Q_des, ztarget=1)\n",
    "CurrentMap.GeneratePath(ProMPconstrains=[0,0.3,0.4])\n",
    "#CurrentMap.FollowBlindly()\n",
    "#current_counter=GripApple(current_counter)\n",
    "#time.sleep(0.5)\n",
    "#CurrentMap.GoToStartPosition()\n",
    "\n",
    "#current_counter=ReleaseApple(current_counter)"
   ]
  },
  {
   "cell_type": "code",
   "execution_count": 28,
   "metadata": {
    "scrolled": true
   },
   "outputs": [
    {
     "name": "stdout",
     "output_type": "stream",
     "text": [
      "Deviation of 0.64 in liadar 7.\n",
      "obstacle found in front left top\n",
      "location of obstacle [0.326 0.074 0.532]\n",
      "current lidar value [8190 8191  650  479 8191 8190 8191  146 8190]\n",
      "possible collision in 5 steps\n",
      "returning to avoid collision\n",
      "Master potato [5] [True]\n"
     ]
    },
    {
     "ename": "KeyboardInterrupt",
     "evalue": "",
     "output_type": "error",
     "traceback": [
      "\u001b[0;31m---------------------------------------------------------------------------\u001b[0m",
      "\u001b[0;31mKeyboardInterrupt\u001b[0m                         Traceback (most recent call last)",
      "\u001b[0;32m<ipython-input-28-eec71566c44a>\u001b[0m in \u001b[0;36m<module>\u001b[0;34m()\u001b[0m\n\u001b[1;32m    117\u001b[0m                     \u001b[0mCurrentMap\u001b[0m\u001b[0;34m.\u001b[0m\u001b[0mGoToStartPosition\u001b[0m\u001b[0;34m(\u001b[0m\u001b[0;34m)\u001b[0m\u001b[0;34m\u001b[0m\u001b[0m\n\u001b[1;32m    118\u001b[0m \u001b[0;34m\u001b[0m\u001b[0m\n\u001b[0;32m--> 119\u001b[0;31m                     \u001b[0mtime\u001b[0m\u001b[0;34m.\u001b[0m\u001b[0msleep\u001b[0m\u001b[0;34m(\u001b[0m\u001b[0;36m10\u001b[0m\u001b[0;34m)\u001b[0m\u001b[0;34m\u001b[0m\u001b[0m\n\u001b[0m\u001b[1;32m    120\u001b[0m \u001b[0;34m\u001b[0m\u001b[0m\n\u001b[1;32m    121\u001b[0m \u001b[0;34m\u001b[0m\u001b[0m\n",
      "\u001b[0;31mKeyboardInterrupt\u001b[0m: "
     ]
    }
   ],
   "source": [
    "current_counter=ReleaseApple(current_counter)\n",
    "\n",
    "Position_timer = 0 \n",
    "check_for_error = 0\n",
    "sampling_rate = 0.05\n",
    "lidars = []\n",
    "joints = []\n",
    "\n",
    "pos_counter = -1\n",
    "\n",
    "samples = 1\n",
    "sleep_time = samples\n",
    "go_time = 1.8*samples\n",
    "\n",
    "err_count = 0\n",
    "\n",
    "CurrentMap.GoToStartPosition()\n",
    "CurrentMap.controlsleep=False\n",
    "first_round = True\n",
    "\n",
    "while(CurrentMap.step<CurrentMap.MaxSteps):\n",
    "    \n",
    "    if not first_round:\n",
    "        time.sleep(sampling_rate)\n",
    "    else: \n",
    "        time.sleep(0.1)\n",
    "        first_round = False\n",
    "        \n",
    "    state_msg = b.recv_msg(\"franka_state\", 0)\n",
    "    lidar_msg = b.recv_msg(\"franka_lidar\", 0)\n",
    "    \n",
    "    lidars.append(lidar_msg.get_data())\n",
    "    joints.append(state_msg.get_j_pos())\n",
    "    \n",
    "    if (lidar_msg.get_data() > 9000).any(): \n",
    "        print('lidar signal stopped')\n",
    "        break\n",
    "    \n",
    "    check_for_error += 1\n",
    "    Position_timer += sampling_rate\n",
    "    \n",
    "    if Position_timer > sleep_time*2:\n",
    "        \n",
    "        CurrentMap.DoStep()\n",
    "        Position_timer = 0 \n",
    "\n",
    "        \n",
    "        \n",
    "        \n",
    "    if check_for_error > 10:  \n",
    "        clear_output(wait = True)\n",
    "        prediction, measurement = predictor.predict_timeseries(joint_data=np.array(joints), true_lidar=np.array(lidars))\n",
    "        #measurement = medfilt(measurement, 5)\n",
    "        #od.calc_error(predictor, predictions, measurements, np.array(lidars), np.array(joints), 0.4)\n",
    "        error, idx = od.compare2threshold(prediction, measurement, 0.3, all_errors = True)\n",
    "        \n",
    "        if error: \n",
    "            if type(idx) == int:\n",
    "                #location = loc.localize_lidars(joint_angles=state_msg.get_j_pos())\n",
    "                lidar_measurement=lidar_msg.get_data()\n",
    "                obstacle = loc.localize_obstacle(joint_pos=state_msg.get_j_pos(),\n",
    "                                                 lidar_measurement=lidar_measurement, \n",
    "                                                 lidar_index=idx)\n",
    "                print('location of obstacle', obstacle)\n",
    "                print('current lidar value', lidar_measurement)\n",
    "                print('lidar positions ', loc.localize_lidars(state_msg.get_j_pos()))\n",
    "                coll = loc.predict_collision(future_joint_angels=CurrentMap.Path[pos_counter+1:].T, obstacle_location=obstacle)\n",
    "                print(coll)\n",
    "                #plt.plot(prediction[:, idx], label = 'prediction')\n",
    "                #plt.plot(measurement[:, idx], label = 'measurement')\n",
    "                #plt.title('error in lidar {}'.format(idx))\n",
    "                #plt.legend()\n",
    "                #plt.savefig('error'+str(err_count)+'.png')     \n",
    "                #plt.show()\n",
    "\n",
    "                if coll[0]: \n",
    "                    #clear_output()\n",
    "                    print('returning to avoid collision')\n",
    "                    CurrentMap.GoToStartPosition()\n",
    "            \n",
    "                    #time.sleep(2)\n",
    "                    coll_time = coll[1]\n",
    "\n",
    "\n",
    "                \n",
    "\n",
    "            if type(idx) == np.ndarray: \n",
    "                colls = []\n",
    "                coll_times = []\n",
    "                #location = loc.localize_lidars(joint_angles=state_msg.get_j_pos())\n",
    "                lidar_measurement=lidar_msg.get_data()\n",
    "                for i in idx:             \n",
    "                    obstacle = loc.localize_obstacle(joint_pos=state_msg.get_j_pos(),\n",
    "                                                 lidar_measurement=lidar_measurement, \n",
    "                                                 lidar_index=i)\n",
    "                    print('location of obstacle', obstacle)\n",
    "                    print('current lidar value', lidar_measurement)\n",
    "                    #print('lidar positions ', loc.localize_lidars(state_msg.get_j_pos()))\n",
    "                    coll = loc.predict_collision(future_joint_angels=CurrentMap.Path[pos_counter+1:].T, obstacle_location=obstacle)\n",
    "                    colls.append(coll[0])\n",
    "                    coll_times.append(coll[1])\n",
    "                #plt.plot(prediction[:, idx], label = 'prediction')\n",
    "                #plt.plot(measurement[:, idx], label = 'measurement')\n",
    "                #plt.title('error in lidar {}'.format(idx))\n",
    "                #plt.legend()\n",
    "                #plt.savefig('error'+str(err_count)+'.png')     \n",
    "                #plt.show()\n",
    "\n",
    "                if np.array(colls).any(): \n",
    "                    #clear_output()\n",
    "                    print('returning to avoid collision')\n",
    "                    coll_times = [c for c in coll_times if c is not None]\n",
    "                    print(\"Master potato\", coll_times, colls)\n",
    "\n",
    "                    coll_time = min(coll_times)\n",
    "                    \n",
    "                    CurrentMap.GoToStartPosition()\n",
    "\n",
    "                    time.sleep(10)\n",
    "\n",
    "\n",
    "                \n",
    "        lidars = []\n",
    "        joints = []       \n",
    "        check_for_error = 0\n",
    "                \n",
    "            #err_count +=1\n",
    "            #time.sleep(1)\n",
    "\n",
    "        \n",
    "        \n",
    "    \n",
    "time.sleep(1)\n",
    "\n",
    "#current_counter=GripApple(current_counter)\n",
    "#time.sleep(0.5) \n",
    "#CurrentMap.GoToStartPosition()\n",
    "\n",
    "\n",
    "        \n",
    "    #save_and_send+=0.1"
   ]
  },
  {
   "cell_type": "code",
   "execution_count": null,
   "metadata": {},
   "outputs": [],
   "source": [
    "a = [1, 4, None]\n",
    "[c for c in a if c is not None]"
   ]
  },
  {
   "cell_type": "code",
   "execution_count": null,
   "metadata": {},
   "outputs": [],
   "source": [
    "CurrentMap.GoToStartPosition()\n",
    "\n",
    "target_msg, current_counter = mt.create_message(counter=current_counter+1, ctrl_t = 1, pos = look_right, go_time=2)\n",
    "b.send_msg('franka_target_pos', target_msg)\n",
    "time.sleep(5)\n",
    "\n",
    "try:\n",
    "    PersonPos=FindObjectNN(CommonObject='person')\n",
    "    time.sleep(2)\n",
    "    PersonPos[1] = max(PersonPos[1], -0.6)\n",
    "    target_msg, current_counter = mt.create_message(counter=current_counter+1, ctrl_t = 0, pos = PersonPos, go_time=3)\n",
    "    b.send_msg('franka_target_pos', target_msg)\n",
    "    time.sleep(5)\n",
    "    current_counter=ReleaseApple(current_counter)\n",
    "    \n",
    "except IndexError: \n",
    "    target_msg, current_counter = mt.create_message(counter=current_counter+1, ctrl_t = 1, pos = home_pos, go_time=2)\n",
    "    b.send_msg('franka_target_pos', target_msg)\n",
    "    time.sleep(2)\n",
    "    \n",
    "    target_msg, current_counter = mt.create_message(counter=current_counter+1, ctrl_t = 1, pos = look_left, go_time=2)\n",
    "    b.send_msg('franka_target_pos', target_msg)\n",
    "    time.sleep(5)\n",
    "    \n",
    "    try:\n",
    "        PersonPos=FindObjectNN(CommonObject='person')\n",
    "        time.sleep(2)\n",
    "        PersonPos[1] = min(PersonPos[1], 0.6)\n",
    "        target_msg, current_counter = mt.create_message(counter=current_counter+1, ctrl_t = 0, pos = PersonPos, go_time=3)\n",
    "        b.send_msg('franka_target_pos', target_msg)\n",
    "        time.sleep(5)\n",
    "        current_counter=ReleaseApple(current_counter)\n",
    "        \n",
    "    except IndexError:         \n",
    "        target_msg, current_counter = mt.create_message(counter=current_counter+1, ctrl_t = 1, pos = home_pos, go_time=2)\n",
    "        b.send_msg('franka_target_pos', target_msg)\n",
    "        time.sleep(2)\n",
    "        print('nobody is there. I am all alone')\n",
    "        print(':(')\n",
    "        print('samuel forced me to do this')\n",
    "        current_counter=ReleaseApple(current_counter)\n",
    "\n",
    "\n",
    "CurrentMap.GoToStartPosition()\n"
   ]
  },
  {
   "cell_type": "code",
   "execution_count": null,
   "metadata": {},
   "outputs": [],
   "source": [
    "\n"
   ]
  },
  {
   "cell_type": "code",
   "execution_count": null,
   "metadata": {},
   "outputs": [],
   "source": []
  },
  {
   "cell_type": "code",
   "execution_count": null,
   "metadata": {},
   "outputs": [],
   "source": []
  },
  {
   "cell_type": "code",
   "execution_count": null,
   "metadata": {},
   "outputs": [],
   "source": []
  },
  {
   "cell_type": "code",
   "execution_count": null,
   "metadata": {},
   "outputs": [],
   "source": []
  },
  {
   "cell_type": "code",
   "execution_count": null,
   "metadata": {},
   "outputs": [],
   "source": []
  },
  {
   "cell_type": "code",
   "execution_count": null,
   "metadata": {},
   "outputs": [],
   "source": []
  },
  {
   "cell_type": "code",
   "execution_count": null,
   "metadata": {},
   "outputs": [],
   "source": []
  },
  {
   "cell_type": "code",
   "execution_count": null,
   "metadata": {},
   "outputs": [],
   "source": []
  }
 ],
 "metadata": {
  "kernelspec": {
   "display_name": "Python 3",
   "language": "python",
   "name": "python3"
  },
  "language_info": {
   "codemirror_mode": {
    "name": "ipython",
    "version": 3
   },
   "file_extension": ".py",
   "mimetype": "text/x-python",
   "name": "python",
   "nbconvert_exporter": "python",
   "pygments_lexer": "ipython3",
   "version": "3.6.5"
  }
 },
 "nbformat": 4,
 "nbformat_minor": 2
}
