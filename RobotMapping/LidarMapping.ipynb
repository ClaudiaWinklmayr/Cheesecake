{
 "cells": [
  {
   "cell_type": "code",
   "execution_count": 27,
   "metadata": {},
   "outputs": [],
   "source": [
    "import time\n",
    "import numpy as np\n",
    "import py_at_broker as pab\n",
    "from IPython.display import clear_output\n",
    "import math as math\n",
    "from toolbox import kinematic_mapping as km\n",
    "import pandas as pd\n",
    "import pylab as pl\n",
    "from IPython import display\n",
    "import matplotlib.pyplot as plt\n",
    "%matplotlib inline\n",
    "b = pab.broker()"
   ]
  },
  {
   "cell_type": "code",
   "execution_count": 28,
   "metadata": {},
   "outputs": [
    {
     "ename": "ZMQError",
     "evalue": "Address already in use",
     "output_type": "error",
     "traceback": [
      "\u001b[0;31m--------------------------------------------------------------------\u001b[0m",
      "\u001b[0;31mZMQError\u001b[0m                           Traceback (most recent call last)",
      "\u001b[0;32m<ipython-input-28-e296d07c4cc5>\u001b[0m in \u001b[0;36m<module>\u001b[0;34m()\u001b[0m\n\u001b[0;32m----> 1\u001b[0;31m \u001b[0mb\u001b[0m\u001b[0;34m.\u001b[0m\u001b[0mregister_signal\u001b[0m\u001b[0;34m(\u001b[0m\u001b[0;34m'franka_target_pos'\u001b[0m\u001b[0;34m,\u001b[0m \u001b[0mpab\u001b[0m\u001b[0;34m.\u001b[0m\u001b[0mMsgType\u001b[0m\u001b[0;34m.\u001b[0m\u001b[0mtarget_pos\u001b[0m\u001b[0;34m)\u001b[0m\u001b[0;34m\u001b[0m\u001b[0m\n\u001b[0m",
      "\u001b[0;32m~/git/py_at_broker/python/py_at_broker/at_broker.py\u001b[0m in \u001b[0;36mregister_signal\u001b[0;34m(self, signal_name, msg_type)\u001b[0m\n\u001b[1;32m    330\u001b[0m             \u001b[0;31m# Signal is unknown internally, set up publish socket and connect it to random ephemeral port\u001b[0m\u001b[0;34m\u001b[0m\u001b[0;34m\u001b[0m\u001b[0m\n\u001b[1;32m    331\u001b[0m             \u001b[0msig_socket\u001b[0m \u001b[0;34m=\u001b[0m \u001b[0mself\u001b[0m\u001b[0;34m.\u001b[0m\u001b[0mctx\u001b[0m\u001b[0;34m.\u001b[0m\u001b[0msocket\u001b[0m\u001b[0;34m(\u001b[0m\u001b[0mzmq\u001b[0m\u001b[0;34m.\u001b[0m\u001b[0mPUB\u001b[0m\u001b[0;34m)\u001b[0m\u001b[0;34m\u001b[0m\u001b[0m\n\u001b[0;32m--> 332\u001b[0;31m             \u001b[0msig_socket\u001b[0m\u001b[0;34m.\u001b[0m\u001b[0mbind\u001b[0m\u001b[0;34m(\u001b[0m\u001b[0;34m\"inproc://{}\"\u001b[0m\u001b[0;34m.\u001b[0m\u001b[0mformat\u001b[0m\u001b[0;34m(\u001b[0m\u001b[0msignal_name\u001b[0m\u001b[0;34m)\u001b[0m\u001b[0;34m)\u001b[0m\u001b[0;34m\u001b[0m\u001b[0m\n\u001b[0m\u001b[1;32m    333\u001b[0m             \u001b[0msig_socket\u001b[0m\u001b[0;34m.\u001b[0m\u001b[0mbind\u001b[0m\u001b[0;34m(\u001b[0m\u001b[0;34m\"ipc://@{}\"\u001b[0m\u001b[0;34m.\u001b[0m\u001b[0mformat\u001b[0m\u001b[0;34m(\u001b[0m\u001b[0msignal_name\u001b[0m\u001b[0;34m)\u001b[0m\u001b[0;34m)\u001b[0m\u001b[0;34m\u001b[0m\u001b[0m\n\u001b[1;32m    334\u001b[0m             \u001b[0msig_port\u001b[0m \u001b[0;34m=\u001b[0m \u001b[0msig_socket\u001b[0m\u001b[0;34m.\u001b[0m\u001b[0mbind_to_random_port\u001b[0m\u001b[0;34m(\u001b[0m\u001b[0;34m\"tcp://*\"\u001b[0m\u001b[0;34m)\u001b[0m\u001b[0;34m\u001b[0m\u001b[0m\n",
      "\u001b[0;32mzmq/backend/cython/socket.pyx\u001b[0m in \u001b[0;36mzmq.backend.cython.socket.Socket.bind\u001b[0;34m()\u001b[0m\n",
      "\u001b[0;32m~/.virtualenvs/dlrc/lib/python3.6/site-packages/zmq/backend/cython/checkrc.pxd\u001b[0m in \u001b[0;36mzmq.backend.cython.checkrc._check_rc\u001b[0;34m()\u001b[0m\n",
      "\u001b[0;31mZMQError\u001b[0m: Address already in use"
     ]
    }
   ],
   "source": [
    "b.register_signal('franka_target_pos', pab.MsgType.target_pos)"
   ]
  },
  {
   "cell_type": "markdown",
   "metadata": {},
   "source": [
    "b.request_signal(\"franka_lidar\", pab.MsgType.franka_lidar)"
   ]
  },
  {
   "cell_type": "markdown",
   "metadata": {},
   "source": [
    "b.request_signal(\"franka_lidar\", pab.MsgType.franka_lidar)\n",
    "N = 100\n",
    "lidar_data = np.zeros((N, 9))\n",
    "for i in range(N): \n",
    "    lidar_msg = b.recv_msg(\"franka_lidar\", 0)\n",
    "    lid = lidar_msg.get_data()"
   ]
  },
  {
   "cell_type": "markdown",
   "metadata": {},
   "source": [
    "idx = 2\n",
    "lidar_data=[]\n",
    "\n",
    "while True:\n",
    "    lidar_msg = b.recv_msg(\"franka_lidar\", -1)\n",
    "    lid = lidar_msg.get_data()\n",
    "    if (lid[idx]<3000): \n",
    "        lidar_data.append(lid[idx])\n",
    "    plt.plot(lidar_data)\n",
    "    plt.ylim(0, 1000)\n",
    "    display.clear_output(wait=True)\n",
    "    display.display(pl.gcf())\n",
    "    time.sleep(0.1)"
   ]
  },
  {
   "cell_type": "code",
   "execution_count": 22,
   "metadata": {},
   "outputs": [
    {
     "data": {
      "text/plain": [
       "True"
      ]
     },
     "execution_count": 22,
     "metadata": {},
     "output_type": "execute_result"
    }
   ],
   "source": [
    "b.request_signal(\"franka_state\", pab.MsgType.franka_state, True)"
   ]
  },
  {
   "cell_type": "code",
   "execution_count": 23,
   "metadata": {},
   "outputs": [],
   "source": [
    "def create_spiral(t, a): \n",
    "    x = a*(np.cos(t) + t*np.sin(t))\n",
    "    y = a*(np.sin(t) - t*np.cos(t))\n",
    "    return x, y"
   ]
  },
  {
   "cell_type": "code",
   "execution_count": 24,
   "metadata": {},
   "outputs": [],
   "source": [
    "def create_message(counter=1000, timestamp=time.CLOCK_MONOTONIC, \\\n",
    "                   ctrl_t=0, pos = np.array([0.5, 0.7, 0.7]), go_time=0.15):\n",
    "    msg=pab.target_pos_msg()\n",
    "    msg.set_fnumber(counter)\n",
    "    msg.set_timestamp(timestamp)\n",
    "    msg.set_ctrl_t(ctrl_t)\n",
    "    msg.set_pos(pos)\n",
    "    msg.set_time_to_go(go_time)\n",
    "    current_counter=counter\n",
    "    return msg, current_counter"
   ]
  },
  {
   "cell_type": "code",
   "execution_count": 25,
   "metadata": {},
   "outputs": [
    {
     "name": "stdout",
     "output_type": "stream",
     "text": [
      "63813\n"
     ]
    },
    {
     "ename": "Exception",
     "evalue": "Signal franka_lidar is unknown. Is it registered as input?",
     "output_type": "error",
     "traceback": [
      "\u001b[0;31m--------------------------------------------------------------------\u001b[0m",
      "\u001b[0;31mException\u001b[0m                          Traceback (most recent call last)",
      "\u001b[0;32m<ipython-input-25-8aa479e9cfa7>\u001b[0m in \u001b[0;36m<module>\u001b[0;34m()\u001b[0m\n\u001b[1;32m     75\u001b[0m \u001b[0;34m\u001b[0m\u001b[0m\n\u001b[1;32m     76\u001b[0m \u001b[0;34m\u001b[0m\u001b[0m\n\u001b[0;32m---> 77\u001b[0;31m     \u001b[0mlidar_msg\u001b[0m \u001b[0;34m=\u001b[0m \u001b[0mb\u001b[0m\u001b[0;34m.\u001b[0m\u001b[0mrecv_msg\u001b[0m\u001b[0;34m(\u001b[0m\u001b[0;34m\"franka_lidar\"\u001b[0m\u001b[0;34m,\u001b[0m \u001b[0;36m0\u001b[0m\u001b[0;34m)\u001b[0m\u001b[0;34m\u001b[0m\u001b[0m\n\u001b[0m\u001b[1;32m     78\u001b[0m     \u001b[0mlid\u001b[0m \u001b[0;34m=\u001b[0m \u001b[0mlidar_msg\u001b[0m\u001b[0;34m.\u001b[0m\u001b[0mget_data\u001b[0m\u001b[0;34m(\u001b[0m\u001b[0;34m)\u001b[0m\u001b[0;34m\u001b[0m\u001b[0m\n\u001b[1;32m     79\u001b[0m \u001b[0;34m\u001b[0m\u001b[0m\n",
      "\u001b[0;32m~/git/py_at_broker/python/py_at_broker/at_broker.py\u001b[0m in \u001b[0;36mrecv_msg\u001b[0;34m(self, signal_name, timeout_)\u001b[0m\n\u001b[1;32m    597\u001b[0m             raise Exception(\n\u001b[1;32m    598\u001b[0m                 \"Signal {} is unknown. Is it registered as input?\".format(\n\u001b[0;32m--> 599\u001b[0;31m                     signal_name))\n\u001b[0m\u001b[1;32m    600\u001b[0m \u001b[0;34m\u001b[0m\u001b[0m\n\u001b[1;32m    601\u001b[0m \u001b[0;34m\u001b[0m\u001b[0m\n",
      "\u001b[0;31mException\u001b[0m: Signal franka_lidar is unknown. Is it registered as input?"
     ]
    }
   ],
   "source": [
    "sleep_time = 0.5\n",
    "go_time = 0.15\n",
    "\n",
    "time.sleep(sleep_time)\n",
    "x=0.5\n",
    "\n",
    "target_msg, current_counter= create_message()\n",
    "\n",
    "b.send_msg('franka_target_pos', target_msg)\n",
    "time.sleep(sleep_time)\n",
    "\n",
    "\n",
    "msg = b.recv_msg(\"franka_state\", 0)\n",
    "print(msg.get_fnumber())\n",
    "\n",
    "A=np.array([ 0,0,0,0.0825,-0.0825,0,0.088,0])\n",
    "D=np.array([ 0.333,0,0.316,0,0.384,0,0,0.107])\n",
    "Alph=(np.pi/2)*(np.array([0,-1,1,1,-1,1,1,0]))\n",
    "Thet=np.zeros(8)\n",
    "#Thet[:7] = np.nan\n",
    "d = {'a':A, 'd':D,'alpha':Alph, 'theta': Thet}\n",
    "df = pd.DataFrame(d)\n",
    "\n",
    "inside_range = True\n",
    "i = 10\n",
    "polarity = 1\n",
    "scaling=1.2\n",
    "\n",
    "position_file = 'toolbox/joint_positions.txt'\n",
    "lidar_file = 'toolbox/lidar_positions.txt'\n",
    "lidar_df = pd.read_csv('lidar_mapping.txt', sep = ',')\n",
    "\n",
    "while inside_range : \n",
    "    timeth=i/scaling\n",
    "\n",
    "\n",
    "    y, z = create_spiral(timeth, 0.005)\n",
    "    pos = np.array([x, y, z+0.7])\n",
    "    frame=current_counter+1\n",
    "    target_msg, current_counter = create_message(counter=frame, pos = pos, go_time=go_time*0.3*i)\n",
    "\n",
    "    \n",
    "    msg = b.recv_msg(\"franka_state\", 0)\n",
    "    Thet[0:7] = msg.get_j_pos()\n",
    "    df['theta'] = Thet\n",
    "    end_effect_pos = msg.get_c_pos()\n",
    "    \n",
    "    trans_mats = km.Transform2Base(df)\n",
    "    with open(position_file, 'w') as pf:\n",
    "        for ourmatrix in trans_mats:\n",
    "            end_pos = np.zeros(4)\n",
    "            end_pos[3] = 1\n",
    "            ep = np.round(np.dot(ourmatrix , end_pos), 3)\n",
    "            for k in ep: \n",
    "                pf.write(str(k) + ',')\n",
    "        pf.write('\\n')\n",
    "        \n",
    "    with open(lidar_file, 'w') as lf: \n",
    "        l_pos = np.ones(4)\n",
    "        \n",
    "        for j in range(len(lidar_df)): \n",
    "            l_pos[0] = lidar_df.loc[j].values[2]*0.01\n",
    "            l_pos[1] = lidar_df.loc[j].values[3]*0.01\n",
    "            l_pos[2] = lidar_df.loc[j].values[4]*0.01\n",
    "            #l_pos[:3] = df.loc[i].values[2:]\n",
    "            lider_joint = lidar_df.loc[j][1]\n",
    "            lp = np.round(np.dot(trans_mats[int(lider_joint)] , l_pos), 3)\n",
    "            if j == 0: \n",
    "                first_lidar_pos = lp\n",
    "            for k in lp: \n",
    "                lf.write(str(k) + ',')\n",
    "        lf.write('\\n')\n",
    "        \n",
    "        \n",
    "        \n",
    "        \n",
    "    lidar_msg = b.recv_msg(\"franka_lidar\", 0)\n",
    "    lid = lidar_msg.get_data()\n",
    "    \n",
    "\n",
    "    \n",
    "    clear_output(wait = True)\n",
    "    print(pos)\n",
    "    print(polarity)\n",
    "    b.send_msg('franka_target_pos', target_msg)\n",
    "    time.sleep(sleep_time)\n",
    "    i += polarity\n",
    "    \n",
    "    if z > 0.2: \n",
    "        polarity = -1\n",
    "    elif i == 10: \n",
    "        polarity = 1\n",
    "\n",
    "        \n",
    "    if lid[0] < 200: \n",
    "        print('something approaching. I will go home!')\n",
    "        escape_pos = first_lidar_pos[:3]\n",
    "        #escape_pos[2] -= 0.2\n",
    "        #escape_pos[0] += 0.3\n",
    "        escape_pos[1] -= lid[0]*0.001\n",
    "        target_msg, current_counter = create_message(counter=frame +1, pos = escape_pos, go_time=go_time*0.3*i)\n",
    "        b.send_msg('franka_target_pos', target_msg)\n",
    "        time.sleep(sleep_time)\n",
    "        inside_range = False\n"
   ]
  },
  {
   "cell_type": "code",
   "execution_count": null,
   "metadata": {},
   "outputs": [],
   "source": [
    "timestamp       : Timestamp\n",
    "fnumber         : uint\n",
    "c_acc_mean      : [double]  // (3x1)    Mean values of desired end effector\n",
    "                                        acceleration in cartesion space\n",
    "c_acc_var       : [double]  // (3x1)    Variance values of desired end \n",
    "                                        effector acceleration in cartesian \n",
    "                                        space\n",
    "c_ori_mean      : [double]  // (3x1)    Mean values of desired end effector\n",
    "                                        orientation in cartesion space\n",
    "c_ori_var       : [double]  // (3x1)    Variance values of desired end \n",
    "                                        effector orientation in cartesian \n",
    "                                        space\n"
   ]
  },
  {
   "cell_type": "code",
   "execution_count": null,
   "metadata": {},
   "outputs": [],
   "source": [
    "gripper_cmd\n",
    "\n",
    "timestamp       : Timestamp\n",
    "fnumber         : uint\n",
    "cmd_t           : enum      //          Encoding for the command type\n",
    "                                        [UNK=-1, Homing, Grasp, Move, Stop]\n",
    "width           : double    //          Target Width of the gripper [m]  \n",
    "speed           : double    //          Target closing speed [m/s]\n",
    "force           : double    //          Target closing force [N]\n",
    "epsilon_in      : double    //          Inner tolerance for final width when \n",
    "                                        grasped [m]\n",
    "epsilon_out     : double    //          Inner tolerance for final width when \n",
    "                                        grasped [m]"
   ]
  },
  {
   "cell_type": "code",
   "execution_count": null,
   "metadata": {
    "scrolled": true
   },
   "outputs": [],
   "source": [
    "b.register_signal('task_policy', pab.MsgType.task_policy)"
   ]
  },
  {
   "cell_type": "code",
   "execution_count": 3,
   "metadata": {},
   "outputs": [
    {
     "data": {
      "text/plain": [
       "True"
      ]
     },
     "execution_count": 3,
     "metadata": {},
     "output_type": "execute_result"
    }
   ],
   "source": [
    "b.register_signal('franka_gripper', pab.MsgType.gripper_cmd)"
   ]
  },
  {
   "cell_type": "code",
   "execution_count": null,
   "metadata": {},
   "outputs": [],
   "source": [
    "i = 0\n",
    "sleep_time = 1\n",
    "while True: \n",
    "    counter = 2000 + 5*i\n",
    "    if i%2 == 0: \n",
    "        ori = np.ones(3)*0.5\n",
    "    else: \n",
    "        ori = np.array([0.5, 0.5, 0])\n",
    "    \n",
    "    var = np.ones(3)*0.2\n",
    "    gripper_msg = pab.task_policy_msg()\n",
    "    gripper_msg.set_timestamp(time.CLOCK_MONOTONIC)\n",
    "    gripper_msg.set_fnumber(counter)\n",
    "    gripper_msg.set_c_ori_mean(ori)\n",
    "    gripper_msg.set_c_ori_var(var)\n",
    "    \n",
    "    gripper_msg.set_c_acc_mean(np.zeros(3))\n",
    "    gripper_msg.set_c_acc_var(var)\n",
    "    b.send_msg('task_policy', gripper_msg)\n",
    "    time.sleep(sleep_time)\n",
    "    \n",
    "    print(ori)\n",
    "    i += 1 "
   ]
  },
  {
   "cell_type": "code",
   "execution_count": 2,
   "metadata": {},
   "outputs": [
    {
     "ename": "AssertionError",
     "evalue": "",
     "output_type": "error",
     "traceback": [
      "\u001b[0;31m---------------------------------------------------------------------------\u001b[0m",
      "\u001b[0;31mAssertionError\u001b[0m                            Traceback (most recent call last)",
      "\u001b[0;32m<ipython-input-2-3a999bb03efe>\u001b[0m in \u001b[0;36m<module>\u001b[0;34m()\u001b[0m\n\u001b[1;32m     15\u001b[0m     \u001b[0mgripper_msg\u001b[0m\u001b[0;34m.\u001b[0m\u001b[0mset_width\u001b[0m\u001b[0;34m(\u001b[0m\u001b[0;36m0.1\u001b[0m\u001b[0;34m)\u001b[0m\u001b[0;34m\u001b[0m\u001b[0m\n\u001b[1;32m     16\u001b[0m     \u001b[0mgripper_msg\u001b[0m\u001b[0;34m.\u001b[0m\u001b[0mset_speed\u001b[0m\u001b[0;34m(\u001b[0m\u001b[0;36m0.1\u001b[0m\u001b[0;34m)\u001b[0m\u001b[0;34m\u001b[0m\u001b[0m\n\u001b[0;32m---> 17\u001b[0;31m     \u001b[0mgripper_msg\u001b[0m\u001b[0;34m.\u001b[0m\u001b[0mset_force\u001b[0m\u001b[0;34m(\u001b[0m\u001b[0;36m0.1\u001b[0m\u001b[0;34m)\u001b[0m\u001b[0;34m\u001b[0m\u001b[0m\n\u001b[0m\u001b[1;32m     18\u001b[0m     \u001b[0mgripper_msg\u001b[0m\u001b[0;34m.\u001b[0m\u001b[0mset_epsilon_in\u001b[0m\u001b[0;34m(\u001b[0m\u001b[0;36m0.005\u001b[0m\u001b[0;34m)\u001b[0m\u001b[0;34m\u001b[0m\u001b[0m\n\u001b[1;32m     19\u001b[0m     \u001b[0mgripper_msg\u001b[0m\u001b[0;34m.\u001b[0m\u001b[0mset_epsilon_out\u001b[0m\u001b[0;34m(\u001b[0m\u001b[0;36m0.005\u001b[0m\u001b[0;34m)\u001b[0m\u001b[0;34m\u001b[0m\u001b[0m\n",
      "\u001b[0;32m~/git/py_at_broker/python/py_at_broker/fb_msg_new.py\u001b[0m in \u001b[0;36mset_force\u001b[0;34m(self, force)\u001b[0m\n\u001b[1;32m    828\u001b[0m     \u001b[0;32mdef\u001b[0m \u001b[0mset_force\u001b[0m\u001b[0;34m(\u001b[0m\u001b[0mself\u001b[0m\u001b[0;34m,\u001b[0m \u001b[0mforce\u001b[0m\u001b[0;34m)\u001b[0m\u001b[0;34m:\u001b[0m\u001b[0;34m\u001b[0m\u001b[0m\n\u001b[1;32m    829\u001b[0m         \u001b[0mforce\u001b[0m \u001b[0;34m=\u001b[0m \u001b[0mfloat\u001b[0m\u001b[0;34m(\u001b[0m\u001b[0mforce\u001b[0m\u001b[0;34m)\u001b[0m\u001b[0;34m\u001b[0m\u001b[0m\n\u001b[0;32m--> 830\u001b[0;31m         \u001b[0;32massert\u001b[0m\u001b[0;34m(\u001b[0m\u001b[0;32mnot\u001b[0m \u001b[0mself\u001b[0m\u001b[0;34m.\u001b[0m\u001b[0mfinal\u001b[0m\u001b[0;34m)\u001b[0m\u001b[0;34m\u001b[0m\u001b[0m\n\u001b[0m\u001b[1;32m    831\u001b[0m \u001b[0;34m\u001b[0m\u001b[0m\n\u001b[1;32m    832\u001b[0m         \u001b[0mself\u001b[0m\u001b[0;34m.\u001b[0m\u001b[0mforce\u001b[0m \u001b[0;34m=\u001b[0m \u001b[0mforce\u001b[0m\u001b[0;34m\u001b[0m\u001b[0m\n",
      "\u001b[0;31mAssertionError\u001b[0m: "
     ]
    }
   ],
   "source": [
    "i = 0\n",
    "sleep_time = 1\n",
    "while True: \n",
    "    counter = 2000 + 5*i\n",
    "    if i%2 == 0: \n",
    "        ori = np.ones(3)*0.5\n",
    "    else: \n",
    "        ori = np.array([0.5, 0.5, 0])\n",
    "    \n",
    "    var = np.ones(3)*0.2\n",
    "    gripper_msg = pab.gripper_cmd_msg()\n",
    "    gripper_msg.set_timestamp(time.CLOCK_MONOTONIC)\n",
    "    gripper_msg.set_fnumber(counter)\n",
    "    gripper_msg.set_cmd_t(2)\n",
    "    gripper_msg.set_width(0.1)\n",
    "    gripper_msg.set_speed(0.1)\n",
    "    #gripper_msg.set_force(0.1)\n",
    "    gripper_msg.set_epsilon_in(0.005)\n",
    "    gripper_msg.set_epsilon_out(0.005)\n",
    "    \n",
    "    b.send_msg('franka_gripper', gripper_msg)\n",
    "    time.sleep(sleep_time)\n",
    "    \n",
    "    print(ori)\n",
    "    i += 1 "
   ]
  },
  {
   "cell_type": "code",
   "execution_count": null,
   "metadata": {},
   "outputs": [],
   "source": []
  },
  {
   "cell_type": "code",
   "execution_count": null,
   "metadata": {},
   "outputs": [],
   "source": [
    "sleep_time = 0.5\n",
    "go_time = 0.15\n",
    "\n",
    "time.sleep(sleep_time)\n",
    "x=0.5\n",
    "\n",
    "target_msg, current_counter= create_message()\n",
    "\n",
    "b.send_msg('franka_target_pos', target_msg)\n",
    "time.sleep(sleep_time)\n",
    "\n",
    "\n",
    "msg = b.recv_msg(\"franka_state\", 0)\n",
    "print(msg.get_fnumber())\n",
    "\n",
    "A=np.array([ 0,0,0,0.0825,-0.0825,0,0.088,0])\n",
    "D=np.array([ 0.333,0,0.316,0,0.384,0,0,0.107])\n",
    "Alph=(np.pi/2)*(np.array([0,-1,1,1,-1,1,1,0]))\n",
    "Thet=np.zeros(8)\n",
    "#Thet[:7] = np.nan\n",
    "d = {'a':A, 'd':D,'alpha':Alph, 'theta': Thet}\n",
    "df = pd.DataFrame(d)\n",
    "\n",
    "inside_range = True\n",
    "i = 10\n",
    "polarity = 1\n",
    "scaling=1.2\n",
    "\n",
    "position_file = 'toolbox/joint_positions.txt'\n",
    "lidar_file = 'toolbox/lidar_positions.txt'\n",
    "lidar_df = pd.read_csv('lidar_mapping.txt', sep = ',')\n",
    "\n",
    "while inside_range : \n",
    "    timeth=i/scaling"
   ]
  },
  {
   "cell_type": "code",
   "execution_count": null,
   "metadata": {},
   "outputs": [],
   "source": []
  },
  {
   "cell_type": "code",
   "execution_count": null,
   "metadata": {},
   "outputs": [],
   "source": []
  }
 ],
 "metadata": {
  "kernelspec": {
   "display_name": "Python 3",
   "language": "python",
   "name": "python3"
  },
  "language_info": {
   "codemirror_mode": {
    "name": "ipython",
    "version": 3
   },
   "file_extension": ".py",
   "mimetype": "text/x-python",
   "name": "python",
   "nbconvert_exporter": "python",
   "pygments_lexer": "ipython3",
   "version": "3.6.5"
  }
 },
 "nbformat": 4,
 "nbformat_minor": 2
}
