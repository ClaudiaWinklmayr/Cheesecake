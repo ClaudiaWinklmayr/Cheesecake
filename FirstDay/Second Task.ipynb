{
 "cells": [
  {
   "cell_type": "code",
   "execution_count": 1,
   "metadata": {},
   "outputs": [],
   "source": [
    "import time\n",
    "import numpy as np\n",
    "import py_at_broker as pab\n",
    "from IPython.display import clear_output\n",
    "import math as math\n",
    "b = pab.broker()"
   ]
  },
  {
   "cell_type": "code",
   "execution_count": 2,
   "metadata": {},
   "outputs": [
    {
     "data": {
      "text/plain": [
       "True"
      ]
     },
     "execution_count": 2,
     "metadata": {},
     "output_type": "execute_result"
    }
   ],
   "source": [
    "b.register_signal('franka_target_pos', pab.MsgType.target_pos)\n",
    "b.request_signal(\"franka_state\", pab.MsgType.franka_state, True)"
   ]
  },
  {
   "cell_type": "markdown",
   "metadata": {},
   "source": [
    "timestamp       : Timestamp\n",
    "fnumber         : uint\n",
    "ctrl_t          : enum      //          Encoding for the control type, whether \n",
    "                                        target position is in joint or \n",
    "                                        cartesian space\n",
    "                                        [Cartesian=0, Joint]\n",
    "pos             : double    // (3x1)/(7x1)   Target position the robot should \n",
    "                                             go to\n",
    "time_to_go      : double    //          Time the robot has for going to the \n",
    "                                        target position (determines movement \n",
    "                                        speed)\n"
   ]
  },
  {
   "cell_type": "code",
   "execution_count": 32,
   "metadata": {},
   "outputs": [],
   "source": [
    "def create_coordinates(t, a): \n",
    "    # r² = a² cos(2t) * (1/cos(t)⁴)\n",
    "    r = a*np.sqrt(np.cos(2*t)*(np.sec(t)**4))\n",
    "    print(r)\n",
    "    x = r*np.sin(t)\n",
    "    y = r*np.cos(t)\n",
    "    return x, y"
   ]
  },
  {
   "cell_type": "code",
   "execution_count": 3,
   "metadata": {},
   "outputs": [],
   "source": [
    "def create_spiral(t, a): \n",
    "    x = a*(np.cos(t) + t*np.sin(t))\n",
    "    y = a*(np.sin(t) - t*np.cos(t))\n",
    "    return x, y"
   ]
  },
  {
   "cell_type": "code",
   "execution_count": null,
   "metadata": {},
   "outputs": [],
   "source": [
    "def heart_coordinates(t, a): \n",
    "    r=0.15*(1-math.sin(t))\n",
    "    y=r*math.sin(t)\n",
    "    z=r*math.cos(t)\n",
    "    return y, z"
   ]
  },
  {
   "cell_type": "code",
   "execution_count": 17,
   "metadata": {},
   "outputs": [],
   "source": [
    "def create_message(counter=1000, timestamp=time.CLOCK_MONOTONIC, \\\n",
    "                   ctrl_t=0, pos = np.array([0.5, 0.7, 0.7]), go_time=0.15):\n",
    "    msg=pab.target_pos_msg()\n",
    "    msg.set_fnumber(counter)\n",
    "    msg.set_timestamp(timestamp)\n",
    "    msg.set_ctrl_t(ctrl_t)\n",
    "    msg.set_pos(pos)\n",
    "    msg.set_time_to_go(go_time)\n",
    "    current_counter=counter\n",
    "    return msg, current_counter"
   ]
  },
  {
   "cell_type": "code",
   "execution_count": 22,
   "metadata": {},
   "outputs": [
    {
     "name": "stdout",
     "output_type": "stream",
     "text": [
      "[0.5        0.15505637 0.76132128]\n",
      "1\n"
     ]
    },
    {
     "ename": "KeyboardInterrupt",
     "evalue": "",
     "output_type": "error",
     "traceback": [
      "\u001b[0;31m-------------------------------------------------------\u001b[0m",
      "\u001b[0;31mKeyboardInterrupt\u001b[0m     Traceback (most recent call last)",
      "\u001b[0;32m<ipython-input-22-f15ba5562960>\u001b[0m in \u001b[0;36m<module>\u001b[0;34m()\u001b[0m\n\u001b[1;32m     34\u001b[0m     \u001b[0mprint\u001b[0m\u001b[0;34m(\u001b[0m\u001b[0mpolarity\u001b[0m\u001b[0;34m)\u001b[0m\u001b[0;34m\u001b[0m\u001b[0m\n\u001b[1;32m     35\u001b[0m     \u001b[0mb\u001b[0m\u001b[0;34m.\u001b[0m\u001b[0msend_msg\u001b[0m\u001b[0;34m(\u001b[0m\u001b[0;34m'franka_target_pos'\u001b[0m\u001b[0;34m,\u001b[0m \u001b[0mtarget_msg\u001b[0m\u001b[0;34m)\u001b[0m\u001b[0;34m\u001b[0m\u001b[0m\n\u001b[0;32m---> 36\u001b[0;31m     \u001b[0mtime\u001b[0m\u001b[0;34m.\u001b[0m\u001b[0msleep\u001b[0m\u001b[0;34m(\u001b[0m\u001b[0msleep_time\u001b[0m\u001b[0;34m)\u001b[0m\u001b[0;34m\u001b[0m\u001b[0m\n\u001b[0m\u001b[1;32m     37\u001b[0m     \u001b[0mi\u001b[0m \u001b[0;34m+=\u001b[0m \u001b[0mpolarity\u001b[0m\u001b[0;34m\u001b[0m\u001b[0m\n\u001b[1;32m     38\u001b[0m \u001b[0;34m\u001b[0m\u001b[0m\n",
      "\u001b[0;31mKeyboardInterrupt\u001b[0m: "
     ]
    }
   ],
   "source": [
    "#counter = 4000\n",
    "sleep_time = 0.5\n",
    "go_time = 0.15\n",
    "\n",
    "time.sleep(sleep_time)\n",
    "x=0.5\n",
    "\n",
    "target_msg, current_counter= create_message()\n",
    "\n",
    "b.send_msg('franka_target_pos', target_msg)\n",
    "time.sleep(sleep_time)\n",
    "\n",
    "\n",
    "msg = b.recv_msg(\"franka_state\", 0)\n",
    "\n",
    "inside_range = True\n",
    "i = 10\n",
    "polarity = 1\n",
    "scaling=1.2\n",
    "\n",
    "while inside_range : \n",
    "    timeth=i/scaling\n",
    "\n",
    "\n",
    "    y, z = create_spiral(timeth, 0.005)\n",
    "    pos = np.array([x, y, z+0.7])\n",
    "    frame=current_counter+1\n",
    "    target_msg, current_counter = create_message(counter=frame, pos = pos, go_time=go_time*0.3*i)\n",
    "\n",
    "    \n",
    "\n",
    "    clear_output(wait = True)\n",
    "    print(pos)\n",
    "    print(polarity)\n",
    "    b.send_msg('franka_target_pos', target_msg)\n",
    "    time.sleep(sleep_time)\n",
    "    i += polarity\n",
    "    \n",
    "    if z > 0.2: \n",
    "        polarity = -1\n",
    "    elif i == 10: \n",
    "        polarity = 1\n"
   ]
  },
  {
   "cell_type": "code",
   "execution_count": 23,
   "metadata": {},
   "outputs": [],
   "source": [
    "\n"
   ]
  },
  {
   "cell_type": "code",
   "execution_count": 27,
   "metadata": {},
   "outputs": [
    {
     "ename": "RuntimeError",
     "evalue": "set_xu(...). xioctl(UVCIOC_CTRL_QUERY) failed Last Error: Inappropriate ioctl for device",
     "output_type": "error",
     "traceback": [
      "\u001b[0;31m-------------------------------------------------------\u001b[0m",
      "\u001b[0;31mRuntimeError\u001b[0m          Traceback (most recent call last)",
      "\u001b[0;32m<ipython-input-27-cbfe611d5fc0>\u001b[0m in \u001b[0;36m<module>\u001b[0;34m()\u001b[0m\n\u001b[1;32m      2\u001b[0m \u001b[0mpoints\u001b[0m \u001b[0;34m=\u001b[0m \u001b[0mrs\u001b[0m\u001b[0;34m.\u001b[0m\u001b[0mpoints\u001b[0m\u001b[0;34m(\u001b[0m\u001b[0;34m)\u001b[0m\u001b[0;34m\u001b[0m\u001b[0m\n\u001b[1;32m      3\u001b[0m \u001b[0mpipe\u001b[0m \u001b[0;34m=\u001b[0m \u001b[0mrs\u001b[0m\u001b[0;34m.\u001b[0m\u001b[0mpipeline\u001b[0m\u001b[0;34m(\u001b[0m\u001b[0;34m)\u001b[0m\u001b[0;34m\u001b[0m\u001b[0m\n\u001b[0;32m----> 4\u001b[0;31m \u001b[0mpipe\u001b[0m\u001b[0;34m.\u001b[0m\u001b[0mstart\u001b[0m\u001b[0;34m(\u001b[0m\u001b[0;34m)\u001b[0m\u001b[0;34m;\u001b[0m\u001b[0;34m\u001b[0m\u001b[0m\n\u001b[0m",
      "\u001b[0;31mRuntimeError\u001b[0m: set_xu(...). xioctl(UVCIOC_CTRL_QUERY) failed Last Error: Inappropriate ioctl for device"
     ]
    }
   ],
   "source": []
  },
  {
   "cell_type": "code",
   "execution_count": null,
   "metadata": {},
   "outputs": [],
   "source": []
  }
 ],
 "metadata": {
  "kernelspec": {
   "display_name": "Python 3",
   "language": "python",
   "name": "python3"
  },
  "language_info": {
   "codemirror_mode": {
    "name": "ipython",
    "version": 3
   },
   "file_extension": ".py",
   "mimetype": "text/x-python",
   "name": "python",
   "nbconvert_exporter": "python",
   "pygments_lexer": "ipython3",
   "version": "3.6.5"
  }
 },
 "nbformat": 4,
 "nbformat_minor": 2
}
