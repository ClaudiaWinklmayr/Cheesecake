{
 "cells": [
  {
   "cell_type": "code",
   "execution_count": 1,
   "metadata": {},
   "outputs": [
    {
     "name": "stdout",
     "output_type": "stream",
     "text": [
      "The autoreload extension is already loaded. To reload it, use:\n",
      "  %reload_ext autoreload\n"
     ]
    }
   ],
   "source": [
    "#Broker imports:\n",
    "import py_at_broker as pab\n",
    "from IPython.display import clear_output\n",
    "\n",
    "import pylab as pl\n",
    "import pickle as p\n",
    "import matplotlib.pyplot as plt\n",
    "%matplotlib inline\n",
    "b = pab.broker()\n",
    "\n",
    "%load_ext autoreload\n",
    "%autoreload 2\n",
    "from toolbox import data_processing as dp\n",
    "from toolbox import movementtoolbox as mt \n",
    "#Non broker imports:\n",
    "\n",
    "from IPython import display\n",
    "import math as math\n",
    "import pandas as pd\n",
    "import time\n",
    "import cv2\n",
    "import numpy as np\n",
    "%load_ext autoreload\n",
    "%autoreload 2\n",
    "from toolbox import kinematic_mapping as km\n",
    "from robo_cheesecake.engine import *"
   ]
  },
  {
   "cell_type": "code",
   "execution_count": 2,
   "metadata": {
    "scrolled": true
   },
   "outputs": [
    {
     "name": "stdout",
     "output_type": "stream",
     "text": [
      "The autoreload extension is already loaded. To reload it, use:\n",
      "  %reload_ext autoreload\n"
     ]
    },
    {
     "name": "stderr",
     "output_type": "stream",
     "text": [
      "/home/dlrc1/Documents/models/research/object_detection/utils/visualization_utils.py:27: UserWarning: \n",
      "This call to matplotlib.use() has no effect because the backend has already\n",
      "been chosen; matplotlib.use() must be called *before* pylab, matplotlib.pyplot,\n",
      "or matplotlib.backends is imported for the first time.\n",
      "\n",
      "The backend was *originally* set to 'module://ipykernel.pylab.backend_inline' by the following code:\n",
      "  File \"/usr/lib/python3.6/runpy.py\", line 193, in _run_module_as_main\n",
      "    \"__main__\", mod_spec)\n",
      "  File \"/usr/lib/python3.6/runpy.py\", line 85, in _run_code\n",
      "    exec(code, run_globals)\n",
      "  File \"/home/dlrc1/.virtualenvs/dlrc/lib/python3.6/site-packages/ipykernel_launcher.py\", line 16, in <module>\n",
      "    app.launch_new_instance()\n",
      "  File \"/home/dlrc1/.virtualenvs/dlrc/lib/python3.6/site-packages/traitlets/config/application.py\", line 658, in launch_instance\n",
      "    app.start()\n",
      "  File \"/home/dlrc1/.virtualenvs/dlrc/lib/python3.6/site-packages/ipykernel/kernelapp.py\", line 497, in start\n",
      "    self.io_loop.start()\n",
      "  File \"/home/dlrc1/.virtualenvs/dlrc/lib/python3.6/site-packages/tornado/platform/asyncio.py\", line 132, in start\n",
      "    self.asyncio_loop.run_forever()\n",
      "  File \"/usr/lib/python3.6/asyncio/base_events.py\", line 422, in run_forever\n",
      "    self._run_once()\n",
      "  File \"/usr/lib/python3.6/asyncio/base_events.py\", line 1434, in _run_once\n",
      "    handle._run()\n",
      "  File \"/usr/lib/python3.6/asyncio/events.py\", line 145, in _run\n",
      "    self._callback(*self._args)\n",
      "  File \"/home/dlrc1/.virtualenvs/dlrc/lib/python3.6/site-packages/tornado/platform/asyncio.py\", line 122, in _handle_events\n",
      "    handler_func(fileobj, events)\n",
      "  File \"/home/dlrc1/.virtualenvs/dlrc/lib/python3.6/site-packages/tornado/stack_context.py\", line 300, in null_wrapper\n",
      "    return fn(*args, **kwargs)\n",
      "  File \"/home/dlrc1/.virtualenvs/dlrc/lib/python3.6/site-packages/zmq/eventloop/zmqstream.py\", line 450, in _handle_events\n",
      "    self._handle_recv()\n",
      "  File \"/home/dlrc1/.virtualenvs/dlrc/lib/python3.6/site-packages/zmq/eventloop/zmqstream.py\", line 480, in _handle_recv\n",
      "    self._run_callback(callback, msg)\n",
      "  File \"/home/dlrc1/.virtualenvs/dlrc/lib/python3.6/site-packages/zmq/eventloop/zmqstream.py\", line 432, in _run_callback\n",
      "    callback(*args, **kwargs)\n",
      "  File \"/home/dlrc1/.virtualenvs/dlrc/lib/python3.6/site-packages/tornado/stack_context.py\", line 300, in null_wrapper\n",
      "    return fn(*args, **kwargs)\n",
      "  File \"/home/dlrc1/.virtualenvs/dlrc/lib/python3.6/site-packages/ipykernel/kernelbase.py\", line 283, in dispatcher\n",
      "    return self.dispatch_shell(stream, msg)\n",
      "  File \"/home/dlrc1/.virtualenvs/dlrc/lib/python3.6/site-packages/ipykernel/kernelbase.py\", line 233, in dispatch_shell\n",
      "    handler(stream, idents, msg)\n",
      "  File \"/home/dlrc1/.virtualenvs/dlrc/lib/python3.6/site-packages/ipykernel/kernelbase.py\", line 399, in execute_request\n",
      "    user_expressions, allow_stdin)\n",
      "  File \"/home/dlrc1/.virtualenvs/dlrc/lib/python3.6/site-packages/ipykernel/ipkernel.py\", line 208, in do_execute\n",
      "    res = shell.run_cell(code, store_history=store_history, silent=silent)\n",
      "  File \"/home/dlrc1/.virtualenvs/dlrc/lib/python3.6/site-packages/ipykernel/zmqshell.py\", line 537, in run_cell\n",
      "    return super(ZMQInteractiveShell, self).run_cell(*args, **kwargs)\n",
      "  File \"/home/dlrc1/.virtualenvs/dlrc/lib/python3.6/site-packages/IPython/core/interactiveshell.py\", line 2666, in run_cell\n",
      "    self.events.trigger('post_run_cell', result)\n",
      "  File \"/home/dlrc1/.virtualenvs/dlrc/lib/python3.6/site-packages/IPython/core/events.py\", line 88, in trigger\n",
      "    func(*args, **kwargs)\n",
      "  File \"/home/dlrc1/.virtualenvs/dlrc/lib/python3.6/site-packages/ipykernel/pylab/backend_inline.py\", line 164, in configure_once\n",
      "    activate_matplotlib(backend)\n",
      "  File \"/home/dlrc1/.virtualenvs/dlrc/lib/python3.6/site-packages/IPython/core/pylabtools.py\", line 311, in activate_matplotlib\n",
      "    matplotlib.pyplot.switch_backend(backend)\n",
      "  File \"/home/dlrc1/.virtualenvs/dlrc/lib/python3.6/site-packages/matplotlib/pyplot.py\", line 231, in switch_backend\n",
      "    matplotlib.use(newbackend, warn=False, force=True)\n",
      "  File \"/home/dlrc1/.virtualenvs/dlrc/lib/python3.6/site-packages/matplotlib/__init__.py\", line 1422, in use\n",
      "    reload(sys.modules['matplotlib.backends'])\n",
      "  File \"/home/dlrc1/.virtualenvs/dlrc/lib/python3.6/importlib/__init__.py\", line 166, in reload\n",
      "    _bootstrap._exec(spec, module)\n",
      "  File \"/home/dlrc1/.virtualenvs/dlrc/lib/python3.6/site-packages/matplotlib/backends/__init__.py\", line 16, in <module>\n",
      "    line for line in traceback.format_stack()\n",
      "\n",
      "\n",
      "  import matplotlib; matplotlib.use('Agg')  # pylint: disable=multiple-statements\n"
     ]
    }
   ],
   "source": [
    "%load_ext autoreload\n",
    "%autoreload 2\n",
    "from toolbox import object_detection_toolbox as odt\n",
    "import os\n",
    "import tensorflow as tf\n",
    "\n",
    "from object_detection.utils import visualization_utils as vis_util"
   ]
  },
  {
   "cell_type": "markdown",
   "metadata": {},
   "source": [
    "import SLRobot\n",
    "from scipy.interpolate import interp1d\n",
    "from scipy import interpolate\n",
    "\n",
    "pgain_null = 0.002 * np.array([600.0, 600.0, 600.0, 600.0, 250.0, 150.0, 50.0], dtype=np.float64)\n",
    "\n",
    "# Null-space theta configuration\n",
    "target_th_null = np.zeros(7, dtype=np.float64)\n",
    "target_th_null[3] = -1.55\n",
    "target_th_null[5] = 1.9\n",
    "\n",
    "\n",
    "def quatToEulerAngles(quat):\n",
    "\n",
    "    eulerAngles = np.array([0.0]*3)\n",
    "    threshold = 0.001\n",
    "    qw = quat[0]\n",
    "    qx = quat[1]\n",
    "    qy = quat[2]\n",
    "    qz = quat[3]  \n",
    "\n",
    "    heading = np.arctan2(2.0*qy*qw-2.0*qx*qz , 1.0 - 2.0*qy*qy - 2.0*qz*qz)\n",
    "    attitude = np.arcsin(2.0*qx*qy + 2.0*qz*qw)\n",
    "    bank = np.arctan2(2.0*qx*qw-2.0*qy*qz , 1.0 - 2.0*qx*qx - 2.0*qz*qz)\n",
    "\n",
    "    if (qx*qy + qz*qw - 0.5)*(qx*qy + qz*qw - 0.5) < threshold:\n",
    "        heading = 2.0 * np.arctan2(qx,qw)\n",
    "        bank = 0\n",
    "\n",
    "    if (qx*qy + qz*qw + 0.5)*(qx*qy + qz*qw + 0.5) < threshold:\n",
    "        heading = -2.0 * np.arctan2(qx,qw)\n",
    "        bank = 0\n",
    "\n",
    "    eulerAngles[0] = attitude\n",
    "    eulerAngles[1] = heading\n",
    "    eulerAngles[2] = bank\n",
    "\n",
    "    return(eulerAngles)\n",
    "\n",
    "\n",
    "\n",
    "\n",
    "\n",
    "def inverse_kin_6d(c_pos,q):\n",
    "\n",
    "    J_reg = 1e-8\n",
    "\n",
    "    # initialize the position\n",
    "    J_w = np.diag([50, 50, 25, 10, 10, 5, 1])\n",
    "\n",
    "    # compute the velocity in joint space and update the joint position\n",
    "    qi = []\n",
    "    EF_=[]\n",
    "    qi.append(q)\n",
    "    results_ =[]\n",
    "    c_vel_all = []\n",
    "\n",
    "    #while 1:\n",
    "    plt.figure()\n",
    "\n",
    "    for t in np.arange(100000):\n",
    "        \n",
    "        EF_FK = SLRobot.FK(np.array([q]))\n",
    "        #print(EF_FK[0,50:56])\n",
    "        c_vel = np.array([0.5, 0.5, 0.5, 0.5, 0.5, 0.01])*(c_pos - EF_FK[0,50:56])\n",
    "\n",
    "        #print(c_vel)\n",
    "        J = SLRobot.Jacobian(np.array([q]), 6)\n",
    "        target_th_null_out  = target_th_null\n",
    "        \n",
    "        A = J.dot(J_w).dot(J.transpose())\n",
    "        A += J_reg * np.eye(6)\n",
    "\n",
    "        qd_null = pgain_null * (target_th_null_out - q)\n",
    "        qd_d = np.linalg.solve(A, c_vel - J.dot(qd_null))\n",
    "        qd_d = J_w.dot(J.transpose()).dot(qd_d) + qd_null\n",
    "\n",
    "        q = q + 0.002*qd_d\n",
    "\n",
    "        #set the joint range\n",
    "        mask_max = q > np.pi\n",
    "        mask_min = q<-np.pi\n",
    "        q[mask_max] = q[mask_max] - 2*np.pi\n",
    "        q[mask_min] = q[mask_min] + 2*np.pi\n",
    "\n",
    "        qi.append(q)\n",
    "        EF_.append(EF_FK[0,50:56])\n",
    "        c_vel_all.append(c_vel)\n",
    "\n",
    "        # times the arrary to scale the orientation range.\n",
    "        error_ = np.sqrt(np.sum(np.square(np.array([1.0, 1.0, 1.0, 0.08, 0.08, 0.08])*(c_pos-EF_FK[0,50:56]))))\n",
    "        #print(error_)\n",
    "        if error_ <0.0080:\n",
    "\n",
    "            break\n",
    "    \n",
    "    print('error:', error_)\n",
    "\n",
    "    qi = np.array(qi)\n",
    "    # for debug    \n",
    "    plt.plot(qi)\n",
    "\n",
    "    EF_ = np.array(EF_)\n",
    "    c_vel_all = np.array(c_vel_all)\n",
    "\n",
    "    return qi[-1], EF_, qi, c_vel_all\n",
    "\n",
    "\n",
    "# This is a grasping point recorded by Alexj and Felix\n",
    "grasp_pt_quat = np.array([ 0.6801316 ,  0.14607485,  0.07193319,  0.37495322,  0.55747047, 0.20780073,  0.58338235])\n",
    "grasp_pt_angles = quatToEulerAngles(np.concatenate([grasp_pt_quat[-2:-1], grasp_pt_quat[3:6]])) #(np.array([0.37495322,  0.55747047, 0.20780073,  0.58338235]))\n",
    "print(np.concatenate([grasp_pt_quat[-2:-1], grasp_pt_quat[3:6]]))\n",
    "grasp_pt = np.concatenate([grasp_pt_quat[:3], grasp_pt_angles])\n",
    "\n",
    "q = target_th_null\n",
    "\n",
    "#input_EF = np.array([0.6801316 ,  0.14607485,  0.07193319,  0.52870199,  0.25408186, -0.11936578])\n",
    "input_EF = grasp_pt\n",
    "print(input_EF)\n",
    "j_ik = inverse_kin_6d(input_EF,q)\n",
    "end_pos=j_ik[0]\n",
    "\n",
    "EF_FK = SLRobot.FK(np.array([end_pos]))\n",
    "\n",
    "print('desired c pose:', input_EF)\n",
    "print('c pose:', EF_FK[0,50:56])"
   ]
  },
  {
   "cell_type": "markdown",
   "metadata": {},
   "source": [
    "# Path to frozen detection graph. This is the actual model that is used for the object detection.\n",
    "PATH_TO_FROZEN_GRAPH = '../faster_rcnn_inception_v2_coco_2018_01_28/frozen_inference_graph.pb'\n",
    "\n",
    "# List of the strings that is used to add correct label for each box.\n",
    "PATH_TO_LABELS = os.path.join('/home/dlrc1/Documents/models/research/object_detection/data', 'mscoco_label_map.pbtxt')\n",
    "\n",
    "with tf.device('/device:GPU:0'):\n",
    "    detection_graph = tf.Graph()\n",
    "    odt.load_model(PATH_TO_FROZEN_GRAPH, detection_graph)\n",
    "    category_index = odt.create_category_index(PATH_TO_LABELS)\n",
    "    with detection_graph.as_default() as graph:\n",
    "        tensor_dict = odt.create_tensor_dict(['num_detections', 'detection_boxes', 'detection_scores',\n",
    "        'detection_classes', 'detection_masks'])\n",
    "    sess = tf.Session(graph=detection_graph)"
   ]
  },
  {
   "cell_type": "code",
   "execution_count": 3,
   "metadata": {},
   "outputs": [
    {
     "data": {
      "text/plain": [
       "True"
      ]
     },
     "execution_count": 3,
     "metadata": {},
     "output_type": "execute_result"
    }
   ],
   "source": [
    "b.request_signal(\"franka_lidar\", pab.MsgType.franka_lidar)"
   ]
  },
  {
   "cell_type": "code",
   "execution_count": 4,
   "metadata": {
    "scrolled": true
   },
   "outputs": [
    {
     "name": "stdout",
     "output_type": "stream",
     "text": [
      "Address broker could not acceppt the offered signal franka_target_pos. Is there another signal with the same name? Trying to reconnect\n",
      "Reconnection to signal <franka_target_pos> successful\n"
     ]
    },
    {
     "data": {
      "text/plain": [
       "True"
      ]
     },
     "execution_count": 4,
     "metadata": {},
     "output_type": "execute_result"
    }
   ],
   "source": [
    "b.register_signal('franka_target_pos', pab.MsgType.target_pos)"
   ]
  },
  {
   "cell_type": "code",
   "execution_count": 5,
   "metadata": {},
   "outputs": [
    {
     "name": "stdout",
     "output_type": "stream",
     "text": [
      "Address broker could not acceppt the offered signal franka_gripper. Is there another signal with the same name? Trying to reconnect\n",
      "Reconnection to signal <franka_gripper> successful\n"
     ]
    },
    {
     "data": {
      "text/plain": [
       "True"
      ]
     },
     "execution_count": 5,
     "metadata": {},
     "output_type": "execute_result"
    }
   ],
   "source": [
    "b.register_signal(\"franka_gripper\", pab.MsgType.gripper_cmd)"
   ]
  },
  {
   "cell_type": "code",
   "execution_count": 6,
   "metadata": {},
   "outputs": [],
   "source": [
    "b.request_signal(\"franka_state\", pab.MsgType.franka_state, True)\n",
    "\n",
    "current_counter=0"
   ]
  },
  {
   "cell_type": "code",
   "execution_count": 7,
   "metadata": {},
   "outputs": [
    {
     "name": "stderr",
     "output_type": "stream",
     "text": [
      "/home/dlrc1/.virtualenvs/dlrc/lib/python3.6/site-packages/matplotlib/cbook/deprecation.py:107: MatplotlibDeprecationWarning: Adding an axes using the same arguments as a previous axes currently reuses the earlier instance.  In a future version, a new instance will always be created and returned.  Meanwhile, this warning can be suppressed, and the future behavior ensured, by passing a unique label to each axes instance.\n",
      "  warnings.warn(message, mplDeprecation, stacklevel=1)\n"
     ]
    },
    {
     "data": {
      "image/png": "[encoded data removed]",
      "text/plain": [
       "<Figure size 432x288 with 7 Axes>"
      ]
     },
     "metadata": {
      "needs_background": "light"
     },
     "output_type": "display_data"
    },
    {
     "data": {
      "image/png": "[encoded data removed]",
      "text/plain": [
       "<Figure size 432x288 with 7 Axes>"
      ]
     },
     "metadata": {
      "needs_background": "light"
     },
     "output_type": "display_data"
    }
   ],
   "source": [
    "def PredZ(z):\n",
    "    return RobotSaysHi.GeneratePrediction(w=RobotSaysHi.estimate_m, Z=z)[1]\n",
    "\n",
    "df_generated, N=robotoolbox.PrepareData('JointsFinalPresentation_take3_PanningOverApple.p')\n",
    "\n",
    "params = {'D' : 7, 'K' : 5, 'N' : N}\n",
    "RobotSaysHi=ProMP(identifier='RobotSaysHi', TrainingData=df_generated, params=params)\n",
    "RobotSaysHi.RegularizedLeastSquares() #Choice for l from [1]\n",
    "RobotSaysHi.GenerateDemoPlot(xvariable=\"Phases\")  \n",
    "RobotSaysHi.MeanAndStdPredictionPlot(factor=2)\n",
    "MaxTime=6\n",
    "samples=1  \n",
    "\n",
    "\n",
    "\n",
    "\n",
    "def FollowTrajectory(Q, record=False, df=[]):\n",
    "    global current_counter\n",
    "\n",
    "    sleep_time = samples\n",
    "    go_time = 1.8*samples\n",
    "    for idxq, Q_pos in enumerate(Q):\n",
    "\n",
    "        #print(Q_pos)\n",
    "        frame=current_counter+1\n",
    "        target_msg, current_counter = mt.create_message(counter=frame, ctrl_t = 1, pos = Q_pos, go_time=go_time)\n",
    "        b.send_msg('franka_target_pos', target_msg)\n",
    "        \n",
    "        if record: \n",
    "            target_time=time.time()\n",
    "            while (time.time()-target_time<=sleep_time):\n",
    "                state_msg = b.recv_msg(\"franka_state\", 0)\n",
    "                lidar_msg = b.recv_msg(\"franka_lidar\", 0)\n",
    "                df2 = pd.DataFrame([state_msg.get_timestamp(), state_msg.get_j_pos(), state_msg.get_j_vel(), state_msg.get_c_pos(), \n",
    "                    lidar_msg.get_timestamp(), lidar_msg.get_data()],cols)\n",
    "                df = df.append(df2.T, ignore_index = True)\n",
    "                time.sleep(0.2)\n",
    "        else:\n",
    "            time.sleep(sleep_time)\n",
    "            \n",
    "            \n",
    "        if idxq==0:\n",
    "            pass\n",
    "        \n",
    "    return df\n",
    "\n",
    "            #time.sleep(2)\n",
    "        \n",
    "\n",
    "\n",
    "\n"
   ]
  },
  {
   "cell_type": "code",
   "execution_count": 8,
   "metadata": {},
   "outputs": [
    {
     "name": "stdout",
     "output_type": "stream",
     "text": [
      "dumped pickle iter53\n"
     ]
    },
    {
     "data": {
      "image/png": "[encoded data removed]",
      "text/plain": [
       "<Figure size 432x288 with 1 Axes>"
      ]
     },
     "metadata": {
      "needs_background": "light"
     },
     "output_type": "display_data"
    },
    {
     "name": "stdout",
     "output_type": "stream",
     "text": [
      "-1\n"
     ]
    },
    {
     "ename": "KeyboardInterrupt",
     "evalue": "",
     "output_type": "error",
     "traceback": [
      "\u001b[0;31m---------------------------------------------------------------------------\u001b[0m",
      "\u001b[0;31mKeyboardInterrupt\u001b[0m                         Traceback (most recent call last)",
      "\u001b[0;32m<ipython-input-8-96069527ad7b>\u001b[0m in \u001b[0;36m<module>\u001b[0;34m()\u001b[0m\n\u001b[1;32m     28\u001b[0m     \u001b[0mpolarity\u001b[0m\u001b[0;34m=\u001b[0m\u001b[0;34m-\u001b[0m\u001b[0mpolarity\u001b[0m\u001b[0;34m\u001b[0m\u001b[0m\n\u001b[1;32m     29\u001b[0m     \u001b[0mprint\u001b[0m\u001b[0;34m(\u001b[0m\u001b[0mpolarity\u001b[0m\u001b[0;34m)\u001b[0m\u001b[0;34m\u001b[0m\u001b[0m\n\u001b[0;32m---> 30\u001b[0;31m     \u001b[0mtime\u001b[0m\u001b[0;34m.\u001b[0m\u001b[0msleep\u001b[0m\u001b[0;34m(\u001b[0m\u001b[0;36m2\u001b[0m\u001b[0;34m)\u001b[0m\u001b[0;34m\u001b[0m\u001b[0m\n\u001b[0m\u001b[1;32m     31\u001b[0m     \u001b[0miters\u001b[0m\u001b[0;34m+=\u001b[0m \u001b[0;36m1\u001b[0m\u001b[0;34m\u001b[0m\u001b[0m\n\u001b[1;32m     32\u001b[0m     \u001b[0mclear_output\u001b[0m\u001b[0;34m(\u001b[0m\u001b[0mwait\u001b[0m \u001b[0;34m=\u001b[0m \u001b[0;32mTrue\u001b[0m\u001b[0;34m)\u001b[0m\u001b[0;34m\u001b[0m\u001b[0m\n",
      "\u001b[0;31mKeyboardInterrupt\u001b[0m: "
     ]
    }
   ],
   "source": [
    "import numpy.random as npr\n",
    "\n",
    "#Q_des=end_pos\n",
    "\n",
    "#w_des=RobotSaysHi.Condition_JointSpace(Qtarget=[RobotSaysHi.GetStartPoint(w=RobotSaysHi.estimate_m), Q_des], Ztarget=[0,z])        \n",
    "#w_des=RobotSaysHi.Condition_JointSpace(Qtarget=[RobotSaysHi.GetStartPoint(w=RobotSaysHi.estimate_m),PredZ(0.3) ,PredZ(0.35) , Q_des], Ztarget=[0,0.3,0.35,z])        \n",
    "filename = 'panning_'\n",
    "cols = ['timestamp_franka', 'joint_pos', 'joint_vel', 'endeff_pos', 'timestamp_lidar', 'lidar_data']\n",
    "df = pd.DataFrame(columns = cols)\n",
    "polarity=1\n",
    "iters = 25\n",
    "while True:\n",
    "    w_sampled=npr.multivariate_normal(RobotSaysHi.estimate_m,RobotSaysHi.estimate_sigma)\n",
    "    T, Q= RobotSaysHi.GetJointData(w= w_sampled, robotrate=samples, MaxTime=MaxTime)\n",
    "    if polarity==-1:\n",
    "        Q=np.flip(Q, axis=0)\n",
    "    #robotoolbox.PlotTrajectory(T, Q)\n",
    "    #plt.show()\n",
    "    \n",
    "    df = pd.DataFrame(columns = cols)\n",
    "    df = FollowTrajectory(Q, record=True, df=df)\n",
    "    p.dump(df, open(filename + str(iters) + '.p', 'wb'))\n",
    "    print('dumped pickle iter{}'.format(iters))\n",
    "    \n",
    "    data = p.load(open(filename + str(iters) + '.p', 'rb'))\n",
    "    plt.plot(np.array(list(data['lidar_data'].values)))\n",
    "    plt.show()\n",
    "    polarity=-polarity\n",
    "    print(polarity)\n",
    "    time.sleep(2)\n",
    "    iters+= 1\n",
    "    clear_output(wait = True)\n",
    "\n"
   ]
  },
  {
   "cell_type": "code",
   "execution_count": null,
   "metadata": {},
   "outputs": [],
   "source": [
    "lidar_msg = b.recv_msg(\"franka_lidar\", 1)\n",
    "lidar_msg.get_data()"
   ]
  },
  {
   "cell_type": "code",
   "execution_count": null,
   "metadata": {},
   "outputs": [],
   "source": []
  },
  {
   "cell_type": "code",
   "execution_count": null,
   "metadata": {},
   "outputs": [],
   "source": []
  },
  {
   "cell_type": "code",
   "execution_count": null,
   "metadata": {},
   "outputs": [],
   "source": []
  }
 ],
 "metadata": {
  "kernelspec": {
   "display_name": "Python 3",
   "language": "python",
   "name": "python3"
  },
  "language_info": {
   "codemirror_mode": {
    "name": "ipython",
    "version": 3
   },
   "file_extension": ".py",
   "mimetype": "text/x-python",
   "name": "python",
   "nbconvert_exporter": "python",
   "pygments_lexer": "ipython3",
   "version": "3.6.5"
  }
 },
 "nbformat": 4,
 "nbformat_minor": 2
}
