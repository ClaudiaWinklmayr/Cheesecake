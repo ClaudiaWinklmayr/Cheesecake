{
 "cells": [
  {
   "cell_type": "code",
   "execution_count": 1,
   "metadata": {},
   "outputs": [],
   "source": [
    "import py_at_broker as pab\n",
    "import time\n",
    "import numpy as np\n",
    "from matplotlib import pyplot as plt\n",
    "import pandas as pd\n",
    "%matplotlib inline\n",
    "\n"
   ]
  },
  {
   "cell_type": "code",
   "execution_count": 2,
   "metadata": {},
   "outputs": [],
   "source": [
    "def Rx(alpha):\n",
    "    transform=np.eye(4)\n",
    "    \n",
    "    transform[1,1]=np.cos(alpha)\n",
    "    transform[2,2]=np.cos(alpha)\n",
    "    transform[2,1]=np.sin(alpha)\n",
    "    transform[1,2]=-np.sin(alpha)\n",
    "    return transform\n",
    "\n",
    "\n",
    "def Rz(theta):\n",
    "    transform=np.eye(4)\n",
    "    \n",
    "    transform[0,0]=np.cos(theta)\n",
    "    transform[1,1]=np.cos(theta)\n",
    "    transform[1,0]=np.sin(theta)\n",
    "    transform[0,1]=-np.sin(theta)\n",
    "    return transform\n",
    "\n",
    "\n",
    "def Transl(x,y, z):\n",
    "    transform=np.eye(4)\n",
    "    \n",
    "    transform[0,3]=x\n",
    "    transform[1,3]=y\n",
    "    transform[2,3]=z\n",
    "    \n",
    "    return transform\n",
    "\n",
    "#def HDtransfromation(d,theta,a, alpha): # HD stands for hartenberg-denavit:\n",
    "def HDtransfromation(params): # HD stands for hartenberg-denavit:\n",
    "    d = params['d']\n",
    "    theta = params['theta']\n",
    "    a = params['a']\n",
    "    alpha = params['alpha']\n",
    "    #return np.dot(Transl(0,0,d), np.dot(Rx(alpha), np.dot(Transl(a, 0, 0), Rz(theta))))\n",
    "    return np.dot(Rx(alpha), np.dot(Transl(a, 0, 0), np.dot(Rz(theta), Transl(0,0,d))))\n",
    "    \n",
    "def Transform2Base(df): \n",
    "    single_trans_list = [HDtransfromation(dict(df.loc[i])) for i in range(len(df))]\n",
    "\n",
    "    total = []\n",
    "    total.append(single_trans_list[0])\n",
    "    for i in range(1, len(single_trans_list)): \n",
    "        total.append(np.dot(total[i-1], single_trans_list[i]))\n",
    "    return total\n"
   ]
  },
  {
   "cell_type": "markdown",
   "metadata": {},
   "source": [
    "### These are the HD parameters\n",
    "\n"
   ]
  },
  {
   "cell_type": "code",
   "execution_count": 3,
   "metadata": {},
   "outputs": [
    {
     "data": {
      "text/html": [
       "<div>\n",
       "<style scoped>\n",
       "    .dataframe tbody tr th:only-of-type {\n",
       "        vertical-align: middle;\n",
       "    }\n",
       "\n",
       "    .dataframe tbody tr th {\n",
       "        vertical-align: top;\n",
       "    }\n",
       "\n",
       "    .dataframe thead th {\n",
       "        text-align: right;\n",
       "    }\n",
       "</style>\n",
       "<table border=\"1\" class=\"dataframe\">\n",
       "  <thead>\n",
       "    <tr style=\"text-align: right;\">\n",
       "      <th></th>\n",
       "      <th>a</th>\n",
       "      <th>d</th>\n",
       "      <th>alpha</th>\n",
       "      <th>theta</th>\n",
       "    </tr>\n",
       "  </thead>\n",
       "  <tbody>\n",
       "    <tr>\n",
       "      <th>0</th>\n",
       "      <td>0.0000</td>\n",
       "      <td>0.333</td>\n",
       "      <td>0.000000</td>\n",
       "      <td>0.0</td>\n",
       "    </tr>\n",
       "    <tr>\n",
       "      <th>1</th>\n",
       "      <td>0.0000</td>\n",
       "      <td>0.000</td>\n",
       "      <td>-1.570796</td>\n",
       "      <td>0.0</td>\n",
       "    </tr>\n",
       "    <tr>\n",
       "      <th>2</th>\n",
       "      <td>0.0000</td>\n",
       "      <td>0.316</td>\n",
       "      <td>1.570796</td>\n",
       "      <td>0.0</td>\n",
       "    </tr>\n",
       "    <tr>\n",
       "      <th>3</th>\n",
       "      <td>0.0825</td>\n",
       "      <td>0.000</td>\n",
       "      <td>1.570796</td>\n",
       "      <td>0.0</td>\n",
       "    </tr>\n",
       "    <tr>\n",
       "      <th>4</th>\n",
       "      <td>-0.0825</td>\n",
       "      <td>0.384</td>\n",
       "      <td>-1.570796</td>\n",
       "      <td>0.0</td>\n",
       "    </tr>\n",
       "    <tr>\n",
       "      <th>5</th>\n",
       "      <td>0.0000</td>\n",
       "      <td>0.000</td>\n",
       "      <td>1.570796</td>\n",
       "      <td>0.0</td>\n",
       "    </tr>\n",
       "    <tr>\n",
       "      <th>6</th>\n",
       "      <td>0.0880</td>\n",
       "      <td>0.000</td>\n",
       "      <td>1.570796</td>\n",
       "      <td>0.0</td>\n",
       "    </tr>\n",
       "    <tr>\n",
       "      <th>7</th>\n",
       "      <td>0.0000</td>\n",
       "      <td>0.107</td>\n",
       "      <td>0.000000</td>\n",
       "      <td>0.0</td>\n",
       "    </tr>\n",
       "  </tbody>\n",
       "</table>\n",
       "</div>"
      ],
      "text/plain": [
       "        a      d     alpha  theta\n",
       "0  0.0000  0.333  0.000000    0.0\n",
       "1  0.0000  0.000 -1.570796    0.0\n",
       "2  0.0000  0.316  1.570796    0.0\n",
       "3  0.0825  0.000  1.570796    0.0\n",
       "4 -0.0825  0.384 -1.570796    0.0\n",
       "5  0.0000  0.000  1.570796    0.0\n",
       "6  0.0880  0.000  1.570796    0.0\n",
       "7  0.0000  0.107  0.000000    0.0"
      ]
     },
     "execution_count": 3,
     "metadata": {},
     "output_type": "execute_result"
    }
   ],
   "source": [
    "A=np.array([ 0,0,0,0.0825,-0.0825,0,0.088,0])\n",
    "D=np.array([ 0.333,0,0.316,0,0.384,0,0,0.107])\n",
    "Alph=(np.pi/2)*(np.array([0,-1,1,1,-1,1,1,0]))\n",
    "Thet=np.zeros(8)\n",
    "#Thet[:7] = np.nan\n",
    "d = {'a':A, 'd':D,'alpha':Alph, 'theta': Thet}\n",
    "df = pd.DataFrame(d)\n",
    "df"
   ]
  },
  {
   "cell_type": "markdown",
   "metadata": {},
   "source": [
    "### Positions of the joints where all thetas are equal to 0\n",
    "\n"
   ]
  },
  {
   "cell_type": "code",
   "execution_count": 4,
   "metadata": {},
   "outputs": [
    {
     "name": "stdout",
     "output_type": "stream",
     "text": [
      "[0.    0.    0.333 1.   ]\n",
      "[0.    0.    0.333 1.   ]\n",
      "[0.    0.    0.649 1.   ]\n",
      "[0.082 0.    0.649 1.   ]\n",
      "[0.    0.    1.033 1.   ]\n",
      "[0.    0.    1.033 1.   ]\n",
      "[0.088 0.    1.033 1.   ]\n",
      "[ 0.088 -0.     0.926  1.   ]\n"
     ]
    }
   ],
   "source": [
    "for ourmatrix in Transform2Base(df):\n",
    "    print(np.round(np.dot(ourmatrix , np.array((0,0,0,1)) ), 3))"
   ]
  },
  {
   "cell_type": "code",
   "execution_count": 5,
   "metadata": {},
   "outputs": [
    {
     "name": "stdout",
     "output_type": "stream",
     "text": [
      "[[1.    0.    0.    0.   ]\n",
      " [0.    1.    0.    0.   ]\n",
      " [0.    0.    1.    0.333]\n",
      " [0.    0.    0.    1.   ]]\n",
      "\r\n",
      "[[ 1.  0.  0.  0.]\n",
      " [ 0.  0.  1.  0.]\n",
      " [ 0. -1.  0.  0.]\n",
      " [ 0.  0.  0.  1.]]\n",
      "\r\n",
      "[[ 1.     0.     0.     0.   ]\n",
      " [ 0.     0.    -1.    -0.316]\n",
      " [ 0.     1.     0.     0.   ]\n",
      " [ 0.     0.     0.     1.   ]]\n",
      "\r\n",
      "[[ 1.     0.     0.     0.082]\n",
      " [ 0.     0.    -1.     0.   ]\n",
      " [ 0.     1.     0.     0.   ]\n",
      " [ 0.     0.     0.     1.   ]]\n",
      "\r\n",
      "[[ 1.     0.     0.    -0.082]\n",
      " [ 0.     0.     1.     0.384]\n",
      " [ 0.    -1.     0.     0.   ]\n",
      " [ 0.     0.     0.     1.   ]]\n",
      "\r\n",
      "[[ 1.  0.  0.  0.]\n",
      " [ 0.  0. -1.  0.]\n",
      " [ 0.  1.  0.  0.]\n",
      " [ 0.  0.  0.  1.]]\n",
      "\r\n",
      "[[ 1.     0.     0.     0.088]\n",
      " [ 0.     0.    -1.     0.   ]\n",
      " [ 0.     1.     0.     0.   ]\n",
      " [ 0.     0.     0.     1.   ]]\n",
      "\r\n",
      "[[1.    0.    0.    0.   ]\n",
      " [0.    1.    0.    0.   ]\n",
      " [0.    0.    1.    0.107]\n",
      " [0.    0.    0.    1.   ]]\n",
      "\r\n"
     ]
    }
   ],
   "source": [
    "for i in range(len(df)): \n",
    "    print(np.round(HDtransfromation(dict(df.loc[i])), 3))\n",
    "    print('\\r')"
   ]
  },
  {
   "cell_type": "code",
   "execution_count": null,
   "metadata": {},
   "outputs": [],
   "source": []
  },
  {
   "cell_type": "code",
   "execution_count": null,
   "metadata": {},
   "outputs": [],
   "source": []
  }
 ],
 "metadata": {
  "kernelspec": {
   "display_name": "Python 3",
   "language": "python",
   "name": "python3"
  },
  "language_info": {
   "codemirror_mode": {
    "name": "ipython",
    "version": 3
   },
   "file_extension": ".py",
   "mimetype": "text/x-python",
   "name": "python",
   "nbconvert_exporter": "python",
   "pygments_lexer": "ipython3",
   "version": "3.6.5"
  }
 },
 "nbformat": 4,
 "nbformat_minor": 2
}
